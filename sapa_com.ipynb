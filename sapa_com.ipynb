{
 "cells": [
  {
   "cell_type": "markdown",
   "metadata": {},
   "source": [
    "Sapa.com is one of the leading eCommerce platforms in Nigeria with millions of daily complete transactions. The goods and services on sapa.com cater for both the elite and the masses which makes it the first choice for almost everybody in Nigeria. Due to the COVID-19 pandemic that struck the entire world in all areas of living, the companies' daily complete transactions have dropped drastically to thousands.\n",
    "\n",
    "The CEO, Mr Echoke in his recent actions to put the platform back to the top of the eCommerce platforms chain in the country has approved the use of Artificial intelligence in User Personality Analysis. The company has contracted to build an AI System with a special focus on recommender system development to build a robust intelligent model capable of recommending products and services to Users based on their activities on sapa.com.\n",
    "\n",
    "I build a model capable of predicting users’ responses to marketing campaigns based on the features in the provided dataset by the sapa.com data engineer. The next phase of the project was highly dependent on the accuracy of my model as this was the foundation of what will constitute the features of the proposed recommender system development. \n",
    "Good luck!\n",
    "\n",
    "It was a great task \n",
    "\n",
    "DATASETS\n",
    "\n",
    "train.csv: contains the target. This is the dataset that you will use to train your model.\n",
    "test.csv- resembles train.csv but without the target-related columns. This is the dataset on which you will apply your model to.\n",
    "sample_submission.csv: shows the submission format for the project, with the ‘ID’ column mirroring that of test.csv and the ‘target’ column containing my predictions. The order of the rows does not matter, but the names of the ID must be correct.\n",
    "\n",
    "    \n",
    "VARIABLE DEFINITIONS\n",
    "\n",
    "ID: Unique identifier for each User\n",
    "\n",
    "Year_of_Birth: Year of birth\n",
    "\n",
    "Education_Level: The highest level of education attained by the User\n",
    "\n",
    "Marital_Status: Marital status\n",
    "\n",
    "Disposable_Income: Yearly User’s household disposable income\n",
    "\n",
    "No_of_Kids_in_home: total count of children in the user’s home\n",
    "\n",
    "No_of_Teen_in_home: Number of teenagers in the User's household\n",
    "\n",
    "Date_User: Date of User's enrollment with the company\n",
    "\n",
    "Recency: Number of days since User's last purchase\n",
    "\n",
    "Discounted_Purchases: Counts of purchases made by the user using coupons\n",
    "\n",
    "WebPurchases: Counts of purchases made by the user through the company’s website\n",
    "\n",
    "CatalogPurchases: Counts of purchases made by the user using a catalogue\n",
    "\n",
    "StorePurchases: Counts of purchases made by the user directly in stores\n",
    "\n",
    "Amount_on_Wines: Total amount user spent on wine and drinks within the last 3 years\n",
    "\n",
    "Amount_on_Fruits: Total amount user spent on fruity food within the last 3 years\n",
    "\n",
    "Amount_on_MeatProducts: Total amount user spent on meat products and livestock within the last 3 years\n",
    "\n",
    "Amount_on_FishProducts: Total amount user spent on fish alone within the last 3 years\n",
    "\n",
    "Amount_on_SweetProducts: Total amount user spent on sweets and chocolates within the last 3 years\n",
    "\n",
    "Amount_on_GoldProds: Total amount user spent on golden products within the last 3 years\n",
    "\n",
    "WebVisitsMonth: The number of times the user of visits to company’s website within the last 4 weeks\n",
    "\n",
    "Cmp3Accepted: 1: Offer was accepted after the third campaign, 0 otherwise\n",
    "\n",
    "Cmp4Accepted: 1: Offer was accepted after the fourth campaign, 0 otherwise\n",
    "\n",
    "Cmp5Accepted: 1: Offer was accepted after the fifth campaign, 0 otherwise\n",
    "\n",
    "Cmp1Accepted: 1: Offer was accepted after the first campaign, 0 otherwise\n",
    "\n",
    "Cmp2Accepted: 1: Offer was accepted after the second campaign, 0 otherwise\n",
    "\n",
    "Any_Complain: 1 if the user has a compliant history with the platform in the last 3 years, 0 otherwise\n",
    "\n",
    "User_Response: 1: indicates the acceptance of offer and 0 otherwise"
   ]
  },
  {
   "cell_type": "markdown",
   "metadata": {},
   "source": [
    "## Importing LIbraries"
   ]
  },
  {
   "cell_type": "code",
   "execution_count": 1,
   "metadata": {},
   "outputs": [],
   "source": [
    "import pandas as pd\n",
    "import numpy as np\n",
    "import seaborn as sns\n",
    "\n",
    "import warnings\n",
    "warnings.filterwarnings('ignore')\n",
    "\n",
    "import matplotlib.pyplot as plt\n",
    "import seaborn as sns\n",
    "\n",
    "\n",
    "from sklearn import preprocessing\n",
    "import sklearn.model_selection as ms\n",
    "from sklearn import linear_model\n",
    "import sklearn.metrics as sklm\n",
    "\n",
    "import numpy.random as nr\n",
    "import matplotlib.pyplot as plt\n",
    "\n",
    "import scipy.stats as ss\n",
    "import math\n",
    "\n",
    "\n",
    "%matplotlib inline\n"
   ]
  },
  {
   "cell_type": "code",
   "execution_count": 2,
   "metadata": {},
   "outputs": [],
   "source": [
    "pd.set_option('display.max_columns', None)\n",
    "pd.set_option('display.max_rows', None)"
   ]
  },
  {
   "cell_type": "markdown",
   "metadata": {},
   "source": [
    "## Loading Data"
   ]
  },
  {
   "cell_type": "code",
   "execution_count": 3,
   "metadata": {},
   "outputs": [
    {
     "data": {
      "text/html": [
       "<div>\n",
       "<style scoped>\n",
       "    .dataframe tbody tr th:only-of-type {\n",
       "        vertical-align: middle;\n",
       "    }\n",
       "\n",
       "    .dataframe tbody tr th {\n",
       "        vertical-align: top;\n",
       "    }\n",
       "\n",
       "    .dataframe thead th {\n",
       "        text-align: right;\n",
       "    }\n",
       "</style>\n",
       "<table border=\"1\" class=\"dataframe\">\n",
       "  <thead>\n",
       "    <tr style=\"text-align: right;\">\n",
       "      <th></th>\n",
       "      <th>ID</th>\n",
       "      <th>Year_of_Birth</th>\n",
       "      <th>Education_Level</th>\n",
       "      <th>Marital_Status</th>\n",
       "      <th>Disposable_Income</th>\n",
       "      <th>No_of_Kids_in_home</th>\n",
       "      <th>No_of_Teen_in_home</th>\n",
       "      <th>Date_Customer</th>\n",
       "      <th>Recency</th>\n",
       "      <th>Discounted_Purchases</th>\n",
       "      <th>WebPurchases</th>\n",
       "      <th>CatalogPurchases</th>\n",
       "      <th>StorePurchases</th>\n",
       "      <th>Amount_on_Wines</th>\n",
       "      <th>Amount_on_Fruits</th>\n",
       "      <th>Amount_on_MeatProducts</th>\n",
       "      <th>Amount_on_FishProducts</th>\n",
       "      <th>Amount_on_SweetProducts</th>\n",
       "      <th>Amount_on_GoldProds</th>\n",
       "      <th>WebVisitsMonth</th>\n",
       "      <th>Cmp3Accepted</th>\n",
       "      <th>Cmp4Accepted</th>\n",
       "      <th>Cmp5Accepted</th>\n",
       "      <th>Cmp1Accepted</th>\n",
       "      <th>Cmp2Accepted</th>\n",
       "      <th>Any_Complain</th>\n",
       "      <th>Response</th>\n",
       "    </tr>\n",
       "  </thead>\n",
       "  <tbody>\n",
       "    <tr>\n",
       "      <th>0</th>\n",
       "      <td>ID_4A9AR6FQ</td>\n",
       "      <td>1955</td>\n",
       "      <td>Graduation</td>\n",
       "      <td>Divorced</td>\n",
       "      <td>77504.4</td>\n",
       "      <td>1</td>\n",
       "      <td>1</td>\n",
       "      <td>2014-06-22</td>\n",
       "      <td>56</td>\n",
       "      <td>2</td>\n",
       "      <td>1</td>\n",
       "      <td>1</td>\n",
       "      <td>4</td>\n",
       "      <td>71</td>\n",
       "      <td>3</td>\n",
       "      <td>16</td>\n",
       "      <td>0</td>\n",
       "      <td>6</td>\n",
       "      <td>20</td>\n",
       "      <td>3</td>\n",
       "      <td>0</td>\n",
       "      <td>0</td>\n",
       "      <td>0</td>\n",
       "      <td>0</td>\n",
       "      <td>0</td>\n",
       "      <td>0</td>\n",
       "      <td>0</td>\n",
       "    </tr>\n",
       "    <tr>\n",
       "      <th>1</th>\n",
       "      <td>ID_X28T3VEK</td>\n",
       "      <td>1958</td>\n",
       "      <td>Graduation</td>\n",
       "      <td>Together</td>\n",
       "      <td>56784.0</td>\n",
       "      <td>0</td>\n",
       "      <td>1</td>\n",
       "      <td>2013-01-08</td>\n",
       "      <td>17</td>\n",
       "      <td>6</td>\n",
       "      <td>5</td>\n",
       "      <td>1</td>\n",
       "      <td>8</td>\n",
       "      <td>205</td>\n",
       "      <td>22</td>\n",
       "      <td>111</td>\n",
       "      <td>50</td>\n",
       "      <td>15</td>\n",
       "      <td>19</td>\n",
       "      <td>6</td>\n",
       "      <td>0</td>\n",
       "      <td>0</td>\n",
       "      <td>0</td>\n",
       "      <td>0</td>\n",
       "      <td>0</td>\n",
       "      <td>0</td>\n",
       "      <td>0</td>\n",
       "    </tr>\n",
       "    <tr>\n",
       "      <th>2</th>\n",
       "      <td>ID_AWXARH57</td>\n",
       "      <td>1962</td>\n",
       "      <td>Graduation</td>\n",
       "      <td>Single</td>\n",
       "      <td>103714.8</td>\n",
       "      <td>0</td>\n",
       "      <td>0</td>\n",
       "      <td>2013-11-21</td>\n",
       "      <td>17</td>\n",
       "      <td>0</td>\n",
       "      <td>7</td>\n",
       "      <td>4</td>\n",
       "      <td>7</td>\n",
       "      <td>469</td>\n",
       "      <td>31</td>\n",
       "      <td>873</td>\n",
       "      <td>29</td>\n",
       "      <td>18</td>\n",
       "      <td>37</td>\n",
       "      <td>2</td>\n",
       "      <td>0</td>\n",
       "      <td>0</td>\n",
       "      <td>0</td>\n",
       "      <td>1</td>\n",
       "      <td>0</td>\n",
       "      <td>0</td>\n",
       "      <td>1</td>\n",
       "    </tr>\n",
       "    <tr>\n",
       "      <th>3</th>\n",
       "      <td>ID_FQVZHE81</td>\n",
       "      <td>1979</td>\n",
       "      <td>2n Cycle</td>\n",
       "      <td>Single</td>\n",
       "      <td>46311.6</td>\n",
       "      <td>1</td>\n",
       "      <td>0</td>\n",
       "      <td>2013-09-13</td>\n",
       "      <td>49</td>\n",
       "      <td>3</td>\n",
       "      <td>4</td>\n",
       "      <td>1</td>\n",
       "      <td>3</td>\n",
       "      <td>56</td>\n",
       "      <td>15</td>\n",
       "      <td>49</td>\n",
       "      <td>17</td>\n",
       "      <td>24</td>\n",
       "      <td>24</td>\n",
       "      <td>8</td>\n",
       "      <td>0</td>\n",
       "      <td>0</td>\n",
       "      <td>0</td>\n",
       "      <td>0</td>\n",
       "      <td>0</td>\n",
       "      <td>0</td>\n",
       "      <td>0</td>\n",
       "    </tr>\n",
       "    <tr>\n",
       "      <th>4</th>\n",
       "      <td>ID_QVLWGPRN</td>\n",
       "      <td>1959</td>\n",
       "      <td>Graduation</td>\n",
       "      <td>Married</td>\n",
       "      <td>87486.0</td>\n",
       "      <td>0</td>\n",
       "      <td>0</td>\n",
       "      <td>2014-01-21</td>\n",
       "      <td>59</td>\n",
       "      <td>1</td>\n",
       "      <td>3</td>\n",
       "      <td>7</td>\n",
       "      <td>9</td>\n",
       "      <td>412</td>\n",
       "      <td>117</td>\n",
       "      <td>445</td>\n",
       "      <td>181</td>\n",
       "      <td>165</td>\n",
       "      <td>203</td>\n",
       "      <td>1</td>\n",
       "      <td>0</td>\n",
       "      <td>0</td>\n",
       "      <td>0</td>\n",
       "      <td>1</td>\n",
       "      <td>0</td>\n",
       "      <td>0</td>\n",
       "      <td>0</td>\n",
       "    </tr>\n",
       "  </tbody>\n",
       "</table>\n",
       "</div>"
      ],
      "text/plain": [
       "            ID  Year_of_Birth Education_Level Marital_Status  \\\n",
       "0  ID_4A9AR6FQ           1955      Graduation       Divorced   \n",
       "1  ID_X28T3VEK           1958      Graduation       Together   \n",
       "2  ID_AWXARH57           1962      Graduation         Single   \n",
       "3  ID_FQVZHE81           1979        2n Cycle         Single   \n",
       "4  ID_QVLWGPRN           1959      Graduation        Married   \n",
       "\n",
       "   Disposable_Income  No_of_Kids_in_home  No_of_Teen_in_home Date_Customer  \\\n",
       "0            77504.4                   1                   1    2014-06-22   \n",
       "1            56784.0                   0                   1    2013-01-08   \n",
       "2           103714.8                   0                   0    2013-11-21   \n",
       "3            46311.6                   1                   0    2013-09-13   \n",
       "4            87486.0                   0                   0    2014-01-21   \n",
       "\n",
       "   Recency  Discounted_Purchases  WebPurchases  CatalogPurchases  \\\n",
       "0       56                     2             1                 1   \n",
       "1       17                     6             5                 1   \n",
       "2       17                     0             7                 4   \n",
       "3       49                     3             4                 1   \n",
       "4       59                     1             3                 7   \n",
       "\n",
       "   StorePurchases  Amount_on_Wines  Amount_on_Fruits  Amount_on_MeatProducts  \\\n",
       "0               4               71                 3                      16   \n",
       "1               8              205                22                     111   \n",
       "2               7              469                31                     873   \n",
       "3               3               56                15                      49   \n",
       "4               9              412               117                     445   \n",
       "\n",
       "   Amount_on_FishProducts  Amount_on_SweetProducts  Amount_on_GoldProds  \\\n",
       "0                       0                        6                   20   \n",
       "1                      50                       15                   19   \n",
       "2                      29                       18                   37   \n",
       "3                      17                       24                   24   \n",
       "4                     181                      165                  203   \n",
       "\n",
       "   WebVisitsMonth  Cmp3Accepted  Cmp4Accepted  Cmp5Accepted  Cmp1Accepted  \\\n",
       "0               3             0             0             0             0   \n",
       "1               6             0             0             0             0   \n",
       "2               2             0             0             0             1   \n",
       "3               8             0             0             0             0   \n",
       "4               1             0             0             0             1   \n",
       "\n",
       "   Cmp2Accepted  Any_Complain  Response  \n",
       "0             0             0         0  \n",
       "1             0             0         0  \n",
       "2             0             0         1  \n",
       "3             0             0         0  \n",
       "4             0             0         0  "
      ]
     },
     "execution_count": 3,
     "metadata": {},
     "output_type": "execute_result"
    }
   ],
   "source": [
    "train_data= pd.read_csv('train.csv', parse_dates=['Date_Customer'])\n",
    "test_data= pd.read_csv('test.csv',parse_dates=['Date_Customer'])\n",
    "train_data.head(5)"
   ]
  },
  {
   "cell_type": "code",
   "execution_count": 4,
   "metadata": {},
   "outputs": [
    {
     "name": "stdout",
     "output_type": "stream",
     "text": [
      "<class 'pandas.core.frame.DataFrame'>\n",
      "RangeIndex: 1568 entries, 0 to 1567\n",
      "Data columns (total 27 columns):\n",
      " #   Column                   Non-Null Count  Dtype         \n",
      "---  ------                   --------------  -----         \n",
      " 0   ID                       1568 non-null   object        \n",
      " 1   Year_of_Birth            1568 non-null   int64         \n",
      " 2   Education_Level          1568 non-null   object        \n",
      " 3   Marital_Status           1568 non-null   object        \n",
      " 4   Disposable_Income        1552 non-null   float64       \n",
      " 5   No_of_Kids_in_home       1568 non-null   int64         \n",
      " 6   No_of_Teen_in_home       1568 non-null   int64         \n",
      " 7   Date_Customer            1568 non-null   datetime64[ns]\n",
      " 8   Recency                  1568 non-null   int64         \n",
      " 9   Discounted_Purchases     1568 non-null   int64         \n",
      " 10  WebPurchases             1568 non-null   int64         \n",
      " 11  CatalogPurchases         1568 non-null   int64         \n",
      " 12  StorePurchases           1568 non-null   int64         \n",
      " 13  Amount_on_Wines          1568 non-null   int64         \n",
      " 14  Amount_on_Fruits         1568 non-null   int64         \n",
      " 15  Amount_on_MeatProducts   1568 non-null   int64         \n",
      " 16  Amount_on_FishProducts   1568 non-null   int64         \n",
      " 17  Amount_on_SweetProducts  1568 non-null   int64         \n",
      " 18  Amount_on_GoldProds      1568 non-null   int64         \n",
      " 19  WebVisitsMonth           1568 non-null   int64         \n",
      " 20  Cmp3Accepted             1568 non-null   int64         \n",
      " 21  Cmp4Accepted             1568 non-null   int64         \n",
      " 22  Cmp5Accepted             1568 non-null   int64         \n",
      " 23  Cmp1Accepted             1568 non-null   int64         \n",
      " 24  Cmp2Accepted             1568 non-null   int64         \n",
      " 25  Any_Complain             1568 non-null   int64         \n",
      " 26  Response                 1568 non-null   int64         \n",
      "dtypes: datetime64[ns](1), float64(1), int64(22), object(3)\n",
      "memory usage: 330.9+ KB\n"
     ]
    }
   ],
   "source": [
    "train_data.info()"
   ]
  },
  {
   "cell_type": "code",
   "execution_count": 5,
   "metadata": {},
   "outputs": [
    {
     "name": "stdout",
     "output_type": "stream",
     "text": [
      "<class 'pandas.core.frame.DataFrame'>\n",
      "RangeIndex: 672 entries, 0 to 671\n",
      "Data columns (total 26 columns):\n",
      " #   Column                   Non-Null Count  Dtype         \n",
      "---  ------                   --------------  -----         \n",
      " 0   ID                       672 non-null    object        \n",
      " 1   Year_of_Birth            672 non-null    int64         \n",
      " 2   Education_Level          672 non-null    object        \n",
      " 3   Marital_Status           672 non-null    object        \n",
      " 4   Disposable_Income        664 non-null    float64       \n",
      " 5   No_of_Kids_in_home       672 non-null    int64         \n",
      " 6   No_of_Teen_in_home       672 non-null    int64         \n",
      " 7   Date_Customer            672 non-null    datetime64[ns]\n",
      " 8   Recency                  672 non-null    int64         \n",
      " 9   Discounted_Purchases     672 non-null    int64         \n",
      " 10  WebPurchases             672 non-null    int64         \n",
      " 11  CatalogPurchases         672 non-null    int64         \n",
      " 12  StorePurchases           672 non-null    int64         \n",
      " 13  Amount_on_Wines          672 non-null    int64         \n",
      " 14  Amount_on_Fruits         672 non-null    int64         \n",
      " 15  Amount_on_MeatProducts   672 non-null    int64         \n",
      " 16  Amount_on_FishProducts   672 non-null    int64         \n",
      " 17  Amount_on_SweetProducts  672 non-null    int64         \n",
      " 18  Amount_on_GoldProds      672 non-null    int64         \n",
      " 19  WebVisitsMonth           672 non-null    int64         \n",
      " 20  Cmp3Accepted             672 non-null    int64         \n",
      " 21  Cmp4Accepted             672 non-null    int64         \n",
      " 22  Cmp5Accepted             672 non-null    int64         \n",
      " 23  Cmp1Accepted             672 non-null    int64         \n",
      " 24  Cmp2Accepted             672 non-null    int64         \n",
      " 25  Any_Complain             672 non-null    int64         \n",
      "dtypes: datetime64[ns](1), float64(1), int64(21), object(3)\n",
      "memory usage: 136.6+ KB\n"
     ]
    }
   ],
   "source": [
    "test_data.info()"
   ]
  },
  {
   "cell_type": "code",
   "execution_count": 6,
   "metadata": {},
   "outputs": [
    {
     "data": {
      "text/plain": [
       "ID                                 object\n",
       "Year_of_Birth                       int64\n",
       "Education_Level                    object\n",
       "Marital_Status                     object\n",
       "Disposable_Income                 float64\n",
       "No_of_Kids_in_home                  int64\n",
       "No_of_Teen_in_home                  int64\n",
       "Date_Customer              datetime64[ns]\n",
       "Recency                             int64\n",
       "Discounted_Purchases                int64\n",
       "WebPurchases                        int64\n",
       "CatalogPurchases                    int64\n",
       "StorePurchases                      int64\n",
       "Amount_on_Wines                     int64\n",
       "Amount_on_Fruits                    int64\n",
       "Amount_on_MeatProducts              int64\n",
       "Amount_on_FishProducts              int64\n",
       "Amount_on_SweetProducts             int64\n",
       "Amount_on_GoldProds                 int64\n",
       "WebVisitsMonth                      int64\n",
       "Cmp3Accepted                        int64\n",
       "Cmp4Accepted                        int64\n",
       "Cmp5Accepted                        int64\n",
       "Cmp1Accepted                        int64\n",
       "Cmp2Accepted                        int64\n",
       "Any_Complain                        int64\n",
       "Response                            int64\n",
       "dtype: object"
      ]
     },
     "execution_count": 6,
     "metadata": {},
     "output_type": "execute_result"
    }
   ],
   "source": [
    "train_data.dtypes"
   ]
  },
  {
   "cell_type": "code",
   "execution_count": 7,
   "metadata": {},
   "outputs": [
    {
     "data": {
      "text/plain": [
       "ID                                 object\n",
       "Year_of_Birth                       int64\n",
       "Education_Level                    object\n",
       "Marital_Status                     object\n",
       "Disposable_Income                 float64\n",
       "No_of_Kids_in_home                  int64\n",
       "No_of_Teen_in_home                  int64\n",
       "Date_Customer              datetime64[ns]\n",
       "Recency                             int64\n",
       "Discounted_Purchases                int64\n",
       "WebPurchases                        int64\n",
       "CatalogPurchases                    int64\n",
       "StorePurchases                      int64\n",
       "Amount_on_Wines                     int64\n",
       "Amount_on_Fruits                    int64\n",
       "Amount_on_MeatProducts              int64\n",
       "Amount_on_FishProducts              int64\n",
       "Amount_on_SweetProducts             int64\n",
       "Amount_on_GoldProds                 int64\n",
       "WebVisitsMonth                      int64\n",
       "Cmp3Accepted                        int64\n",
       "Cmp4Accepted                        int64\n",
       "Cmp5Accepted                        int64\n",
       "Cmp1Accepted                        int64\n",
       "Cmp2Accepted                        int64\n",
       "Any_Complain                        int64\n",
       "dtype: object"
      ]
     },
     "execution_count": 7,
     "metadata": {},
     "output_type": "execute_result"
    }
   ],
   "source": [
    "test_data.dtypes"
   ]
  },
  {
   "cell_type": "code",
   "execution_count": 8,
   "metadata": {},
   "outputs": [
    {
     "data": {
      "text/plain": [
       "array(['Divorced', 'Together', 'Single', 'Married', 'Widow', 'Alone',\n",
       "       'Absurd', 'YOLO'], dtype=object)"
      ]
     },
     "execution_count": 8,
     "metadata": {},
     "output_type": "execute_result"
    }
   ],
   "source": [
    "train_data['Marital_Status'].unique()"
   ]
  },
  {
   "cell_type": "code",
   "execution_count": 9,
   "metadata": {},
   "outputs": [
    {
     "data": {
      "text/plain": [
       "Married     615\n",
       "Together    409\n",
       "Single      329\n",
       "Divorced    159\n",
       "Widow        50\n",
       "Alone         3\n",
       "YOLO          2\n",
       "Absurd        1\n",
       "Name: Marital_Status, dtype: int64"
      ]
     },
     "execution_count": 9,
     "metadata": {},
     "output_type": "execute_result"
    }
   ],
   "source": [
    "train_data['Marital_Status'].value_counts()"
   ]
  },
  {
   "cell_type": "code",
   "execution_count": 10,
   "metadata": {},
   "outputs": [
    {
     "data": {
      "text/plain": [
       "0    1329\n",
       "1     239\n",
       "Name: Response, dtype: int64"
      ]
     },
     "execution_count": 10,
     "metadata": {},
     "output_type": "execute_result"
    }
   ],
   "source": [
    "train_data['Response'].value_counts()"
   ]
  },
  {
   "cell_type": "code",
   "execution_count": 11,
   "metadata": {},
   "outputs": [
    {
     "data": {
      "text/plain": [
       "<matplotlib.axes._subplots.AxesSubplot at 0x25a9733a970>"
      ]
     },
     "execution_count": 11,
     "metadata": {},
     "output_type": "execute_result"
    },
    {
     "data": {
      "image/png": "[encoded data removed]",
      "text/plain": [
       "<Figure size 432x288 with 1 Axes>"
      ]
     },
     "metadata": {
      "needs_background": "light"
     },
     "output_type": "display_data"
    }
   ],
   "source": [
    "import seaborn as sns\n",
    "sns.heatmap(train_data.isnull(),yticklabels=False,cbar=False,cmap='viridis')"
   ]
  },
  {
   "cell_type": "code",
   "execution_count": 12,
   "metadata": {},
   "outputs": [
    {
     "data": {
      "text/plain": [
       "<matplotlib.axes._subplots.AxesSubplot at 0x25a97c6feb0>"
      ]
     },
     "execution_count": 12,
     "metadata": {},
     "output_type": "execute_result"
    },
    {
     "data": {
      "image/png": "[encoded data removed]",
      "text/plain": [
       "<Figure size 432x288 with 1 Axes>"
      ]
     },
     "metadata": {
      "needs_background": "light"
     },
     "output_type": "display_data"
    }
   ],
   "source": [
    "sns.heatmap(test_data.isnull(),yticklabels=False,cbar=False,cmap='viridis')"
   ]
  },
  {
   "cell_type": "code",
   "execution_count": 13,
   "metadata": {},
   "outputs": [
    {
     "data": {
      "text/plain": [
       "<matplotlib.axes._subplots.AxesSubplot at 0x25a97cc6c40>"
      ]
     },
     "execution_count": 13,
     "metadata": {},
     "output_type": "execute_result"
    },
    {
     "data": {
      "image/png": "[encoded data removed]",
      "text/plain": [
       "<Figure size 432x288 with 1 Axes>"
      ]
     },
     "metadata": {
      "needs_background": "light"
     },
     "output_type": "display_data"
    }
   ],
   "source": [
    "sns.countplot(train_data['Response'])"
   ]
  },
  {
   "cell_type": "code",
   "execution_count": 14,
   "metadata": {},
   "outputs": [],
   "source": [
    "def numeric_distribution_plot(df):\n",
    "    \"\"\"\n",
    "    Description : Gives distribution plot for all the numeric features\n",
    "    in the dataframe passed\n",
    "    \n",
    "    Argument : Dataframe\n",
    "    \"\"\"\n",
    "    for col in df.columns:\n",
    "        if df[col].dtype != 'object':\n",
    "            print(df[col].describe())\n",
    "            plt.figure(figsize=(12,5))\n",
    "            plt.title(\"Distribution of \"+col)\n",
    "            ax = sns.distplot(df[col].dropna())\n",
    "            plt.tight_layout()\n",
    "            plt.show()"
   ]
  },
  {
   "cell_type": "code",
   "execution_count": 15,
   "metadata": {},
   "outputs": [
    {
     "name": "stdout",
     "output_type": "stream",
     "text": [
      "count    1568.000000\n",
      "mean     1970.073342\n",
      "std        11.920781\n",
      "min      1900.000000\n",
      "25%      1960.000000\n",
      "50%      1971.000000\n",
      "75%      1979.000000\n",
      "max      1997.000000\n",
      "Name: Year_of_Birth, dtype: float64\n"
     ]
    },
    {
     "data": {
      "image/png": "[encoded data removed]",
      "text/plain": [
       "<Figure size 864x360 with 1 Axes>"
      ]
     },
     "metadata": {
      "needs_background": "light"
     },
     "output_type": "display_data"
    },
    {
     "name": "stdout",
     "output_type": "stream",
     "text": [
      "count      1552.000000\n",
      "mean      62381.186598\n",
      "std       32089.169563\n",
      "min        2076.000000\n",
      "25%       41612.400000\n",
      "50%       60964.200000\n",
      "75%       81493.200000\n",
      "max      799999.200000\n",
      "Name: Disposable_Income, dtype: float64\n"
     ]
    },
    {
     "data": {
      "image/png": "[encoded data removed]",
      "text/plain": [
       "<Figure size 864x360 with 1 Axes>"
      ]
     },
     "metadata": {
      "needs_background": "light"
     },
     "output_type": "display_data"
    },
    {
     "name": "stdout",
     "output_type": "stream",
     "text": [
      "count    1568.000000\n",
      "mean        0.460459\n",
      "std         0.540361\n",
      "min         0.000000\n",
      "25%         0.000000\n",
      "50%         0.000000\n",
      "75%         1.000000\n",
      "max         2.000000\n",
      "Name: No_of_Kids_in_home, dtype: float64\n"
     ]
    },
    {
     "data": {
      "image/png": "[encoded data removed]",
      "text/plain": [
       "<Figure size 864x360 with 1 Axes>"
      ]
     },
     "metadata": {
      "needs_background": "light"
     },
     "output_type": "display_data"
    },
    {
     "name": "stdout",
     "output_type": "stream",
     "text": [
      "count    1568.000000\n",
      "mean        0.497449\n",
      "std         0.544151\n",
      "min         0.000000\n",
      "25%         0.000000\n",
      "50%         0.000000\n",
      "75%         1.000000\n",
      "max         2.000000\n",
      "Name: No_of_Teen_in_home, dtype: float64\n"
     ]
    },
    {
     "data": {
      "image/png": "[encoded data removed]",
      "text/plain": [
       "<Figure size 864x360 with 1 Axes>"
      ]
     },
     "metadata": {
      "needs_background": "light"
     },
     "output_type": "display_data"
    },
    {
     "name": "stdout",
     "output_type": "stream",
     "text": [
      "count                    1568\n",
      "unique                    619\n",
      "top       2014-12-05 00:00:00\n",
      "freq                       10\n",
      "first     2012-01-08 00:00:00\n",
      "last      2014-12-05 00:00:00\n",
      "Name: Date_Customer, dtype: object\n"
     ]
    },
    {
     "data": {
      "image/png": "[encoded data removed]",
      "text/plain": [
       "<Figure size 864x360 with 1 Axes>"
      ]
     },
     "metadata": {
      "needs_background": "light"
     },
     "output_type": "display_data"
    },
    {
     "name": "stdout",
     "output_type": "stream",
     "text": [
      "count    1568.000000\n",
      "mean       55.408801\n",
      "std        28.788037\n",
      "min         7.000000\n",
      "25%        31.000000\n",
      "50%        56.000000\n",
      "75%        80.000000\n",
      "max       106.000000\n",
      "Name: Recency, dtype: float64\n"
     ]
    },
    {
     "data": {
      "image/png": "[encoded data removed]",
      "text/plain": [
       "<Figure size 864x360 with 1 Axes>"
      ]
     },
     "metadata": {
      "needs_background": "light"
     },
     "output_type": "display_data"
    },
    {
     "name": "stdout",
     "output_type": "stream",
     "text": [
      "count    1568.000000\n",
      "mean        2.292730\n",
      "std         1.937544\n",
      "min         0.000000\n",
      "25%         1.000000\n",
      "50%         2.000000\n",
      "75%         3.000000\n",
      "max        15.000000\n",
      "Name: Discounted_Purchases, dtype: float64\n"
     ]
    },
    {
     "data": {
      "image/png": "[encoded data removed]",
      "text/plain": [
       "<Figure size 864x360 with 1 Axes>"
      ]
     },
     "metadata": {
      "needs_background": "light"
     },
     "output_type": "display_data"
    },
    {
     "name": "stdout",
     "output_type": "stream",
     "text": [
      "count    1568.000000\n",
      "mean        4.001276\n",
      "std         2.773748\n",
      "min         0.000000\n",
      "25%         2.000000\n",
      "50%         3.000000\n",
      "75%         6.000000\n",
      "max        27.000000\n",
      "Name: WebPurchases, dtype: float64\n"
     ]
    },
    {
     "data": {
      "image/png": "[encoded data removed]",
      "text/plain": [
       "<Figure size 864x360 with 1 Axes>"
      ]
     },
     "metadata": {
      "needs_background": "light"
     },
     "output_type": "display_data"
    },
    {
     "name": "stdout",
     "output_type": "stream",
     "text": [
      "count    1568.000000\n",
      "mean        2.665816\n",
      "std         3.043493\n",
      "min         0.000000\n",
      "25%         0.000000\n",
      "50%         2.000000\n",
      "75%         4.000000\n",
      "max        28.000000\n",
      "Name: CatalogPurchases, dtype: float64\n"
     ]
    },
    {
     "data": {
      "image/png": "[encoded data removed]",
      "text/plain": [
       "<Figure size 864x360 with 1 Axes>"
      ]
     },
     "metadata": {
      "needs_background": "light"
     },
     "output_type": "display_data"
    },
    {
     "name": "stdout",
     "output_type": "stream",
     "text": [
      "count    1568.000000\n",
      "mean        5.703444\n",
      "std         3.260553\n",
      "min         0.000000\n",
      "25%         3.000000\n",
      "50%         5.000000\n",
      "75%         8.000000\n",
      "max        13.000000\n",
      "Name: StorePurchases, dtype: float64\n"
     ]
    },
    {
     "data": {
      "image/png": "[encoded data removed]",
      "text/plain": [
       "<Figure size 864x360 with 1 Axes>"
      ]
     },
     "metadata": {
      "needs_background": "light"
     },
     "output_type": "display_data"
    },
    {
     "name": "stdout",
     "output_type": "stream",
     "text": [
      "count    1568.000000\n",
      "mean      303.190051\n",
      "std       340.141396\n",
      "min         5.000000\n",
      "25%        27.000000\n",
      "50%       167.000000\n",
      "75%       499.500000\n",
      "max      1498.000000\n",
      "Name: Amount_on_Wines, dtype: float64\n"
     ]
    },
    {
     "data": {
      "image/png": "[encoded data removed]",
      "text/plain": [
       "<Figure size 864x360 with 1 Axes>"
      ]
     },
     "metadata": {
      "needs_background": "light"
     },
     "output_type": "display_data"
    },
    {
     "name": "stdout",
     "output_type": "stream",
     "text": [
      "count    1568.000000\n",
      "mean       29.091199\n",
      "std        39.565637\n",
      "min         3.000000\n",
      "25%         4.000000\n",
      "50%        11.000000\n",
      "75%        36.000000\n",
      "max       202.000000\n",
      "Name: Amount_on_Fruits, dtype: float64\n"
     ]
    },
    {
     "data": {
      "image/png": "[encoded data removed]",
      "text/plain": [
       "<Figure size 864x360 with 1 Axes>"
      ]
     },
     "metadata": {
      "needs_background": "light"
     },
     "output_type": "display_data"
    },
    {
     "name": "stdout",
     "output_type": "stream",
     "text": [
      "count    1568.000000\n",
      "mean      168.376276\n",
      "std       233.419980\n",
      "min         0.000000\n",
      "25%        15.000000\n",
      "50%        64.000000\n",
      "75%       232.000000\n",
      "max      1725.000000\n",
      "Name: Amount_on_MeatProducts, dtype: float64\n"
     ]
    },
    {
     "data": {
      "image/png": "[encoded data removed]",
      "text/plain": [
       "<Figure size 864x360 with 1 Axes>"
      ]
     },
     "metadata": {
      "needs_background": "light"
     },
     "output_type": "display_data"
    },
    {
     "name": "stdout",
     "output_type": "stream",
     "text": [
      "count    1568.000000\n",
      "mean       37.166454\n",
      "std        53.994951\n",
      "min         0.000000\n",
      "25%         3.000000\n",
      "50%        12.000000\n",
      "75%        49.250000\n",
      "max       259.000000\n",
      "Name: Amount_on_FishProducts, dtype: float64\n"
     ]
    },
    {
     "data": {
      "image/png": "[encoded data removed]",
      "text/plain": [
       "<Figure size 864x360 with 1 Axes>"
      ]
     },
     "metadata": {
      "needs_background": "light"
     },
     "output_type": "display_data"
    },
    {
     "name": "stdout",
     "output_type": "stream",
     "text": [
      "count    1568.000000\n",
      "mean       26.800383\n",
      "std        40.857657\n",
      "min         0.000000\n",
      "25%         1.000000\n",
      "50%         8.000000\n",
      "75%        33.000000\n",
      "max       263.000000\n",
      "Name: Amount_on_SweetProducts, dtype: float64\n"
     ]
    },
    {
     "data": {
      "image/png": "[encoded data removed]",
      "text/plain": [
       "<Figure size 864x360 with 1 Axes>"
      ]
     },
     "metadata": {
      "needs_background": "light"
     },
     "output_type": "display_data"
    },
    {
     "name": "stdout",
     "output_type": "stream",
     "text": [
      "count    1568.000000\n",
      "mean       43.739158\n",
      "std        51.591557\n",
      "min         0.000000\n",
      "25%         8.000000\n",
      "50%        25.000000\n",
      "75%        56.000000\n",
      "max       362.000000\n",
      "Name: Amount_on_GoldProds, dtype: float64\n"
     ]
    },
    {
     "data": {
      "image/png": "[encoded data removed]",
      "text/plain": [
       "<Figure size 864x360 with 1 Axes>"
      ]
     },
     "metadata": {
      "needs_background": "light"
     },
     "output_type": "display_data"
    },
    {
     "name": "stdout",
     "output_type": "stream",
     "text": [
      "count    1568.000000\n",
      "mean        5.326531\n",
      "std         2.468023\n",
      "min         0.000000\n",
      "25%         3.000000\n",
      "50%         6.000000\n",
      "75%         7.000000\n",
      "max        20.000000\n",
      "Name: WebVisitsMonth, dtype: float64\n"
     ]
    },
    {
     "data": {
      "image/png": "[encoded data removed]",
      "text/plain": [
       "<Figure size 864x360 with 1 Axes>"
      ]
     },
     "metadata": {
      "needs_background": "light"
     },
     "output_type": "display_data"
    },
    {
     "name": "stdout",
     "output_type": "stream",
     "text": [
      "count    1568.000000\n",
      "mean        0.072704\n",
      "std         0.259733\n",
      "min         0.000000\n",
      "25%         0.000000\n",
      "50%         0.000000\n",
      "75%         0.000000\n",
      "max         1.000000\n",
      "Name: Cmp3Accepted, dtype: float64\n"
     ]
    },
    {
     "data": {
      "image/png": "[encoded data removed]",
      "text/plain": [
       "<Figure size 864x360 with 1 Axes>"
      ]
     },
     "metadata": {
      "needs_background": "light"
     },
     "output_type": "display_data"
    },
    {
     "name": "stdout",
     "output_type": "stream",
     "text": [
      "count    1568.000000\n",
      "mean        0.072704\n",
      "std         0.259733\n",
      "min         0.000000\n",
      "25%         0.000000\n",
      "50%         0.000000\n",
      "75%         0.000000\n",
      "max         1.000000\n",
      "Name: Cmp4Accepted, dtype: float64\n"
     ]
    },
    {
     "data": {
      "image/png": "[encoded data removed]",
      "text/plain": [
       "<Figure size 864x360 with 1 Axes>"
      ]
     },
     "metadata": {
      "needs_background": "light"
     },
     "output_type": "display_data"
    },
    {
     "name": "stdout",
     "output_type": "stream",
     "text": [
      "count    1568.000000\n",
      "mean        0.080357\n",
      "std         0.271932\n",
      "min         0.000000\n",
      "25%         0.000000\n",
      "50%         0.000000\n",
      "75%         0.000000\n",
      "max         1.000000\n",
      "Name: Cmp5Accepted, dtype: float64\n"
     ]
    },
    {
     "data": {
      "image/png": "[encoded data removed]",
      "text/plain": [
       "<Figure size 864x360 with 1 Axes>"
      ]
     },
     "metadata": {
      "needs_background": "light"
     },
     "output_type": "display_data"
    },
    {
     "name": "stdout",
     "output_type": "stream",
     "text": [
      "count    1568.000000\n",
      "mean        0.064413\n",
      "std         0.245566\n",
      "min         0.000000\n",
      "25%         0.000000\n",
      "50%         0.000000\n",
      "75%         0.000000\n",
      "max         1.000000\n",
      "Name: Cmp1Accepted, dtype: float64\n"
     ]
    },
    {
     "data": {
      "image/png": "[encoded data removed]",
      "text/plain": [
       "<Figure size 864x360 with 1 Axes>"
      ]
     },
     "metadata": {
      "needs_background": "light"
     },
     "output_type": "display_data"
    },
    {
     "name": "stdout",
     "output_type": "stream",
     "text": [
      "count    1568.000000\n",
      "mean        0.012755\n",
      "std         0.112252\n",
      "min         0.000000\n",
      "25%         0.000000\n",
      "50%         0.000000\n",
      "75%         0.000000\n",
      "max         1.000000\n",
      "Name: Cmp2Accepted, dtype: float64\n"
     ]
    },
    {
     "data": {
      "image/png": "[encoded data removed]",
      "text/plain": [
       "<Figure size 864x360 with 1 Axes>"
      ]
     },
     "metadata": {
      "needs_background": "light"
     },
     "output_type": "display_data"
    },
    {
     "name": "stdout",
     "output_type": "stream",
     "text": [
      "count    1568.000000\n",
      "mean        0.008291\n",
      "std         0.090705\n",
      "min         0.000000\n",
      "25%         0.000000\n",
      "50%         0.000000\n",
      "75%         0.000000\n",
      "max         1.000000\n",
      "Name: Any_Complain, dtype: float64\n"
     ]
    },
    {
     "data": {
      "image/png": "[encoded data removed]",
      "text/plain": [
       "<Figure size 864x360 with 1 Axes>"
      ]
     },
     "metadata": {
      "needs_background": "light"
     },
     "output_type": "display_data"
    },
    {
     "name": "stdout",
     "output_type": "stream",
     "text": [
      "count    1568.000000\n",
      "mean        0.152423\n",
      "std         0.359546\n",
      "min         0.000000\n",
      "25%         0.000000\n",
      "50%         0.000000\n",
      "75%         0.000000\n",
      "max         1.000000\n",
      "Name: Response, dtype: float64\n"
     ]
    },
    {
     "data": {
      "image/png": "[encoded data removed]",
      "text/plain": [
       "<Figure size 864x360 with 1 Axes>"
      ]
     },
     "metadata": {
      "needs_background": "light"
     },
     "output_type": "display_data"
    }
   ],
   "source": [
    "numeric_distribution_plot(train_data)"
   ]
  },
  {
   "cell_type": "code",
   "execution_count": null,
   "metadata": {},
   "outputs": [],
   "source": []
  },
  {
   "cell_type": "code",
   "execution_count": null,
   "metadata": {},
   "outputs": [],
   "source": []
  },
  {
   "cell_type": "code",
   "execution_count": null,
   "metadata": {},
   "outputs": [],
   "source": []
  },
  {
   "cell_type": "code",
   "execution_count": null,
   "metadata": {},
   "outputs": [],
   "source": []
  },
  {
   "cell_type": "code",
   "execution_count": 16,
   "metadata": {},
   "outputs": [
    {
     "data": {
      "text/html": [
       "<div>\n",
       "<style scoped>\n",
       "    .dataframe tbody tr th:only-of-type {\n",
       "        vertical-align: middle;\n",
       "    }\n",
       "\n",
       "    .dataframe tbody tr th {\n",
       "        vertical-align: top;\n",
       "    }\n",
       "\n",
       "    .dataframe thead th {\n",
       "        text-align: right;\n",
       "    }\n",
       "</style>\n",
       "<table border=\"1\" class=\"dataframe\">\n",
       "  <thead>\n",
       "    <tr style=\"text-align: right;\">\n",
       "      <th></th>\n",
       "      <th>Year_of_Birth</th>\n",
       "      <th>Disposable_Income</th>\n",
       "      <th>No_of_Kids_in_home</th>\n",
       "      <th>No_of_Teen_in_home</th>\n",
       "      <th>Recency</th>\n",
       "      <th>Discounted_Purchases</th>\n",
       "      <th>WebPurchases</th>\n",
       "      <th>CatalogPurchases</th>\n",
       "      <th>StorePurchases</th>\n",
       "      <th>Amount_on_Wines</th>\n",
       "      <th>Amount_on_Fruits</th>\n",
       "      <th>Amount_on_MeatProducts</th>\n",
       "      <th>Amount_on_FishProducts</th>\n",
       "      <th>Amount_on_SweetProducts</th>\n",
       "      <th>Amount_on_GoldProds</th>\n",
       "      <th>WebVisitsMonth</th>\n",
       "      <th>Cmp3Accepted</th>\n",
       "      <th>Cmp4Accepted</th>\n",
       "      <th>Cmp5Accepted</th>\n",
       "      <th>Cmp1Accepted</th>\n",
       "      <th>Cmp2Accepted</th>\n",
       "      <th>Any_Complain</th>\n",
       "      <th>Response</th>\n",
       "    </tr>\n",
       "  </thead>\n",
       "  <tbody>\n",
       "    <tr>\n",
       "      <th>count</th>\n",
       "      <td>1568.000000</td>\n",
       "      <td>1552.000000</td>\n",
       "      <td>1568.000000</td>\n",
       "      <td>1568.000000</td>\n",
       "      <td>1568.000000</td>\n",
       "      <td>1568.000000</td>\n",
       "      <td>1568.000000</td>\n",
       "      <td>1568.000000</td>\n",
       "      <td>1568.000000</td>\n",
       "      <td>1568.000000</td>\n",
       "      <td>1568.000000</td>\n",
       "      <td>1568.000000</td>\n",
       "      <td>1568.000000</td>\n",
       "      <td>1568.000000</td>\n",
       "      <td>1568.000000</td>\n",
       "      <td>1568.000000</td>\n",
       "      <td>1568.000000</td>\n",
       "      <td>1568.000000</td>\n",
       "      <td>1568.000000</td>\n",
       "      <td>1568.000000</td>\n",
       "      <td>1568.000000</td>\n",
       "      <td>1568.000000</td>\n",
       "      <td>1568.000000</td>\n",
       "    </tr>\n",
       "    <tr>\n",
       "      <th>mean</th>\n",
       "      <td>1970.073342</td>\n",
       "      <td>62381.186598</td>\n",
       "      <td>0.460459</td>\n",
       "      <td>0.497449</td>\n",
       "      <td>55.408801</td>\n",
       "      <td>2.292730</td>\n",
       "      <td>4.001276</td>\n",
       "      <td>2.665816</td>\n",
       "      <td>5.703444</td>\n",
       "      <td>303.190051</td>\n",
       "      <td>29.091199</td>\n",
       "      <td>168.376276</td>\n",
       "      <td>37.166454</td>\n",
       "      <td>26.800383</td>\n",
       "      <td>43.739158</td>\n",
       "      <td>5.326531</td>\n",
       "      <td>0.072704</td>\n",
       "      <td>0.072704</td>\n",
       "      <td>0.080357</td>\n",
       "      <td>0.064413</td>\n",
       "      <td>0.012755</td>\n",
       "      <td>0.008291</td>\n",
       "      <td>0.152423</td>\n",
       "    </tr>\n",
       "    <tr>\n",
       "      <th>std</th>\n",
       "      <td>11.920781</td>\n",
       "      <td>32089.169563</td>\n",
       "      <td>0.540361</td>\n",
       "      <td>0.544151</td>\n",
       "      <td>28.788037</td>\n",
       "      <td>1.937544</td>\n",
       "      <td>2.773748</td>\n",
       "      <td>3.043493</td>\n",
       "      <td>3.260553</td>\n",
       "      <td>340.141396</td>\n",
       "      <td>39.565637</td>\n",
       "      <td>233.419980</td>\n",
       "      <td>53.994951</td>\n",
       "      <td>40.857657</td>\n",
       "      <td>51.591557</td>\n",
       "      <td>2.468023</td>\n",
       "      <td>0.259733</td>\n",
       "      <td>0.259733</td>\n",
       "      <td>0.271932</td>\n",
       "      <td>0.245566</td>\n",
       "      <td>0.112252</td>\n",
       "      <td>0.090705</td>\n",
       "      <td>0.359546</td>\n",
       "    </tr>\n",
       "    <tr>\n",
       "      <th>min</th>\n",
       "      <td>1900.000000</td>\n",
       "      <td>2076.000000</td>\n",
       "      <td>0.000000</td>\n",
       "      <td>0.000000</td>\n",
       "      <td>7.000000</td>\n",
       "      <td>0.000000</td>\n",
       "      <td>0.000000</td>\n",
       "      <td>0.000000</td>\n",
       "      <td>0.000000</td>\n",
       "      <td>5.000000</td>\n",
       "      <td>3.000000</td>\n",
       "      <td>0.000000</td>\n",
       "      <td>0.000000</td>\n",
       "      <td>0.000000</td>\n",
       "      <td>0.000000</td>\n",
       "      <td>0.000000</td>\n",
       "      <td>0.000000</td>\n",
       "      <td>0.000000</td>\n",
       "      <td>0.000000</td>\n",
       "      <td>0.000000</td>\n",
       "      <td>0.000000</td>\n",
       "      <td>0.000000</td>\n",
       "      <td>0.000000</td>\n",
       "    </tr>\n",
       "    <tr>\n",
       "      <th>25%</th>\n",
       "      <td>1960.000000</td>\n",
       "      <td>41612.400000</td>\n",
       "      <td>0.000000</td>\n",
       "      <td>0.000000</td>\n",
       "      <td>31.000000</td>\n",
       "      <td>1.000000</td>\n",
       "      <td>2.000000</td>\n",
       "      <td>0.000000</td>\n",
       "      <td>3.000000</td>\n",
       "      <td>27.000000</td>\n",
       "      <td>4.000000</td>\n",
       "      <td>15.000000</td>\n",
       "      <td>3.000000</td>\n",
       "      <td>1.000000</td>\n",
       "      <td>8.000000</td>\n",
       "      <td>3.000000</td>\n",
       "      <td>0.000000</td>\n",
       "      <td>0.000000</td>\n",
       "      <td>0.000000</td>\n",
       "      <td>0.000000</td>\n",
       "      <td>0.000000</td>\n",
       "      <td>0.000000</td>\n",
       "      <td>0.000000</td>\n",
       "    </tr>\n",
       "    <tr>\n",
       "      <th>50%</th>\n",
       "      <td>1971.000000</td>\n",
       "      <td>60964.200000</td>\n",
       "      <td>0.000000</td>\n",
       "      <td>0.000000</td>\n",
       "      <td>56.000000</td>\n",
       "      <td>2.000000</td>\n",
       "      <td>3.000000</td>\n",
       "      <td>2.000000</td>\n",
       "      <td>5.000000</td>\n",
       "      <td>167.000000</td>\n",
       "      <td>11.000000</td>\n",
       "      <td>64.000000</td>\n",
       "      <td>12.000000</td>\n",
       "      <td>8.000000</td>\n",
       "      <td>25.000000</td>\n",
       "      <td>6.000000</td>\n",
       "      <td>0.000000</td>\n",
       "      <td>0.000000</td>\n",
       "      <td>0.000000</td>\n",
       "      <td>0.000000</td>\n",
       "      <td>0.000000</td>\n",
       "      <td>0.000000</td>\n",
       "      <td>0.000000</td>\n",
       "    </tr>\n",
       "    <tr>\n",
       "      <th>75%</th>\n",
       "      <td>1979.000000</td>\n",
       "      <td>81493.200000</td>\n",
       "      <td>1.000000</td>\n",
       "      <td>1.000000</td>\n",
       "      <td>80.000000</td>\n",
       "      <td>3.000000</td>\n",
       "      <td>6.000000</td>\n",
       "      <td>4.000000</td>\n",
       "      <td>8.000000</td>\n",
       "      <td>499.500000</td>\n",
       "      <td>36.000000</td>\n",
       "      <td>232.000000</td>\n",
       "      <td>49.250000</td>\n",
       "      <td>33.000000</td>\n",
       "      <td>56.000000</td>\n",
       "      <td>7.000000</td>\n",
       "      <td>0.000000</td>\n",
       "      <td>0.000000</td>\n",
       "      <td>0.000000</td>\n",
       "      <td>0.000000</td>\n",
       "      <td>0.000000</td>\n",
       "      <td>0.000000</td>\n",
       "      <td>0.000000</td>\n",
       "    </tr>\n",
       "    <tr>\n",
       "      <th>max</th>\n",
       "      <td>1997.000000</td>\n",
       "      <td>799999.200000</td>\n",
       "      <td>2.000000</td>\n",
       "      <td>2.000000</td>\n",
       "      <td>106.000000</td>\n",
       "      <td>15.000000</td>\n",
       "      <td>27.000000</td>\n",
       "      <td>28.000000</td>\n",
       "      <td>13.000000</td>\n",
       "      <td>1498.000000</td>\n",
       "      <td>202.000000</td>\n",
       "      <td>1725.000000</td>\n",
       "      <td>259.000000</td>\n",
       "      <td>263.000000</td>\n",
       "      <td>362.000000</td>\n",
       "      <td>20.000000</td>\n",
       "      <td>1.000000</td>\n",
       "      <td>1.000000</td>\n",
       "      <td>1.000000</td>\n",
       "      <td>1.000000</td>\n",
       "      <td>1.000000</td>\n",
       "      <td>1.000000</td>\n",
       "      <td>1.000000</td>\n",
       "    </tr>\n",
       "  </tbody>\n",
       "</table>\n",
       "</div>"
      ],
      "text/plain": [
       "       Year_of_Birth  Disposable_Income  No_of_Kids_in_home  \\\n",
       "count    1568.000000        1552.000000         1568.000000   \n",
       "mean     1970.073342       62381.186598            0.460459   \n",
       "std        11.920781       32089.169563            0.540361   \n",
       "min      1900.000000        2076.000000            0.000000   \n",
       "25%      1960.000000       41612.400000            0.000000   \n",
       "50%      1971.000000       60964.200000            0.000000   \n",
       "75%      1979.000000       81493.200000            1.000000   \n",
       "max      1997.000000      799999.200000            2.000000   \n",
       "\n",
       "       No_of_Teen_in_home      Recency  Discounted_Purchases  WebPurchases  \\\n",
       "count         1568.000000  1568.000000           1568.000000   1568.000000   \n",
       "mean             0.497449    55.408801              2.292730      4.001276   \n",
       "std              0.544151    28.788037              1.937544      2.773748   \n",
       "min              0.000000     7.000000              0.000000      0.000000   \n",
       "25%              0.000000    31.000000              1.000000      2.000000   \n",
       "50%              0.000000    56.000000              2.000000      3.000000   \n",
       "75%              1.000000    80.000000              3.000000      6.000000   \n",
       "max              2.000000   106.000000             15.000000     27.000000   \n",
       "\n",
       "       CatalogPurchases  StorePurchases  Amount_on_Wines  Amount_on_Fruits  \\\n",
       "count       1568.000000     1568.000000      1568.000000       1568.000000   \n",
       "mean           2.665816        5.703444       303.190051         29.091199   \n",
       "std            3.043493        3.260553       340.141396         39.565637   \n",
       "min            0.000000        0.000000         5.000000          3.000000   \n",
       "25%            0.000000        3.000000        27.000000          4.000000   \n",
       "50%            2.000000        5.000000       167.000000         11.000000   \n",
       "75%            4.000000        8.000000       499.500000         36.000000   \n",
       "max           28.000000       13.000000      1498.000000        202.000000   \n",
       "\n",
       "       Amount_on_MeatProducts  Amount_on_FishProducts  \\\n",
       "count             1568.000000             1568.000000   \n",
       "mean               168.376276               37.166454   \n",
       "std                233.419980               53.994951   \n",
       "min                  0.000000                0.000000   \n",
       "25%                 15.000000                3.000000   \n",
       "50%                 64.000000               12.000000   \n",
       "75%                232.000000               49.250000   \n",
       "max               1725.000000              259.000000   \n",
       "\n",
       "       Amount_on_SweetProducts  Amount_on_GoldProds  WebVisitsMonth  \\\n",
       "count              1568.000000          1568.000000     1568.000000   \n",
       "mean                 26.800383            43.739158        5.326531   \n",
       "std                  40.857657            51.591557        2.468023   \n",
       "min                   0.000000             0.000000        0.000000   \n",
       "25%                   1.000000             8.000000        3.000000   \n",
       "50%                   8.000000            25.000000        6.000000   \n",
       "75%                  33.000000            56.000000        7.000000   \n",
       "max                 263.000000           362.000000       20.000000   \n",
       "\n",
       "       Cmp3Accepted  Cmp4Accepted  Cmp5Accepted  Cmp1Accepted  Cmp2Accepted  \\\n",
       "count   1568.000000   1568.000000   1568.000000   1568.000000   1568.000000   \n",
       "mean       0.072704      0.072704      0.080357      0.064413      0.012755   \n",
       "std        0.259733      0.259733      0.271932      0.245566      0.112252   \n",
       "min        0.000000      0.000000      0.000000      0.000000      0.000000   \n",
       "25%        0.000000      0.000000      0.000000      0.000000      0.000000   \n",
       "50%        0.000000      0.000000      0.000000      0.000000      0.000000   \n",
       "75%        0.000000      0.000000      0.000000      0.000000      0.000000   \n",
       "max        1.000000      1.000000      1.000000      1.000000      1.000000   \n",
       "\n",
       "       Any_Complain     Response  \n",
       "count   1568.000000  1568.000000  \n",
       "mean       0.008291     0.152423  \n",
       "std        0.090705     0.359546  \n",
       "min        0.000000     0.000000  \n",
       "25%        0.000000     0.000000  \n",
       "50%        0.000000     0.000000  \n",
       "75%        0.000000     0.000000  \n",
       "max        1.000000     1.000000  "
      ]
     },
     "execution_count": 16,
     "metadata": {},
     "output_type": "execute_result"
    }
   ],
   "source": [
    "train_data.describe()"
   ]
  },
  {
   "cell_type": "code",
   "execution_count": 17,
   "metadata": {},
   "outputs": [
    {
     "data": {
      "text/html": [
       "<div>\n",
       "<style scoped>\n",
       "    .dataframe tbody tr th:only-of-type {\n",
       "        vertical-align: middle;\n",
       "    }\n",
       "\n",
       "    .dataframe tbody tr th {\n",
       "        vertical-align: top;\n",
       "    }\n",
       "\n",
       "    .dataframe thead th {\n",
       "        text-align: right;\n",
       "    }\n",
       "</style>\n",
       "<table border=\"1\" class=\"dataframe\">\n",
       "  <thead>\n",
       "    <tr style=\"text-align: right;\">\n",
       "      <th></th>\n",
       "      <th>Year_of_Birth</th>\n",
       "      <th>Disposable_Income</th>\n",
       "      <th>No_of_Kids_in_home</th>\n",
       "      <th>No_of_Teen_in_home</th>\n",
       "      <th>Recency</th>\n",
       "      <th>Discounted_Purchases</th>\n",
       "      <th>WebPurchases</th>\n",
       "      <th>CatalogPurchases</th>\n",
       "      <th>StorePurchases</th>\n",
       "      <th>Amount_on_Wines</th>\n",
       "      <th>Amount_on_Fruits</th>\n",
       "      <th>Amount_on_MeatProducts</th>\n",
       "      <th>Amount_on_FishProducts</th>\n",
       "      <th>Amount_on_SweetProducts</th>\n",
       "      <th>Amount_on_GoldProds</th>\n",
       "      <th>WebVisitsMonth</th>\n",
       "      <th>Cmp3Accepted</th>\n",
       "      <th>Cmp4Accepted</th>\n",
       "      <th>Cmp5Accepted</th>\n",
       "      <th>Cmp1Accepted</th>\n",
       "      <th>Cmp2Accepted</th>\n",
       "      <th>Any_Complain</th>\n",
       "    </tr>\n",
       "  </thead>\n",
       "  <tbody>\n",
       "    <tr>\n",
       "      <th>count</th>\n",
       "      <td>672.000000</td>\n",
       "      <td>664.000000</td>\n",
       "      <td>672.000000</td>\n",
       "      <td>672.000000</td>\n",
       "      <td>672.000000</td>\n",
       "      <td>672.000000</td>\n",
       "      <td>672.000000</td>\n",
       "      <td>672.000000</td>\n",
       "      <td>672.000000</td>\n",
       "      <td>672.000000</td>\n",
       "      <td>672.000000</td>\n",
       "      <td>672.000000</td>\n",
       "      <td>672.000000</td>\n",
       "      <td>672.000000</td>\n",
       "      <td>672.000000</td>\n",
       "      <td>672.000000</td>\n",
       "      <td>672.000000</td>\n",
       "      <td>672.000000</td>\n",
       "      <td>672.000000</td>\n",
       "      <td>672.000000</td>\n",
       "      <td>672.000000</td>\n",
       "      <td>672.000000</td>\n",
       "    </tr>\n",
       "    <tr>\n",
       "      <th>mean</th>\n",
       "      <td>1969.181548</td>\n",
       "      <td>63434.170482</td>\n",
       "      <td>0.406250</td>\n",
       "      <td>0.526786</td>\n",
       "      <td>57.744048</td>\n",
       "      <td>2.400298</td>\n",
       "      <td>4.279762</td>\n",
       "      <td>2.653274</td>\n",
       "      <td>5.992560</td>\n",
       "      <td>322.342262</td>\n",
       "      <td>29.794643</td>\n",
       "      <td>163.622024</td>\n",
       "      <td>38.363095</td>\n",
       "      <td>27.675595</td>\n",
       "      <td>44.681548</td>\n",
       "      <td>5.293155</td>\n",
       "      <td>0.072917</td>\n",
       "      <td>0.078869</td>\n",
       "      <td>0.055060</td>\n",
       "      <td>0.063988</td>\n",
       "      <td>0.014881</td>\n",
       "      <td>0.011905</td>\n",
       "    </tr>\n",
       "    <tr>\n",
       "      <th>std</th>\n",
       "      <td>12.116416</td>\n",
       "      <td>25276.585476</td>\n",
       "      <td>0.532259</td>\n",
       "      <td>0.545293</td>\n",
       "      <td>29.321893</td>\n",
       "      <td>1.919125</td>\n",
       "      <td>2.782585</td>\n",
       "      <td>2.622899</td>\n",
       "      <td>3.221797</td>\n",
       "      <td>328.037431</td>\n",
       "      <td>40.279494</td>\n",
       "      <td>206.752060</td>\n",
       "      <td>56.112424</td>\n",
       "      <td>42.275184</td>\n",
       "      <td>53.520249</td>\n",
       "      <td>2.328867</td>\n",
       "      <td>0.260193</td>\n",
       "      <td>0.269735</td>\n",
       "      <td>0.228266</td>\n",
       "      <td>0.244914</td>\n",
       "      <td>0.121167</td>\n",
       "      <td>0.108538</td>\n",
       "    </tr>\n",
       "    <tr>\n",
       "      <th>min</th>\n",
       "      <td>1894.000000</td>\n",
       "      <td>5313.600000</td>\n",
       "      <td>0.000000</td>\n",
       "      <td>0.000000</td>\n",
       "      <td>7.000000</td>\n",
       "      <td>0.000000</td>\n",
       "      <td>0.000000</td>\n",
       "      <td>0.000000</td>\n",
       "      <td>0.000000</td>\n",
       "      <td>5.000000</td>\n",
       "      <td>3.000000</td>\n",
       "      <td>1.000000</td>\n",
       "      <td>0.000000</td>\n",
       "      <td>0.000000</td>\n",
       "      <td>0.000000</td>\n",
       "      <td>0.000000</td>\n",
       "      <td>0.000000</td>\n",
       "      <td>0.000000</td>\n",
       "      <td>0.000000</td>\n",
       "      <td>0.000000</td>\n",
       "      <td>0.000000</td>\n",
       "      <td>0.000000</td>\n",
       "    </tr>\n",
       "    <tr>\n",
       "      <th>25%</th>\n",
       "      <td>1960.000000</td>\n",
       "      <td>44219.700000</td>\n",
       "      <td>0.000000</td>\n",
       "      <td>0.000000</td>\n",
       "      <td>33.000000</td>\n",
       "      <td>1.000000</td>\n",
       "      <td>2.000000</td>\n",
       "      <td>1.000000</td>\n",
       "      <td>3.000000</td>\n",
       "      <td>35.750000</td>\n",
       "      <td>5.000000</td>\n",
       "      <td>17.000000</td>\n",
       "      <td>2.750000</td>\n",
       "      <td>2.000000</td>\n",
       "      <td>10.000000</td>\n",
       "      <td>4.000000</td>\n",
       "      <td>0.000000</td>\n",
       "      <td>0.000000</td>\n",
       "      <td>0.000000</td>\n",
       "      <td>0.000000</td>\n",
       "      <td>0.000000</td>\n",
       "      <td>0.000000</td>\n",
       "    </tr>\n",
       "    <tr>\n",
       "      <th>50%</th>\n",
       "      <td>1970.000000</td>\n",
       "      <td>64007.400000</td>\n",
       "      <td>0.000000</td>\n",
       "      <td>1.000000</td>\n",
       "      <td>58.000000</td>\n",
       "      <td>2.000000</td>\n",
       "      <td>4.000000</td>\n",
       "      <td>2.000000</td>\n",
       "      <td>5.000000</td>\n",
       "      <td>209.500000</td>\n",
       "      <td>11.000000</td>\n",
       "      <td>73.000000</td>\n",
       "      <td>11.000000</td>\n",
       "      <td>9.000000</td>\n",
       "      <td>24.000000</td>\n",
       "      <td>6.000000</td>\n",
       "      <td>0.000000</td>\n",
       "      <td>0.000000</td>\n",
       "      <td>0.000000</td>\n",
       "      <td>0.000000</td>\n",
       "      <td>0.000000</td>\n",
       "      <td>0.000000</td>\n",
       "    </tr>\n",
       "    <tr>\n",
       "      <th>75%</th>\n",
       "      <td>1978.000000</td>\n",
       "      <td>83466.300000</td>\n",
       "      <td>1.000000</td>\n",
       "      <td>1.000000</td>\n",
       "      <td>84.000000</td>\n",
       "      <td>3.000000</td>\n",
       "      <td>6.000000</td>\n",
       "      <td>4.000000</td>\n",
       "      <td>8.000000</td>\n",
       "      <td>514.750000</td>\n",
       "      <td>36.000000</td>\n",
       "      <td>230.500000</td>\n",
       "      <td>50.000000</td>\n",
       "      <td>33.250000</td>\n",
       "      <td>56.000000</td>\n",
       "      <td>7.000000</td>\n",
       "      <td>0.000000</td>\n",
       "      <td>0.000000</td>\n",
       "      <td>0.000000</td>\n",
       "      <td>0.000000</td>\n",
       "      <td>0.000000</td>\n",
       "      <td>0.000000</td>\n",
       "    </tr>\n",
       "    <tr>\n",
       "      <th>max</th>\n",
       "      <td>1997.000000</td>\n",
       "      <td>194876.400000</td>\n",
       "      <td>2.000000</td>\n",
       "      <td>2.000000</td>\n",
       "      <td>106.000000</td>\n",
       "      <td>15.000000</td>\n",
       "      <td>25.000000</td>\n",
       "      <td>11.000000</td>\n",
       "      <td>13.000000</td>\n",
       "      <td>1483.000000</td>\n",
       "      <td>202.000000</td>\n",
       "      <td>981.000000</td>\n",
       "      <td>250.000000</td>\n",
       "      <td>198.000000</td>\n",
       "      <td>321.000000</td>\n",
       "      <td>14.000000</td>\n",
       "      <td>1.000000</td>\n",
       "      <td>1.000000</td>\n",
       "      <td>1.000000</td>\n",
       "      <td>1.000000</td>\n",
       "      <td>1.000000</td>\n",
       "      <td>1.000000</td>\n",
       "    </tr>\n",
       "  </tbody>\n",
       "</table>\n",
       "</div>"
      ],
      "text/plain": [
       "       Year_of_Birth  Disposable_Income  No_of_Kids_in_home  \\\n",
       "count     672.000000         664.000000          672.000000   \n",
       "mean     1969.181548       63434.170482            0.406250   \n",
       "std        12.116416       25276.585476            0.532259   \n",
       "min      1894.000000        5313.600000            0.000000   \n",
       "25%      1960.000000       44219.700000            0.000000   \n",
       "50%      1970.000000       64007.400000            0.000000   \n",
       "75%      1978.000000       83466.300000            1.000000   \n",
       "max      1997.000000      194876.400000            2.000000   \n",
       "\n",
       "       No_of_Teen_in_home     Recency  Discounted_Purchases  WebPurchases  \\\n",
       "count          672.000000  672.000000            672.000000    672.000000   \n",
       "mean             0.526786   57.744048              2.400298      4.279762   \n",
       "std              0.545293   29.321893              1.919125      2.782585   \n",
       "min              0.000000    7.000000              0.000000      0.000000   \n",
       "25%              0.000000   33.000000              1.000000      2.000000   \n",
       "50%              1.000000   58.000000              2.000000      4.000000   \n",
       "75%              1.000000   84.000000              3.000000      6.000000   \n",
       "max              2.000000  106.000000             15.000000     25.000000   \n",
       "\n",
       "       CatalogPurchases  StorePurchases  Amount_on_Wines  Amount_on_Fruits  \\\n",
       "count        672.000000      672.000000       672.000000        672.000000   \n",
       "mean           2.653274        5.992560       322.342262         29.794643   \n",
       "std            2.622899        3.221797       328.037431         40.279494   \n",
       "min            0.000000        0.000000         5.000000          3.000000   \n",
       "25%            1.000000        3.000000        35.750000          5.000000   \n",
       "50%            2.000000        5.000000       209.500000         11.000000   \n",
       "75%            4.000000        8.000000       514.750000         36.000000   \n",
       "max           11.000000       13.000000      1483.000000        202.000000   \n",
       "\n",
       "       Amount_on_MeatProducts  Amount_on_FishProducts  \\\n",
       "count              672.000000              672.000000   \n",
       "mean               163.622024               38.363095   \n",
       "std                206.752060               56.112424   \n",
       "min                  1.000000                0.000000   \n",
       "25%                 17.000000                2.750000   \n",
       "50%                 73.000000               11.000000   \n",
       "75%                230.500000               50.000000   \n",
       "max                981.000000              250.000000   \n",
       "\n",
       "       Amount_on_SweetProducts  Amount_on_GoldProds  WebVisitsMonth  \\\n",
       "count               672.000000           672.000000      672.000000   \n",
       "mean                 27.675595            44.681548        5.293155   \n",
       "std                  42.275184            53.520249        2.328867   \n",
       "min                   0.000000             0.000000        0.000000   \n",
       "25%                   2.000000            10.000000        4.000000   \n",
       "50%                   9.000000            24.000000        6.000000   \n",
       "75%                  33.250000            56.000000        7.000000   \n",
       "max                 198.000000           321.000000       14.000000   \n",
       "\n",
       "       Cmp3Accepted  Cmp4Accepted  Cmp5Accepted  Cmp1Accepted  Cmp2Accepted  \\\n",
       "count    672.000000    672.000000    672.000000    672.000000    672.000000   \n",
       "mean       0.072917      0.078869      0.055060      0.063988      0.014881   \n",
       "std        0.260193      0.269735      0.228266      0.244914      0.121167   \n",
       "min        0.000000      0.000000      0.000000      0.000000      0.000000   \n",
       "25%        0.000000      0.000000      0.000000      0.000000      0.000000   \n",
       "50%        0.000000      0.000000      0.000000      0.000000      0.000000   \n",
       "75%        0.000000      0.000000      0.000000      0.000000      0.000000   \n",
       "max        1.000000      1.000000      1.000000      1.000000      1.000000   \n",
       "\n",
       "       Any_Complain  \n",
       "count    672.000000  \n",
       "mean       0.011905  \n",
       "std        0.108538  \n",
       "min        0.000000  \n",
       "25%        0.000000  \n",
       "50%        0.000000  \n",
       "75%        0.000000  \n",
       "max        1.000000  "
      ]
     },
     "execution_count": 17,
     "metadata": {},
     "output_type": "execute_result"
    }
   ],
   "source": [
    "test_data.describe()"
   ]
  },
  {
   "cell_type": "code",
   "execution_count": 18,
   "metadata": {},
   "outputs": [
    {
     "data": {
      "text/plain": [
       "<matplotlib.axes._subplots.AxesSubplot at 0x25a9838e3a0>"
      ]
     },
     "execution_count": 18,
     "metadata": {},
     "output_type": "execute_result"
    },
    {
     "data": {
      "image/png": "[encoded data removed]",
      "text/plain": [
       "<Figure size 432x288 with 1 Axes>"
      ]
     },
     "metadata": {
      "needs_background": "light"
     },
     "output_type": "display_data"
    }
   ],
   "source": [
    "sns.boxplot(train_data['Disposable_Income'])"
   ]
  },
  {
   "cell_type": "code",
   "execution_count": 19,
   "metadata": {},
   "outputs": [
    {
     "data": {
      "text/html": [
       "<div>\n",
       "<style scoped>\n",
       "    .dataframe tbody tr th:only-of-type {\n",
       "        vertical-align: middle;\n",
       "    }\n",
       "\n",
       "    .dataframe tbody tr th {\n",
       "        vertical-align: top;\n",
       "    }\n",
       "\n",
       "    .dataframe thead th {\n",
       "        text-align: right;\n",
       "    }\n",
       "</style>\n",
       "<table border=\"1\" class=\"dataframe\">\n",
       "  <thead>\n",
       "    <tr style=\"text-align: right;\">\n",
       "      <th></th>\n",
       "      <th>ID</th>\n",
       "      <th>Year_of_Birth</th>\n",
       "      <th>Education_Level</th>\n",
       "      <th>Marital_Status</th>\n",
       "      <th>Disposable_Income</th>\n",
       "      <th>No_of_Kids_in_home</th>\n",
       "      <th>No_of_Teen_in_home</th>\n",
       "      <th>Date_Customer</th>\n",
       "      <th>Recency</th>\n",
       "      <th>Discounted_Purchases</th>\n",
       "      <th>WebPurchases</th>\n",
       "      <th>CatalogPurchases</th>\n",
       "      <th>StorePurchases</th>\n",
       "      <th>Amount_on_Wines</th>\n",
       "      <th>Amount_on_Fruits</th>\n",
       "      <th>Amount_on_MeatProducts</th>\n",
       "      <th>Amount_on_FishProducts</th>\n",
       "      <th>Amount_on_SweetProducts</th>\n",
       "      <th>Amount_on_GoldProds</th>\n",
       "      <th>WebVisitsMonth</th>\n",
       "      <th>Cmp3Accepted</th>\n",
       "      <th>Cmp4Accepted</th>\n",
       "      <th>Cmp5Accepted</th>\n",
       "      <th>Cmp1Accepted</th>\n",
       "      <th>Cmp2Accepted</th>\n",
       "      <th>Any_Complain</th>\n",
       "      <th>Response</th>\n",
       "    </tr>\n",
       "  </thead>\n",
       "  <tbody>\n",
       "    <tr>\n",
       "      <th>190</th>\n",
       "      <td>ID_VIUX07W2</td>\n",
       "      <td>1978</td>\n",
       "      <td>Graduation</td>\n",
       "      <td>Together</td>\n",
       "      <td>799999.2</td>\n",
       "      <td>1</td>\n",
       "      <td>0</td>\n",
       "      <td>2013-02-06</td>\n",
       "      <td>30</td>\n",
       "      <td>4</td>\n",
       "      <td>3</td>\n",
       "      <td>1</td>\n",
       "      <td>3</td>\n",
       "      <td>14</td>\n",
       "      <td>17</td>\n",
       "      <td>18</td>\n",
       "      <td>8</td>\n",
       "      <td>1</td>\n",
       "      <td>12</td>\n",
       "      <td>6</td>\n",
       "      <td>0</td>\n",
       "      <td>0</td>\n",
       "      <td>0</td>\n",
       "      <td>0</td>\n",
       "      <td>0</td>\n",
       "      <td>0</td>\n",
       "      <td>0</td>\n",
       "    </tr>\n",
       "  </tbody>\n",
       "</table>\n",
       "</div>"
      ],
      "text/plain": [
       "              ID  Year_of_Birth Education_Level Marital_Status  \\\n",
       "190  ID_VIUX07W2           1978      Graduation       Together   \n",
       "\n",
       "     Disposable_Income  No_of_Kids_in_home  No_of_Teen_in_home Date_Customer  \\\n",
       "190           799999.2                   1                   0    2013-02-06   \n",
       "\n",
       "     Recency  Discounted_Purchases  WebPurchases  CatalogPurchases  \\\n",
       "190       30                     4             3                 1   \n",
       "\n",
       "     StorePurchases  Amount_on_Wines  Amount_on_Fruits  \\\n",
       "190               3               14                17   \n",
       "\n",
       "     Amount_on_MeatProducts  Amount_on_FishProducts  Amount_on_SweetProducts  \\\n",
       "190                      18                       8                        1   \n",
       "\n",
       "     Amount_on_GoldProds  WebVisitsMonth  Cmp3Accepted  Cmp4Accepted  \\\n",
       "190                   12               6             0             0   \n",
       "\n",
       "     Cmp5Accepted  Cmp1Accepted  Cmp2Accepted  Any_Complain  Response  \n",
       "190             0             0             0             0         0  "
      ]
     },
     "execution_count": 19,
     "metadata": {},
     "output_type": "execute_result"
    }
   ],
   "source": [
    "train_data.loc[train_data['Disposable_Income'] > 200000]"
   ]
  },
  {
   "cell_type": "code",
   "execution_count": 20,
   "metadata": {},
   "outputs": [],
   "source": [
    "train_data = train_data.drop(190)"
   ]
  },
  {
   "cell_type": "markdown",
   "metadata": {},
   "source": [
    "### DATA PREPROCESSING"
   ]
  },
  {
   "cell_type": "code",
   "execution_count": 21,
   "metadata": {},
   "outputs": [
    {
     "data": {
      "text/plain": [
       "array(['Divorced', 'Together', 'Single', 'Married', 'Widow', 'Alone',\n",
       "       'Absurd', 'YOLO'], dtype=object)"
      ]
     },
     "execution_count": 21,
     "metadata": {},
     "output_type": "execute_result"
    }
   ],
   "source": [
    "train_data['Marital_Status'].unique()"
   ]
  },
  {
   "cell_type": "code",
   "execution_count": 22,
   "metadata": {},
   "outputs": [
    {
     "data": {
      "text/plain": [
       "Married     615\n",
       "Together    408\n",
       "Single      329\n",
       "Divorced    159\n",
       "Widow        50\n",
       "Alone         3\n",
       "YOLO          2\n",
       "Absurd        1\n",
       "Name: Marital_Status, dtype: int64"
      ]
     },
     "execution_count": 22,
     "metadata": {},
     "output_type": "execute_result"
    }
   ],
   "source": [
    "train_data['Marital_Status'].value_counts()"
   ]
  },
  {
   "cell_type": "code",
   "execution_count": 23,
   "metadata": {},
   "outputs": [],
   "source": [
    "train_data.loc[train_data['Marital_Status'] == 'Absurd', 'Marital_Status'] = 1\n",
    "train_data.loc[train_data['Marital_Status'] == 'Alone', 'Marital_Status'] = 2\n",
    "train_data.loc[train_data['Marital_Status'] == 'Divorced', 'Marital_Status'] = 3\n",
    "train_data.loc[train_data['Marital_Status'] == 'Married', 'Marital_Status'] = 4\n",
    "train_data.loc[train_data['Marital_Status'] == 'Single', 'Marital_Status'] = 5\n",
    "train_data.loc[train_data['Marital_Status'] == 'Together', 'Marital_Status'] = 6\n",
    "train_data.loc[train_data['Marital_Status'] == 'Widow', 'Marital_Status'] = 7\n",
    "train_data.loc[train_data['Marital_Status'] == 'YOLO', 'Marital_Status'] = 8"
   ]
  },
  {
   "cell_type": "code",
   "execution_count": 24,
   "metadata": {},
   "outputs": [
    {
     "data": {
      "text/html": [
       "<div>\n",
       "<style scoped>\n",
       "    .dataframe tbody tr th:only-of-type {\n",
       "        vertical-align: middle;\n",
       "    }\n",
       "\n",
       "    .dataframe tbody tr th {\n",
       "        vertical-align: top;\n",
       "    }\n",
       "\n",
       "    .dataframe thead th {\n",
       "        text-align: right;\n",
       "    }\n",
       "</style>\n",
       "<table border=\"1\" class=\"dataframe\">\n",
       "  <thead>\n",
       "    <tr style=\"text-align: right;\">\n",
       "      <th></th>\n",
       "      <th>ID</th>\n",
       "      <th>Year_of_Birth</th>\n",
       "      <th>Education_Level</th>\n",
       "      <th>Marital_Status</th>\n",
       "      <th>Disposable_Income</th>\n",
       "      <th>No_of_Kids_in_home</th>\n",
       "      <th>No_of_Teen_in_home</th>\n",
       "      <th>Date_Customer</th>\n",
       "      <th>Recency</th>\n",
       "      <th>Discounted_Purchases</th>\n",
       "      <th>WebPurchases</th>\n",
       "      <th>CatalogPurchases</th>\n",
       "      <th>StorePurchases</th>\n",
       "      <th>Amount_on_Wines</th>\n",
       "      <th>Amount_on_Fruits</th>\n",
       "      <th>Amount_on_MeatProducts</th>\n",
       "      <th>Amount_on_FishProducts</th>\n",
       "      <th>Amount_on_SweetProducts</th>\n",
       "      <th>Amount_on_GoldProds</th>\n",
       "      <th>WebVisitsMonth</th>\n",
       "      <th>Cmp3Accepted</th>\n",
       "      <th>Cmp4Accepted</th>\n",
       "      <th>Cmp5Accepted</th>\n",
       "      <th>Cmp1Accepted</th>\n",
       "      <th>Cmp2Accepted</th>\n",
       "      <th>Any_Complain</th>\n",
       "      <th>Response</th>\n",
       "    </tr>\n",
       "  </thead>\n",
       "  <tbody>\n",
       "    <tr>\n",
       "      <th>0</th>\n",
       "      <td>ID_4A9AR6FQ</td>\n",
       "      <td>1955</td>\n",
       "      <td>Graduation</td>\n",
       "      <td>3</td>\n",
       "      <td>77504.4</td>\n",
       "      <td>1</td>\n",
       "      <td>1</td>\n",
       "      <td>2014-06-22</td>\n",
       "      <td>56</td>\n",
       "      <td>2</td>\n",
       "      <td>1</td>\n",
       "      <td>1</td>\n",
       "      <td>4</td>\n",
       "      <td>71</td>\n",
       "      <td>3</td>\n",
       "      <td>16</td>\n",
       "      <td>0</td>\n",
       "      <td>6</td>\n",
       "      <td>20</td>\n",
       "      <td>3</td>\n",
       "      <td>0</td>\n",
       "      <td>0</td>\n",
       "      <td>0</td>\n",
       "      <td>0</td>\n",
       "      <td>0</td>\n",
       "      <td>0</td>\n",
       "      <td>0</td>\n",
       "    </tr>\n",
       "    <tr>\n",
       "      <th>1</th>\n",
       "      <td>ID_X28T3VEK</td>\n",
       "      <td>1958</td>\n",
       "      <td>Graduation</td>\n",
       "      <td>6</td>\n",
       "      <td>56784.0</td>\n",
       "      <td>0</td>\n",
       "      <td>1</td>\n",
       "      <td>2013-01-08</td>\n",
       "      <td>17</td>\n",
       "      <td>6</td>\n",
       "      <td>5</td>\n",
       "      <td>1</td>\n",
       "      <td>8</td>\n",
       "      <td>205</td>\n",
       "      <td>22</td>\n",
       "      <td>111</td>\n",
       "      <td>50</td>\n",
       "      <td>15</td>\n",
       "      <td>19</td>\n",
       "      <td>6</td>\n",
       "      <td>0</td>\n",
       "      <td>0</td>\n",
       "      <td>0</td>\n",
       "      <td>0</td>\n",
       "      <td>0</td>\n",
       "      <td>0</td>\n",
       "      <td>0</td>\n",
       "    </tr>\n",
       "    <tr>\n",
       "      <th>2</th>\n",
       "      <td>ID_AWXARH57</td>\n",
       "      <td>1962</td>\n",
       "      <td>Graduation</td>\n",
       "      <td>5</td>\n",
       "      <td>103714.8</td>\n",
       "      <td>0</td>\n",
       "      <td>0</td>\n",
       "      <td>2013-11-21</td>\n",
       "      <td>17</td>\n",
       "      <td>0</td>\n",
       "      <td>7</td>\n",
       "      <td>4</td>\n",
       "      <td>7</td>\n",
       "      <td>469</td>\n",
       "      <td>31</td>\n",
       "      <td>873</td>\n",
       "      <td>29</td>\n",
       "      <td>18</td>\n",
       "      <td>37</td>\n",
       "      <td>2</td>\n",
       "      <td>0</td>\n",
       "      <td>0</td>\n",
       "      <td>0</td>\n",
       "      <td>1</td>\n",
       "      <td>0</td>\n",
       "      <td>0</td>\n",
       "      <td>1</td>\n",
       "    </tr>\n",
       "    <tr>\n",
       "      <th>3</th>\n",
       "      <td>ID_FQVZHE81</td>\n",
       "      <td>1979</td>\n",
       "      <td>2n Cycle</td>\n",
       "      <td>5</td>\n",
       "      <td>46311.6</td>\n",
       "      <td>1</td>\n",
       "      <td>0</td>\n",
       "      <td>2013-09-13</td>\n",
       "      <td>49</td>\n",
       "      <td>3</td>\n",
       "      <td>4</td>\n",
       "      <td>1</td>\n",
       "      <td>3</td>\n",
       "      <td>56</td>\n",
       "      <td>15</td>\n",
       "      <td>49</td>\n",
       "      <td>17</td>\n",
       "      <td>24</td>\n",
       "      <td>24</td>\n",
       "      <td>8</td>\n",
       "      <td>0</td>\n",
       "      <td>0</td>\n",
       "      <td>0</td>\n",
       "      <td>0</td>\n",
       "      <td>0</td>\n",
       "      <td>0</td>\n",
       "      <td>0</td>\n",
       "    </tr>\n",
       "    <tr>\n",
       "      <th>4</th>\n",
       "      <td>ID_QVLWGPRN</td>\n",
       "      <td>1959</td>\n",
       "      <td>Graduation</td>\n",
       "      <td>4</td>\n",
       "      <td>87486.0</td>\n",
       "      <td>0</td>\n",
       "      <td>0</td>\n",
       "      <td>2014-01-21</td>\n",
       "      <td>59</td>\n",
       "      <td>1</td>\n",
       "      <td>3</td>\n",
       "      <td>7</td>\n",
       "      <td>9</td>\n",
       "      <td>412</td>\n",
       "      <td>117</td>\n",
       "      <td>445</td>\n",
       "      <td>181</td>\n",
       "      <td>165</td>\n",
       "      <td>203</td>\n",
       "      <td>1</td>\n",
       "      <td>0</td>\n",
       "      <td>0</td>\n",
       "      <td>0</td>\n",
       "      <td>1</td>\n",
       "      <td>0</td>\n",
       "      <td>0</td>\n",
       "      <td>0</td>\n",
       "    </tr>\n",
       "  </tbody>\n",
       "</table>\n",
       "</div>"
      ],
      "text/plain": [
       "            ID  Year_of_Birth Education_Level Marital_Status  \\\n",
       "0  ID_4A9AR6FQ           1955      Graduation              3   \n",
       "1  ID_X28T3VEK           1958      Graduation              6   \n",
       "2  ID_AWXARH57           1962      Graduation              5   \n",
       "3  ID_FQVZHE81           1979        2n Cycle              5   \n",
       "4  ID_QVLWGPRN           1959      Graduation              4   \n",
       "\n",
       "   Disposable_Income  No_of_Kids_in_home  No_of_Teen_in_home Date_Customer  \\\n",
       "0            77504.4                   1                   1    2014-06-22   \n",
       "1            56784.0                   0                   1    2013-01-08   \n",
       "2           103714.8                   0                   0    2013-11-21   \n",
       "3            46311.6                   1                   0    2013-09-13   \n",
       "4            87486.0                   0                   0    2014-01-21   \n",
       "\n",
       "   Recency  Discounted_Purchases  WebPurchases  CatalogPurchases  \\\n",
       "0       56                     2             1                 1   \n",
       "1       17                     6             5                 1   \n",
       "2       17                     0             7                 4   \n",
       "3       49                     3             4                 1   \n",
       "4       59                     1             3                 7   \n",
       "\n",
       "   StorePurchases  Amount_on_Wines  Amount_on_Fruits  Amount_on_MeatProducts  \\\n",
       "0               4               71                 3                      16   \n",
       "1               8              205                22                     111   \n",
       "2               7              469                31                     873   \n",
       "3               3               56                15                      49   \n",
       "4               9              412               117                     445   \n",
       "\n",
       "   Amount_on_FishProducts  Amount_on_SweetProducts  Amount_on_GoldProds  \\\n",
       "0                       0                        6                   20   \n",
       "1                      50                       15                   19   \n",
       "2                      29                       18                   37   \n",
       "3                      17                       24                   24   \n",
       "4                     181                      165                  203   \n",
       "\n",
       "   WebVisitsMonth  Cmp3Accepted  Cmp4Accepted  Cmp5Accepted  Cmp1Accepted  \\\n",
       "0               3             0             0             0             0   \n",
       "1               6             0             0             0             0   \n",
       "2               2             0             0             0             1   \n",
       "3               8             0             0             0             0   \n",
       "4               1             0             0             0             1   \n",
       "\n",
       "   Cmp2Accepted  Any_Complain  Response  \n",
       "0             0             0         0  \n",
       "1             0             0         0  \n",
       "2             0             0         1  \n",
       "3             0             0         0  \n",
       "4             0             0         0  "
      ]
     },
     "execution_count": 24,
     "metadata": {},
     "output_type": "execute_result"
    }
   ],
   "source": [
    "train_data.head()"
   ]
  },
  {
   "cell_type": "code",
   "execution_count": 25,
   "metadata": {},
   "outputs": [],
   "source": [
    "test_data.loc[test_data['Marital_Status'] == 'Absurd', 'Marital_Status'] = 1\n",
    "test_data.loc[test_data['Marital_Status'] == 'Alone', 'Marital_Status'] = 2\n",
    "test_data.loc[test_data['Marital_Status'] == 'Divorced', 'Marital_Status'] = 3\n",
    "test_data.loc[test_data['Marital_Status'] == 'Married', 'Marital_Status'] = 4\n",
    "test_data.loc[test_data['Marital_Status'] == 'Single', 'Marital_Status'] = 5\n",
    "test_data.loc[test_data['Marital_Status'] == 'Together', 'Marital_Status'] = 6\n",
    "test_data.loc[test_data['Marital_Status'] == 'Widow', 'Marital_Status'] = 7\n",
    "test_data.loc[test_data['Marital_Status'] == 'YOLO', 'Marital_Status'] = 8"
   ]
  },
  {
   "cell_type": "code",
   "execution_count": 26,
   "metadata": {},
   "outputs": [
    {
     "data": {
      "text/html": [
       "<div>\n",
       "<style scoped>\n",
       "    .dataframe tbody tr th:only-of-type {\n",
       "        vertical-align: middle;\n",
       "    }\n",
       "\n",
       "    .dataframe tbody tr th {\n",
       "        vertical-align: top;\n",
       "    }\n",
       "\n",
       "    .dataframe thead th {\n",
       "        text-align: right;\n",
       "    }\n",
       "</style>\n",
       "<table border=\"1\" class=\"dataframe\">\n",
       "  <thead>\n",
       "    <tr style=\"text-align: right;\">\n",
       "      <th></th>\n",
       "      <th>ID</th>\n",
       "      <th>Year_of_Birth</th>\n",
       "      <th>Education_Level</th>\n",
       "      <th>Marital_Status</th>\n",
       "      <th>Disposable_Income</th>\n",
       "      <th>No_of_Kids_in_home</th>\n",
       "      <th>No_of_Teen_in_home</th>\n",
       "      <th>Date_Customer</th>\n",
       "      <th>Recency</th>\n",
       "      <th>Discounted_Purchases</th>\n",
       "      <th>WebPurchases</th>\n",
       "      <th>CatalogPurchases</th>\n",
       "      <th>StorePurchases</th>\n",
       "      <th>Amount_on_Wines</th>\n",
       "      <th>Amount_on_Fruits</th>\n",
       "      <th>Amount_on_MeatProducts</th>\n",
       "      <th>Amount_on_FishProducts</th>\n",
       "      <th>Amount_on_SweetProducts</th>\n",
       "      <th>Amount_on_GoldProds</th>\n",
       "      <th>WebVisitsMonth</th>\n",
       "      <th>Cmp3Accepted</th>\n",
       "      <th>Cmp4Accepted</th>\n",
       "      <th>Cmp5Accepted</th>\n",
       "      <th>Cmp1Accepted</th>\n",
       "      <th>Cmp2Accepted</th>\n",
       "      <th>Any_Complain</th>\n",
       "    </tr>\n",
       "  </thead>\n",
       "  <tbody>\n",
       "    <tr>\n",
       "      <th>0</th>\n",
       "      <td>ID_ZPMABNVX</td>\n",
       "      <td>1954</td>\n",
       "      <td>Graduation</td>\n",
       "      <td>5</td>\n",
       "      <td>48556.8</td>\n",
       "      <td>0</td>\n",
       "      <td>1</td>\n",
       "      <td>2013-11-01</td>\n",
       "      <td>85</td>\n",
       "      <td>6</td>\n",
       "      <td>8</td>\n",
       "      <td>2</td>\n",
       "      <td>8</td>\n",
       "      <td>429</td>\n",
       "      <td>20</td>\n",
       "      <td>118</td>\n",
       "      <td>7</td>\n",
       "      <td>23</td>\n",
       "      <td>41</td>\n",
       "      <td>8</td>\n",
       "      <td>0</td>\n",
       "      <td>0</td>\n",
       "      <td>0</td>\n",
       "      <td>0</td>\n",
       "      <td>0</td>\n",
       "      <td>0</td>\n",
       "    </tr>\n",
       "    <tr>\n",
       "      <th>1</th>\n",
       "      <td>ID_WFE91NAA</td>\n",
       "      <td>1961</td>\n",
       "      <td>Graduation</td>\n",
       "      <td>7</td>\n",
       "      <td>57499.2</td>\n",
       "      <td>0</td>\n",
       "      <td>1</td>\n",
       "      <td>2012-11-22</td>\n",
       "      <td>79</td>\n",
       "      <td>5</td>\n",
       "      <td>7</td>\n",
       "      <td>4</td>\n",
       "      <td>6</td>\n",
       "      <td>510</td>\n",
       "      <td>3</td>\n",
       "      <td>26</td>\n",
       "      <td>0</td>\n",
       "      <td>0</td>\n",
       "      <td>75</td>\n",
       "      <td>6</td>\n",
       "      <td>0</td>\n",
       "      <td>1</td>\n",
       "      <td>0</td>\n",
       "      <td>0</td>\n",
       "      <td>0</td>\n",
       "      <td>0</td>\n",
       "    </tr>\n",
       "    <tr>\n",
       "      <th>2</th>\n",
       "      <td>ID_JV11RBRK</td>\n",
       "      <td>1973</td>\n",
       "      <td>Basic</td>\n",
       "      <td>4</td>\n",
       "      <td>17025.6</td>\n",
       "      <td>0</td>\n",
       "      <td>0</td>\n",
       "      <td>2013-02-28</td>\n",
       "      <td>47</td>\n",
       "      <td>1</td>\n",
       "      <td>2</td>\n",
       "      <td>0</td>\n",
       "      <td>4</td>\n",
       "      <td>7</td>\n",
       "      <td>10</td>\n",
       "      <td>11</td>\n",
       "      <td>16</td>\n",
       "      <td>12</td>\n",
       "      <td>27</td>\n",
       "      <td>6</td>\n",
       "      <td>0</td>\n",
       "      <td>0</td>\n",
       "      <td>0</td>\n",
       "      <td>0</td>\n",
       "      <td>0</td>\n",
       "      <td>0</td>\n",
       "    </tr>\n",
       "    <tr>\n",
       "      <th>3</th>\n",
       "      <td>ID_6B7SVKY9</td>\n",
       "      <td>1970</td>\n",
       "      <td>Graduation</td>\n",
       "      <td>6</td>\n",
       "      <td>91983.6</td>\n",
       "      <td>0</td>\n",
       "      <td>0</td>\n",
       "      <td>2013-08-16</td>\n",
       "      <td>98</td>\n",
       "      <td>1</td>\n",
       "      <td>4</td>\n",
       "      <td>7</td>\n",
       "      <td>11</td>\n",
       "      <td>741</td>\n",
       "      <td>66</td>\n",
       "      <td>946</td>\n",
       "      <td>219</td>\n",
       "      <td>189</td>\n",
       "      <td>126</td>\n",
       "      <td>2</td>\n",
       "      <td>0</td>\n",
       "      <td>0</td>\n",
       "      <td>1</td>\n",
       "      <td>1</td>\n",
       "      <td>0</td>\n",
       "      <td>0</td>\n",
       "    </tr>\n",
       "    <tr>\n",
       "      <th>4</th>\n",
       "      <td>ID_GOVUZ545</td>\n",
       "      <td>1959</td>\n",
       "      <td>Graduation</td>\n",
       "      <td>6</td>\n",
       "      <td>78235.2</td>\n",
       "      <td>0</td>\n",
       "      <td>2</td>\n",
       "      <td>2013-07-25</td>\n",
       "      <td>41</td>\n",
       "      <td>2</td>\n",
       "      <td>7</td>\n",
       "      <td>6</td>\n",
       "      <td>11</td>\n",
       "      <td>748</td>\n",
       "      <td>22</td>\n",
       "      <td>181</td>\n",
       "      <td>12</td>\n",
       "      <td>0</td>\n",
       "      <td>200</td>\n",
       "      <td>5</td>\n",
       "      <td>1</td>\n",
       "      <td>0</td>\n",
       "      <td>0</td>\n",
       "      <td>0</td>\n",
       "      <td>0</td>\n",
       "      <td>0</td>\n",
       "    </tr>\n",
       "  </tbody>\n",
       "</table>\n",
       "</div>"
      ],
      "text/plain": [
       "            ID  Year_of_Birth Education_Level Marital_Status  \\\n",
       "0  ID_ZPMABNVX           1954      Graduation              5   \n",
       "1  ID_WFE91NAA           1961      Graduation              7   \n",
       "2  ID_JV11RBRK           1973           Basic              4   \n",
       "3  ID_6B7SVKY9           1970      Graduation              6   \n",
       "4  ID_GOVUZ545           1959      Graduation              6   \n",
       "\n",
       "   Disposable_Income  No_of_Kids_in_home  No_of_Teen_in_home Date_Customer  \\\n",
       "0            48556.8                   0                   1    2013-11-01   \n",
       "1            57499.2                   0                   1    2012-11-22   \n",
       "2            17025.6                   0                   0    2013-02-28   \n",
       "3            91983.6                   0                   0    2013-08-16   \n",
       "4            78235.2                   0                   2    2013-07-25   \n",
       "\n",
       "   Recency  Discounted_Purchases  WebPurchases  CatalogPurchases  \\\n",
       "0       85                     6             8                 2   \n",
       "1       79                     5             7                 4   \n",
       "2       47                     1             2                 0   \n",
       "3       98                     1             4                 7   \n",
       "4       41                     2             7                 6   \n",
       "\n",
       "   StorePurchases  Amount_on_Wines  Amount_on_Fruits  Amount_on_MeatProducts  \\\n",
       "0               8              429                20                     118   \n",
       "1               6              510                 3                      26   \n",
       "2               4                7                10                      11   \n",
       "3              11              741                66                     946   \n",
       "4              11              748                22                     181   \n",
       "\n",
       "   Amount_on_FishProducts  Amount_on_SweetProducts  Amount_on_GoldProds  \\\n",
       "0                       7                       23                   41   \n",
       "1                       0                        0                   75   \n",
       "2                      16                       12                   27   \n",
       "3                     219                      189                  126   \n",
       "4                      12                        0                  200   \n",
       "\n",
       "   WebVisitsMonth  Cmp3Accepted  Cmp4Accepted  Cmp5Accepted  Cmp1Accepted  \\\n",
       "0               8             0             0             0             0   \n",
       "1               6             0             1             0             0   \n",
       "2               6             0             0             0             0   \n",
       "3               2             0             0             1             1   \n",
       "4               5             1             0             0             0   \n",
       "\n",
       "   Cmp2Accepted  Any_Complain  \n",
       "0             0             0  \n",
       "1             0             0  \n",
       "2             0             0  \n",
       "3             0             0  \n",
       "4             0             0  "
      ]
     },
     "execution_count": 26,
     "metadata": {},
     "output_type": "execute_result"
    }
   ],
   "source": [
    "test_data.head(5)"
   ]
  },
  {
   "cell_type": "code",
   "execution_count": 27,
   "metadata": {},
   "outputs": [
    {
     "data": {
      "text/plain": [
       "array(['Graduation', '2n Cycle', 'Master', 'PhD', 'Basic'], dtype=object)"
      ]
     },
     "execution_count": 27,
     "metadata": {},
     "output_type": "execute_result"
    }
   ],
   "source": [
    "train_data['Education_Level'].unique()"
   ]
  },
  {
   "cell_type": "code",
   "execution_count": 28,
   "metadata": {},
   "outputs": [],
   "source": [
    "train_data.loc[train_data['Education_Level'] == 'Graduation', 'Education_Level'] = 1\n",
    "train_data.loc[train_data['Education_Level'] == '2n Cycle', 'Education_Level'] = 2\n",
    "train_data.loc[train_data['Education_Level'] == 'Master', 'Education_Level'] = 3\n",
    "train_data.loc[train_data['Education_Level'] == 'PhD', 'Education_Level'] = 4\n",
    "train_data.loc[train_data['Education_Level'] == 'Basic', 'Education_Level'] = 5"
   ]
  },
  {
   "cell_type": "code",
   "execution_count": 29,
   "metadata": {},
   "outputs": [],
   "source": [
    "test_data.loc[test_data['Education_Level'] == 'Graduation', 'Education_Level'] = 1\n",
    "test_data.loc[test_data['Education_Level'] == '2n Cycle', 'Education_Level'] = 2\n",
    "test_data.loc[test_data['Education_Level'] == 'Master', 'Education_Level'] = 3\n",
    "test_data.loc[test_data['Education_Level'] == 'PhD', 'Education_Level'] = 4\n",
    "test_data.loc[test_data['Education_Level'] == 'Basic', 'Education_Level'] = 5"
   ]
  },
  {
   "cell_type": "code",
   "execution_count": 30,
   "metadata": {},
   "outputs": [
    {
     "data": {
      "text/html": [
       "<div>\n",
       "<style scoped>\n",
       "    .dataframe tbody tr th:only-of-type {\n",
       "        vertical-align: middle;\n",
       "    }\n",
       "\n",
       "    .dataframe tbody tr th {\n",
       "        vertical-align: top;\n",
       "    }\n",
       "\n",
       "    .dataframe thead th {\n",
       "        text-align: right;\n",
       "    }\n",
       "</style>\n",
       "<table border=\"1\" class=\"dataframe\">\n",
       "  <thead>\n",
       "    <tr style=\"text-align: right;\">\n",
       "      <th></th>\n",
       "      <th>ID</th>\n",
       "      <th>Year_of_Birth</th>\n",
       "      <th>Education_Level</th>\n",
       "      <th>Marital_Status</th>\n",
       "      <th>Disposable_Income</th>\n",
       "      <th>No_of_Kids_in_home</th>\n",
       "      <th>No_of_Teen_in_home</th>\n",
       "      <th>Date_Customer</th>\n",
       "      <th>Recency</th>\n",
       "      <th>Discounted_Purchases</th>\n",
       "      <th>WebPurchases</th>\n",
       "      <th>CatalogPurchases</th>\n",
       "      <th>StorePurchases</th>\n",
       "      <th>Amount_on_Wines</th>\n",
       "      <th>Amount_on_Fruits</th>\n",
       "      <th>Amount_on_MeatProducts</th>\n",
       "      <th>Amount_on_FishProducts</th>\n",
       "      <th>Amount_on_SweetProducts</th>\n",
       "      <th>Amount_on_GoldProds</th>\n",
       "      <th>WebVisitsMonth</th>\n",
       "      <th>Cmp3Accepted</th>\n",
       "      <th>Cmp4Accepted</th>\n",
       "      <th>Cmp5Accepted</th>\n",
       "      <th>Cmp1Accepted</th>\n",
       "      <th>Cmp2Accepted</th>\n",
       "      <th>Any_Complain</th>\n",
       "      <th>Response</th>\n",
       "    </tr>\n",
       "  </thead>\n",
       "  <tbody>\n",
       "    <tr>\n",
       "      <th>0</th>\n",
       "      <td>ID_4A9AR6FQ</td>\n",
       "      <td>1955</td>\n",
       "      <td>1</td>\n",
       "      <td>3</td>\n",
       "      <td>77504.4</td>\n",
       "      <td>1</td>\n",
       "      <td>1</td>\n",
       "      <td>2014-06-22</td>\n",
       "      <td>56</td>\n",
       "      <td>2</td>\n",
       "      <td>1</td>\n",
       "      <td>1</td>\n",
       "      <td>4</td>\n",
       "      <td>71</td>\n",
       "      <td>3</td>\n",
       "      <td>16</td>\n",
       "      <td>0</td>\n",
       "      <td>6</td>\n",
       "      <td>20</td>\n",
       "      <td>3</td>\n",
       "      <td>0</td>\n",
       "      <td>0</td>\n",
       "      <td>0</td>\n",
       "      <td>0</td>\n",
       "      <td>0</td>\n",
       "      <td>0</td>\n",
       "      <td>0</td>\n",
       "    </tr>\n",
       "    <tr>\n",
       "      <th>1</th>\n",
       "      <td>ID_X28T3VEK</td>\n",
       "      <td>1958</td>\n",
       "      <td>1</td>\n",
       "      <td>6</td>\n",
       "      <td>56784.0</td>\n",
       "      <td>0</td>\n",
       "      <td>1</td>\n",
       "      <td>2013-01-08</td>\n",
       "      <td>17</td>\n",
       "      <td>6</td>\n",
       "      <td>5</td>\n",
       "      <td>1</td>\n",
       "      <td>8</td>\n",
       "      <td>205</td>\n",
       "      <td>22</td>\n",
       "      <td>111</td>\n",
       "      <td>50</td>\n",
       "      <td>15</td>\n",
       "      <td>19</td>\n",
       "      <td>6</td>\n",
       "      <td>0</td>\n",
       "      <td>0</td>\n",
       "      <td>0</td>\n",
       "      <td>0</td>\n",
       "      <td>0</td>\n",
       "      <td>0</td>\n",
       "      <td>0</td>\n",
       "    </tr>\n",
       "    <tr>\n",
       "      <th>2</th>\n",
       "      <td>ID_AWXARH57</td>\n",
       "      <td>1962</td>\n",
       "      <td>1</td>\n",
       "      <td>5</td>\n",
       "      <td>103714.8</td>\n",
       "      <td>0</td>\n",
       "      <td>0</td>\n",
       "      <td>2013-11-21</td>\n",
       "      <td>17</td>\n",
       "      <td>0</td>\n",
       "      <td>7</td>\n",
       "      <td>4</td>\n",
       "      <td>7</td>\n",
       "      <td>469</td>\n",
       "      <td>31</td>\n",
       "      <td>873</td>\n",
       "      <td>29</td>\n",
       "      <td>18</td>\n",
       "      <td>37</td>\n",
       "      <td>2</td>\n",
       "      <td>0</td>\n",
       "      <td>0</td>\n",
       "      <td>0</td>\n",
       "      <td>1</td>\n",
       "      <td>0</td>\n",
       "      <td>0</td>\n",
       "      <td>1</td>\n",
       "    </tr>\n",
       "    <tr>\n",
       "      <th>3</th>\n",
       "      <td>ID_FQVZHE81</td>\n",
       "      <td>1979</td>\n",
       "      <td>2</td>\n",
       "      <td>5</td>\n",
       "      <td>46311.6</td>\n",
       "      <td>1</td>\n",
       "      <td>0</td>\n",
       "      <td>2013-09-13</td>\n",
       "      <td>49</td>\n",
       "      <td>3</td>\n",
       "      <td>4</td>\n",
       "      <td>1</td>\n",
       "      <td>3</td>\n",
       "      <td>56</td>\n",
       "      <td>15</td>\n",
       "      <td>49</td>\n",
       "      <td>17</td>\n",
       "      <td>24</td>\n",
       "      <td>24</td>\n",
       "      <td>8</td>\n",
       "      <td>0</td>\n",
       "      <td>0</td>\n",
       "      <td>0</td>\n",
       "      <td>0</td>\n",
       "      <td>0</td>\n",
       "      <td>0</td>\n",
       "      <td>0</td>\n",
       "    </tr>\n",
       "    <tr>\n",
       "      <th>4</th>\n",
       "      <td>ID_QVLWGPRN</td>\n",
       "      <td>1959</td>\n",
       "      <td>1</td>\n",
       "      <td>4</td>\n",
       "      <td>87486.0</td>\n",
       "      <td>0</td>\n",
       "      <td>0</td>\n",
       "      <td>2014-01-21</td>\n",
       "      <td>59</td>\n",
       "      <td>1</td>\n",
       "      <td>3</td>\n",
       "      <td>7</td>\n",
       "      <td>9</td>\n",
       "      <td>412</td>\n",
       "      <td>117</td>\n",
       "      <td>445</td>\n",
       "      <td>181</td>\n",
       "      <td>165</td>\n",
       "      <td>203</td>\n",
       "      <td>1</td>\n",
       "      <td>0</td>\n",
       "      <td>0</td>\n",
       "      <td>0</td>\n",
       "      <td>1</td>\n",
       "      <td>0</td>\n",
       "      <td>0</td>\n",
       "      <td>0</td>\n",
       "    </tr>\n",
       "  </tbody>\n",
       "</table>\n",
       "</div>"
      ],
      "text/plain": [
       "            ID  Year_of_Birth Education_Level Marital_Status  \\\n",
       "0  ID_4A9AR6FQ           1955               1              3   \n",
       "1  ID_X28T3VEK           1958               1              6   \n",
       "2  ID_AWXARH57           1962               1              5   \n",
       "3  ID_FQVZHE81           1979               2              5   \n",
       "4  ID_QVLWGPRN           1959               1              4   \n",
       "\n",
       "   Disposable_Income  No_of_Kids_in_home  No_of_Teen_in_home Date_Customer  \\\n",
       "0            77504.4                   1                   1    2014-06-22   \n",
       "1            56784.0                   0                   1    2013-01-08   \n",
       "2           103714.8                   0                   0    2013-11-21   \n",
       "3            46311.6                   1                   0    2013-09-13   \n",
       "4            87486.0                   0                   0    2014-01-21   \n",
       "\n",
       "   Recency  Discounted_Purchases  WebPurchases  CatalogPurchases  \\\n",
       "0       56                     2             1                 1   \n",
       "1       17                     6             5                 1   \n",
       "2       17                     0             7                 4   \n",
       "3       49                     3             4                 1   \n",
       "4       59                     1             3                 7   \n",
       "\n",
       "   StorePurchases  Amount_on_Wines  Amount_on_Fruits  Amount_on_MeatProducts  \\\n",
       "0               4               71                 3                      16   \n",
       "1               8              205                22                     111   \n",
       "2               7              469                31                     873   \n",
       "3               3               56                15                      49   \n",
       "4               9              412               117                     445   \n",
       "\n",
       "   Amount_on_FishProducts  Amount_on_SweetProducts  Amount_on_GoldProds  \\\n",
       "0                       0                        6                   20   \n",
       "1                      50                       15                   19   \n",
       "2                      29                       18                   37   \n",
       "3                      17                       24                   24   \n",
       "4                     181                      165                  203   \n",
       "\n",
       "   WebVisitsMonth  Cmp3Accepted  Cmp4Accepted  Cmp5Accepted  Cmp1Accepted  \\\n",
       "0               3             0             0             0             0   \n",
       "1               6             0             0             0             0   \n",
       "2               2             0             0             0             1   \n",
       "3               8             0             0             0             0   \n",
       "4               1             0             0             0             1   \n",
       "\n",
       "   Cmp2Accepted  Any_Complain  Response  \n",
       "0             0             0         0  \n",
       "1             0             0         0  \n",
       "2             0             0         1  \n",
       "3             0             0         0  \n",
       "4             0             0         0  "
      ]
     },
     "execution_count": 30,
     "metadata": {},
     "output_type": "execute_result"
    }
   ],
   "source": [
    "train_data.head()"
   ]
  },
  {
   "cell_type": "code",
   "execution_count": 31,
   "metadata": {},
   "outputs": [
    {
     "name": "stdout",
     "output_type": "stream",
     "text": [
      "<class 'pandas.core.frame.DataFrame'>\n",
      "Int64Index: 1567 entries, 0 to 1567\n",
      "Data columns (total 27 columns):\n",
      " #   Column                   Non-Null Count  Dtype         \n",
      "---  ------                   --------------  -----         \n",
      " 0   ID                       1567 non-null   object        \n",
      " 1   Year_of_Birth            1567 non-null   int64         \n",
      " 2   Education_Level          1567 non-null   object        \n",
      " 3   Marital_Status           1567 non-null   object        \n",
      " 4   Disposable_Income        1551 non-null   float64       \n",
      " 5   No_of_Kids_in_home       1567 non-null   int64         \n",
      " 6   No_of_Teen_in_home       1567 non-null   int64         \n",
      " 7   Date_Customer            1567 non-null   datetime64[ns]\n",
      " 8   Recency                  1567 non-null   int64         \n",
      " 9   Discounted_Purchases     1567 non-null   int64         \n",
      " 10  WebPurchases             1567 non-null   int64         \n",
      " 11  CatalogPurchases         1567 non-null   int64         \n",
      " 12  StorePurchases           1567 non-null   int64         \n",
      " 13  Amount_on_Wines          1567 non-null   int64         \n",
      " 14  Amount_on_Fruits         1567 non-null   int64         \n",
      " 15  Amount_on_MeatProducts   1567 non-null   int64         \n",
      " 16  Amount_on_FishProducts   1567 non-null   int64         \n",
      " 17  Amount_on_SweetProducts  1567 non-null   int64         \n",
      " 18  Amount_on_GoldProds      1567 non-null   int64         \n",
      " 19  WebVisitsMonth           1567 non-null   int64         \n",
      " 20  Cmp3Accepted             1567 non-null   int64         \n",
      " 21  Cmp4Accepted             1567 non-null   int64         \n",
      " 22  Cmp5Accepted             1567 non-null   int64         \n",
      " 23  Cmp1Accepted             1567 non-null   int64         \n",
      " 24  Cmp2Accepted             1567 non-null   int64         \n",
      " 25  Any_Complain             1567 non-null   int64         \n",
      " 26  Response                 1567 non-null   int64         \n",
      "dtypes: datetime64[ns](1), float64(1), int64(22), object(3)\n",
      "memory usage: 342.8+ KB\n"
     ]
    }
   ],
   "source": [
    "train_data.info()"
   ]
  },
  {
   "cell_type": "code",
   "execution_count": 32,
   "metadata": {},
   "outputs": [],
   "source": [
    "train_data = train_data.astype({'Education_Level': int, 'Marital_Status': int})"
   ]
  },
  {
   "cell_type": "code",
   "execution_count": 33,
   "metadata": {},
   "outputs": [],
   "source": [
    "test_data = test_data.astype({'Education_Level': int, 'Marital_Status': int})\n",
    "\n",
    "# feature = train.columns.drop(['Response', 'ID', 'Date_Customer'])"
   ]
  },
  {
   "cell_type": "code",
   "execution_count": 34,
   "metadata": {},
   "outputs": [
    {
     "data": {
      "text/plain": [
       "(1567, 27)"
      ]
     },
     "execution_count": 34,
     "metadata": {},
     "output_type": "execute_result"
    }
   ],
   "source": [
    "train_data.shape"
   ]
  },
  {
   "cell_type": "markdown",
   "metadata": {},
   "source": [
    "## TREATING MISSING VALUES"
   ]
  },
  {
   "cell_type": "code",
   "execution_count": 35,
   "metadata": {},
   "outputs": [
    {
     "data": {
      "text/plain": [
       "No_of_Kids_in_home\n",
       "0    74785.532646\n",
       "1    45180.370233\n",
       "2    48075.563636\n",
       "Name: Disposable_Income, dtype: float64"
      ]
     },
     "execution_count": 35,
     "metadata": {},
     "output_type": "execute_result"
    }
   ],
   "source": [
    "train_data.groupby(['No_of_Kids_in_home'])['Disposable_Income'].mean()"
   ]
  },
  {
   "cell_type": "code",
   "execution_count": 36,
   "metadata": {},
   "outputs": [
    {
     "data": {
      "text/plain": [
       "No_of_Kids_in_home\n",
       "0    72752.438049\n",
       "1    48619.214938\n",
       "2    44196.830769\n",
       "Name: Disposable_Income, dtype: float64"
      ]
     },
     "execution_count": 36,
     "metadata": {},
     "output_type": "execute_result"
    }
   ],
   "source": [
    "test_data.groupby(['No_of_Kids_in_home'])['Disposable_Income'].mean()"
   ]
  },
  {
   "cell_type": "code",
   "execution_count": 37,
   "metadata": {},
   "outputs": [],
   "source": [
    "def Disposable_Income(cols):\n",
    "    Disposable_Income = cols[1]\n",
    "    No_of_Kids_in_home= cols[0]\n",
    "    if pd.isnull(Disposable_Income):\n",
    "        if No_of_Kids_in_home == 0:\n",
    "            return 72752.438049\n",
    "        elif No_of_Kids_in_home == 1:\n",
    "            return 48619.214938\n",
    "        else:\n",
    "            return 48075.563636\n",
    "    else:\n",
    "        return Disposable_Income"
   ]
  },
  {
   "cell_type": "code",
   "execution_count": 38,
   "metadata": {},
   "outputs": [],
   "source": [
    "train_data['Disposable_Income'] = train_data[['No_of_Kids_in_home','Disposable_Income']].apply(Disposable_Income,axis=1)"
   ]
  },
  {
   "cell_type": "code",
   "execution_count": 39,
   "metadata": {},
   "outputs": [
    {
     "data": {
      "text/html": [
       "<div>\n",
       "<style scoped>\n",
       "    .dataframe tbody tr th:only-of-type {\n",
       "        vertical-align: middle;\n",
       "    }\n",
       "\n",
       "    .dataframe tbody tr th {\n",
       "        vertical-align: top;\n",
       "    }\n",
       "\n",
       "    .dataframe thead th {\n",
       "        text-align: right;\n",
       "    }\n",
       "</style>\n",
       "<table border=\"1\" class=\"dataframe\">\n",
       "  <thead>\n",
       "    <tr style=\"text-align: right;\">\n",
       "      <th></th>\n",
       "      <th>ID</th>\n",
       "      <th>Year_of_Birth</th>\n",
       "      <th>Education_Level</th>\n",
       "      <th>Marital_Status</th>\n",
       "      <th>Disposable_Income</th>\n",
       "      <th>No_of_Kids_in_home</th>\n",
       "      <th>No_of_Teen_in_home</th>\n",
       "      <th>Date_Customer</th>\n",
       "      <th>Recency</th>\n",
       "      <th>Discounted_Purchases</th>\n",
       "      <th>WebPurchases</th>\n",
       "      <th>CatalogPurchases</th>\n",
       "      <th>StorePurchases</th>\n",
       "      <th>Amount_on_Wines</th>\n",
       "      <th>Amount_on_Fruits</th>\n",
       "      <th>Amount_on_MeatProducts</th>\n",
       "      <th>Amount_on_FishProducts</th>\n",
       "      <th>Amount_on_SweetProducts</th>\n",
       "      <th>Amount_on_GoldProds</th>\n",
       "      <th>WebVisitsMonth</th>\n",
       "      <th>Cmp3Accepted</th>\n",
       "      <th>Cmp4Accepted</th>\n",
       "      <th>Cmp5Accepted</th>\n",
       "      <th>Cmp1Accepted</th>\n",
       "      <th>Cmp2Accepted</th>\n",
       "      <th>Any_Complain</th>\n",
       "      <th>Response</th>\n",
       "    </tr>\n",
       "  </thead>\n",
       "  <tbody>\n",
       "    <tr>\n",
       "      <th>0</th>\n",
       "      <td>ID_4A9AR6FQ</td>\n",
       "      <td>1955</td>\n",
       "      <td>1</td>\n",
       "      <td>3</td>\n",
       "      <td>77504.4</td>\n",
       "      <td>1</td>\n",
       "      <td>1</td>\n",
       "      <td>2014-06-22</td>\n",
       "      <td>56</td>\n",
       "      <td>2</td>\n",
       "      <td>1</td>\n",
       "      <td>1</td>\n",
       "      <td>4</td>\n",
       "      <td>71</td>\n",
       "      <td>3</td>\n",
       "      <td>16</td>\n",
       "      <td>0</td>\n",
       "      <td>6</td>\n",
       "      <td>20</td>\n",
       "      <td>3</td>\n",
       "      <td>0</td>\n",
       "      <td>0</td>\n",
       "      <td>0</td>\n",
       "      <td>0</td>\n",
       "      <td>0</td>\n",
       "      <td>0</td>\n",
       "      <td>0</td>\n",
       "    </tr>\n",
       "    <tr>\n",
       "      <th>1</th>\n",
       "      <td>ID_X28T3VEK</td>\n",
       "      <td>1958</td>\n",
       "      <td>1</td>\n",
       "      <td>6</td>\n",
       "      <td>56784.0</td>\n",
       "      <td>0</td>\n",
       "      <td>1</td>\n",
       "      <td>2013-01-08</td>\n",
       "      <td>17</td>\n",
       "      <td>6</td>\n",
       "      <td>5</td>\n",
       "      <td>1</td>\n",
       "      <td>8</td>\n",
       "      <td>205</td>\n",
       "      <td>22</td>\n",
       "      <td>111</td>\n",
       "      <td>50</td>\n",
       "      <td>15</td>\n",
       "      <td>19</td>\n",
       "      <td>6</td>\n",
       "      <td>0</td>\n",
       "      <td>0</td>\n",
       "      <td>0</td>\n",
       "      <td>0</td>\n",
       "      <td>0</td>\n",
       "      <td>0</td>\n",
       "      <td>0</td>\n",
       "    </tr>\n",
       "    <tr>\n",
       "      <th>2</th>\n",
       "      <td>ID_AWXARH57</td>\n",
       "      <td>1962</td>\n",
       "      <td>1</td>\n",
       "      <td>5</td>\n",
       "      <td>103714.8</td>\n",
       "      <td>0</td>\n",
       "      <td>0</td>\n",
       "      <td>2013-11-21</td>\n",
       "      <td>17</td>\n",
       "      <td>0</td>\n",
       "      <td>7</td>\n",
       "      <td>4</td>\n",
       "      <td>7</td>\n",
       "      <td>469</td>\n",
       "      <td>31</td>\n",
       "      <td>873</td>\n",
       "      <td>29</td>\n",
       "      <td>18</td>\n",
       "      <td>37</td>\n",
       "      <td>2</td>\n",
       "      <td>0</td>\n",
       "      <td>0</td>\n",
       "      <td>0</td>\n",
       "      <td>1</td>\n",
       "      <td>0</td>\n",
       "      <td>0</td>\n",
       "      <td>1</td>\n",
       "    </tr>\n",
       "    <tr>\n",
       "      <th>3</th>\n",
       "      <td>ID_FQVZHE81</td>\n",
       "      <td>1979</td>\n",
       "      <td>2</td>\n",
       "      <td>5</td>\n",
       "      <td>46311.6</td>\n",
       "      <td>1</td>\n",
       "      <td>0</td>\n",
       "      <td>2013-09-13</td>\n",
       "      <td>49</td>\n",
       "      <td>3</td>\n",
       "      <td>4</td>\n",
       "      <td>1</td>\n",
       "      <td>3</td>\n",
       "      <td>56</td>\n",
       "      <td>15</td>\n",
       "      <td>49</td>\n",
       "      <td>17</td>\n",
       "      <td>24</td>\n",
       "      <td>24</td>\n",
       "      <td>8</td>\n",
       "      <td>0</td>\n",
       "      <td>0</td>\n",
       "      <td>0</td>\n",
       "      <td>0</td>\n",
       "      <td>0</td>\n",
       "      <td>0</td>\n",
       "      <td>0</td>\n",
       "    </tr>\n",
       "    <tr>\n",
       "      <th>4</th>\n",
       "      <td>ID_QVLWGPRN</td>\n",
       "      <td>1959</td>\n",
       "      <td>1</td>\n",
       "      <td>4</td>\n",
       "      <td>87486.0</td>\n",
       "      <td>0</td>\n",
       "      <td>0</td>\n",
       "      <td>2014-01-21</td>\n",
       "      <td>59</td>\n",
       "      <td>1</td>\n",
       "      <td>3</td>\n",
       "      <td>7</td>\n",
       "      <td>9</td>\n",
       "      <td>412</td>\n",
       "      <td>117</td>\n",
       "      <td>445</td>\n",
       "      <td>181</td>\n",
       "      <td>165</td>\n",
       "      <td>203</td>\n",
       "      <td>1</td>\n",
       "      <td>0</td>\n",
       "      <td>0</td>\n",
       "      <td>0</td>\n",
       "      <td>1</td>\n",
       "      <td>0</td>\n",
       "      <td>0</td>\n",
       "      <td>0</td>\n",
       "    </tr>\n",
       "  </tbody>\n",
       "</table>\n",
       "</div>"
      ],
      "text/plain": [
       "            ID  Year_of_Birth  Education_Level  Marital_Status  \\\n",
       "0  ID_4A9AR6FQ           1955                1               3   \n",
       "1  ID_X28T3VEK           1958                1               6   \n",
       "2  ID_AWXARH57           1962                1               5   \n",
       "3  ID_FQVZHE81           1979                2               5   \n",
       "4  ID_QVLWGPRN           1959                1               4   \n",
       "\n",
       "   Disposable_Income  No_of_Kids_in_home  No_of_Teen_in_home Date_Customer  \\\n",
       "0            77504.4                   1                   1    2014-06-22   \n",
       "1            56784.0                   0                   1    2013-01-08   \n",
       "2           103714.8                   0                   0    2013-11-21   \n",
       "3            46311.6                   1                   0    2013-09-13   \n",
       "4            87486.0                   0                   0    2014-01-21   \n",
       "\n",
       "   Recency  Discounted_Purchases  WebPurchases  CatalogPurchases  \\\n",
       "0       56                     2             1                 1   \n",
       "1       17                     6             5                 1   \n",
       "2       17                     0             7                 4   \n",
       "3       49                     3             4                 1   \n",
       "4       59                     1             3                 7   \n",
       "\n",
       "   StorePurchases  Amount_on_Wines  Amount_on_Fruits  Amount_on_MeatProducts  \\\n",
       "0               4               71                 3                      16   \n",
       "1               8              205                22                     111   \n",
       "2               7              469                31                     873   \n",
       "3               3               56                15                      49   \n",
       "4               9              412               117                     445   \n",
       "\n",
       "   Amount_on_FishProducts  Amount_on_SweetProducts  Amount_on_GoldProds  \\\n",
       "0                       0                        6                   20   \n",
       "1                      50                       15                   19   \n",
       "2                      29                       18                   37   \n",
       "3                      17                       24                   24   \n",
       "4                     181                      165                  203   \n",
       "\n",
       "   WebVisitsMonth  Cmp3Accepted  Cmp4Accepted  Cmp5Accepted  Cmp1Accepted  \\\n",
       "0               3             0             0             0             0   \n",
       "1               6             0             0             0             0   \n",
       "2               2             0             0             0             1   \n",
       "3               8             0             0             0             0   \n",
       "4               1             0             0             0             1   \n",
       "\n",
       "   Cmp2Accepted  Any_Complain  Response  \n",
       "0             0             0         0  \n",
       "1             0             0         0  \n",
       "2             0             0         1  \n",
       "3             0             0         0  \n",
       "4             0             0         0  "
      ]
     },
     "execution_count": 39,
     "metadata": {},
     "output_type": "execute_result"
    }
   ],
   "source": [
    "train_data.head()"
   ]
  },
  {
   "cell_type": "code",
   "execution_count": 40,
   "metadata": {},
   "outputs": [
    {
     "name": "stdout",
     "output_type": "stream",
     "text": [
      "<class 'pandas.core.frame.DataFrame'>\n",
      "Int64Index: 1567 entries, 0 to 1567\n",
      "Data columns (total 27 columns):\n",
      " #   Column                   Non-Null Count  Dtype         \n",
      "---  ------                   --------------  -----         \n",
      " 0   ID                       1567 non-null   object        \n",
      " 1   Year_of_Birth            1567 non-null   int64         \n",
      " 2   Education_Level          1567 non-null   int32         \n",
      " 3   Marital_Status           1567 non-null   int32         \n",
      " 4   Disposable_Income        1567 non-null   float64       \n",
      " 5   No_of_Kids_in_home       1567 non-null   int64         \n",
      " 6   No_of_Teen_in_home       1567 non-null   int64         \n",
      " 7   Date_Customer            1567 non-null   datetime64[ns]\n",
      " 8   Recency                  1567 non-null   int64         \n",
      " 9   Discounted_Purchases     1567 non-null   int64         \n",
      " 10  WebPurchases             1567 non-null   int64         \n",
      " 11  CatalogPurchases         1567 non-null   int64         \n",
      " 12  StorePurchases           1567 non-null   int64         \n",
      " 13  Amount_on_Wines          1567 non-null   int64         \n",
      " 14  Amount_on_Fruits         1567 non-null   int64         \n",
      " 15  Amount_on_MeatProducts   1567 non-null   int64         \n",
      " 16  Amount_on_FishProducts   1567 non-null   int64         \n",
      " 17  Amount_on_SweetProducts  1567 non-null   int64         \n",
      " 18  Amount_on_GoldProds      1567 non-null   int64         \n",
      " 19  WebVisitsMonth           1567 non-null   int64         \n",
      " 20  Cmp3Accepted             1567 non-null   int64         \n",
      " 21  Cmp4Accepted             1567 non-null   int64         \n",
      " 22  Cmp5Accepted             1567 non-null   int64         \n",
      " 23  Cmp1Accepted             1567 non-null   int64         \n",
      " 24  Cmp2Accepted             1567 non-null   int64         \n",
      " 25  Any_Complain             1567 non-null   int64         \n",
      " 26  Response                 1567 non-null   int64         \n",
      "dtypes: datetime64[ns](1), float64(1), int32(2), int64(22), object(1)\n",
      "memory usage: 330.5+ KB\n"
     ]
    }
   ],
   "source": [
    "train_data.info()"
   ]
  },
  {
   "cell_type": "code",
   "execution_count": null,
   "metadata": {},
   "outputs": [],
   "source": []
  },
  {
   "cell_type": "code",
   "execution_count": 41,
   "metadata": {},
   "outputs": [
    {
     "data": {
      "text/plain": [
       "<matplotlib.axes._subplots.AxesSubplot at 0x25a98353220>"
      ]
     },
     "execution_count": 41,
     "metadata": {},
     "output_type": "execute_result"
    },
    {
     "data": {
      "image/png": "[encoded data removed]",
      "text/plain": [
       "<Figure size 432x288 with 1 Axes>"
      ]
     },
     "metadata": {
      "needs_background": "light"
     },
     "output_type": "display_data"
    }
   ],
   "source": [
    "import seaborn as sns\n",
    "sns.heatmap(train_data.isnull(),yticklabels=False,cbar=False,cmap='viridis')"
   ]
  },
  {
   "cell_type": "code",
   "execution_count": 42,
   "metadata": {},
   "outputs": [],
   "source": [
    "test_data['Disposable_Income'] = test_data[['No_of_Kids_in_home','Disposable_Income']].apply(Disposable_Income,axis=1)"
   ]
  },
  {
   "cell_type": "code",
   "execution_count": null,
   "metadata": {},
   "outputs": [],
   "source": []
  },
  {
   "cell_type": "code",
   "execution_count": 43,
   "metadata": {},
   "outputs": [
    {
     "data": {
      "text/plain": [
       "<matplotlib.axes._subplots.AxesSubplot at 0x25a97efd700>"
      ]
     },
     "execution_count": 43,
     "metadata": {},
     "output_type": "execute_result"
    },
    {
     "data": {
      "image/png": "[encoded data removed]",
      "text/plain": [
       "<Figure size 432x288 with 1 Axes>"
      ]
     },
     "metadata": {
      "needs_background": "light"
     },
     "output_type": "display_data"
    }
   ],
   "source": [
    "import seaborn as sns\n",
    "sns.heatmap(test_data.isnull(),yticklabels=False,cbar=False,cmap='viridis')"
   ]
  },
  {
   "cell_type": "code",
   "execution_count": 44,
   "metadata": {},
   "outputs": [
    {
     "data": {
      "text/plain": [
       "Index(['ID', 'Year_of_Birth', 'Education_Level', 'Marital_Status',\n",
       "       'Disposable_Income', 'No_of_Kids_in_home', 'No_of_Teen_in_home',\n",
       "       'Date_Customer', 'Recency', 'Discounted_Purchases', 'WebPurchases',\n",
       "       'CatalogPurchases', 'StorePurchases', 'Amount_on_Wines',\n",
       "       'Amount_on_Fruits', 'Amount_on_MeatProducts', 'Amount_on_FishProducts',\n",
       "       'Amount_on_SweetProducts', 'Amount_on_GoldProds', 'WebVisitsMonth',\n",
       "       'Cmp3Accepted', 'Cmp4Accepted', 'Cmp5Accepted', 'Cmp1Accepted',\n",
       "       'Cmp2Accepted', 'Any_Complain'],\n",
       "      dtype='object')"
      ]
     },
     "execution_count": 44,
     "metadata": {},
     "output_type": "execute_result"
    }
   ],
   "source": [
    "test_data.columns"
   ]
  },
  {
   "cell_type": "code",
   "execution_count": 45,
   "metadata": {},
   "outputs": [
    {
     "data": {
      "text/plain": [
       "Index(['ID', 'Year_of_Birth', 'Education_Level', 'Marital_Status',\n",
       "       'Disposable_Income', 'No_of_Kids_in_home', 'No_of_Teen_in_home',\n",
       "       'Date_Customer', 'Recency', 'Discounted_Purchases', 'WebPurchases',\n",
       "       'CatalogPurchases', 'StorePurchases', 'Amount_on_Wines',\n",
       "       'Amount_on_Fruits', 'Amount_on_MeatProducts', 'Amount_on_FishProducts',\n",
       "       'Amount_on_SweetProducts', 'Amount_on_GoldProds', 'WebVisitsMonth',\n",
       "       'Cmp3Accepted', 'Cmp4Accepted', 'Cmp5Accepted', 'Cmp1Accepted',\n",
       "       'Cmp2Accepted', 'Any_Complain', 'Response'],\n",
       "      dtype='object')"
      ]
     },
     "execution_count": 45,
     "metadata": {},
     "output_type": "execute_result"
    }
   ],
   "source": [
    "train_data.columns"
   ]
  },
  {
   "cell_type": "code",
   "execution_count": 46,
   "metadata": {},
   "outputs": [],
   "source": [
    "test_data['Response'] = 'test'"
   ]
  },
  {
   "cell_type": "code",
   "execution_count": 47,
   "metadata": {},
   "outputs": [
    {
     "data": {
      "text/plain": [
       "Index(['ID', 'Year_of_Birth', 'Education_Level', 'Marital_Status',\n",
       "       'Disposable_Income', 'No_of_Kids_in_home', 'No_of_Teen_in_home',\n",
       "       'Date_Customer', 'Recency', 'Discounted_Purchases', 'WebPurchases',\n",
       "       'CatalogPurchases', 'StorePurchases', 'Amount_on_Wines',\n",
       "       'Amount_on_Fruits', 'Amount_on_MeatProducts', 'Amount_on_FishProducts',\n",
       "       'Amount_on_SweetProducts', 'Amount_on_GoldProds', 'WebVisitsMonth',\n",
       "       'Cmp3Accepted', 'Cmp4Accepted', 'Cmp5Accepted', 'Cmp1Accepted',\n",
       "       'Cmp2Accepted', 'Any_Complain', 'Response'],\n",
       "      dtype='object')"
      ]
     },
     "execution_count": 47,
     "metadata": {},
     "output_type": "execute_result"
    }
   ],
   "source": [
    "test_data.columns"
   ]
  },
  {
   "cell_type": "code",
   "execution_count": 48,
   "metadata": {},
   "outputs": [],
   "source": [
    "data = pd.concat([train_data, test_data]).reset_index(drop = True)"
   ]
  },
  {
   "cell_type": "code",
   "execution_count": 49,
   "metadata": {},
   "outputs": [
    {
     "name": "stdout",
     "output_type": "stream",
     "text": [
      "<class 'pandas.core.frame.DataFrame'>\n",
      "RangeIndex: 2239 entries, 0 to 2238\n",
      "Data columns (total 27 columns):\n",
      " #   Column                   Non-Null Count  Dtype         \n",
      "---  ------                   --------------  -----         \n",
      " 0   ID                       2239 non-null   object        \n",
      " 1   Year_of_Birth            2239 non-null   int64         \n",
      " 2   Education_Level          2239 non-null   int32         \n",
      " 3   Marital_Status           2239 non-null   int32         \n",
      " 4   Disposable_Income        2239 non-null   float64       \n",
      " 5   No_of_Kids_in_home       2239 non-null   int64         \n",
      " 6   No_of_Teen_in_home       2239 non-null   int64         \n",
      " 7   Date_Customer            2239 non-null   datetime64[ns]\n",
      " 8   Recency                  2239 non-null   int64         \n",
      " 9   Discounted_Purchases     2239 non-null   int64         \n",
      " 10  WebPurchases             2239 non-null   int64         \n",
      " 11  CatalogPurchases         2239 non-null   int64         \n",
      " 12  StorePurchases           2239 non-null   int64         \n",
      " 13  Amount_on_Wines          2239 non-null   int64         \n",
      " 14  Amount_on_Fruits         2239 non-null   int64         \n",
      " 15  Amount_on_MeatProducts   2239 non-null   int64         \n",
      " 16  Amount_on_FishProducts   2239 non-null   int64         \n",
      " 17  Amount_on_SweetProducts  2239 non-null   int64         \n",
      " 18  Amount_on_GoldProds      2239 non-null   int64         \n",
      " 19  WebVisitsMonth           2239 non-null   int64         \n",
      " 20  Cmp3Accepted             2239 non-null   int64         \n",
      " 21  Cmp4Accepted             2239 non-null   int64         \n",
      " 22  Cmp5Accepted             2239 non-null   int64         \n",
      " 23  Cmp1Accepted             2239 non-null   int64         \n",
      " 24  Cmp2Accepted             2239 non-null   int64         \n",
      " 25  Any_Complain             2239 non-null   int64         \n",
      " 26  Response                 2239 non-null   object        \n",
      "dtypes: datetime64[ns](1), float64(1), int32(2), int64(21), object(2)\n",
      "memory usage: 454.9+ KB\n"
     ]
    }
   ],
   "source": [
    "data.info()"
   ]
  },
  {
   "cell_type": "code",
   "execution_count": 50,
   "metadata": {},
   "outputs": [
    {
     "data": {
      "text/plain": [
       "(2239, 27)"
      ]
     },
     "execution_count": 50,
     "metadata": {},
     "output_type": "execute_result"
    }
   ],
   "source": [
    "data.shape"
   ]
  },
  {
   "cell_type": "markdown",
   "metadata": {},
   "source": [
    "## Feature Engineering"
   ]
  },
  {
   "cell_type": "code",
   "execution_count": 51,
   "metadata": {},
   "outputs": [
    {
     "data": {
      "text/plain": [
       "Timestamp('2014-12-06 00:00:00')"
      ]
     },
     "execution_count": 51,
     "metadata": {},
     "output_type": "execute_result"
    }
   ],
   "source": [
    "max(data.Date_Customer) #maximum date of which a customer has enrolled on spent with the company"
   ]
  },
  {
   "cell_type": "code",
   "execution_count": 52,
   "metadata": {},
   "outputs": [],
   "source": [
    "data['year'] = data.Date_Customer.dt.year  #Extracting year\n",
    "data['month'] = data.Date_Customer.dt.month # Extracting month  \n",
    "data['quater'] = data.Date_Customer.dt.quarter # Extracting quarter\n",
    "\n",
    "\n",
    "today = pd.to_datetime('2015-1-1') # setting the current date close to the date of which the last user as spent or enrolled which is 2014-12-06\n",
    "\n",
    "#Getting the no of days, month when th customer join and now \n",
    "data['duration_days'] = (today - data['Date_Customer']).dt.days  #No of days of which a customer has enrolled on spent with the company \n",
    "data['duration_months'] = ((today- data.Date_Customer)/np.timedelta64(1, 'M'))  #No of months of which a customer has enrolled on spent with the company\n",
    "data['duration_months'] = data['duration_months'].astype(int) \n",
    "\n",
    "#Getting information of customer that join at the start of the month and at the end of the month\n",
    "data['is_month_end'] = data.Date_Customer.dt.is_month_end.astype(int)\n",
    "data['is_month_start'] = data.Date_Customer.dt.is_month_start.astype(int)"
   ]
  },
  {
   "cell_type": "markdown",
   "metadata": {},
   "source": [
    "## FEATURES INTERACTION (ADDITION /MULTIPLICATION/ SUBTRACTION E.T.C)"
   ]
  },
  {
   "cell_type": "code",
   "execution_count": 53,
   "metadata": {},
   "outputs": [],
   "source": [
    "data['total_children'] = data['No_of_Kids_in_home'] + data['No_of_Teen_in_home'] #"
   ]
  },
  {
   "cell_type": "code",
   "execution_count": 54,
   "metadata": {},
   "outputs": [],
   "source": [
    "poly_feature_1 = ['Discounted_Purchases', 'WebPurchases', 'CatalogPurchases',\n",
    "       'StorePurchases'] # 2 raise to power of 4 features\n",
    "poly_feature_2 = ['Amount_on_Wines', 'Amount_on_Fruits',\n",
    "       'Amount_on_MeatProducts', 'Amount_on_FishProducts',\n",
    "       'Amount_on_SweetProducts', 'Amount_on_GoldProds'] # 2 raise to power of 6 features"
   ]
  },
  {
   "cell_type": "code",
   "execution_count": 55,
   "metadata": {},
   "outputs": [],
   "source": [
    "from sklearn.preprocessing import PolynomialFeatures"
   ]
  },
  {
   "cell_type": "code",
   "execution_count": 56,
   "metadata": {},
   "outputs": [],
   "source": [
    "poly = PolynomialFeatures(degree=2, interaction_only=True, include_bias=False)\n",
    "\n",
    "poly1 = poly.fit_transform(data[poly_feature_1])\n",
    "poly2 = poly.fit_transform(data[poly_feature_2])"
   ]
  },
  {
   "cell_type": "code",
   "execution_count": 57,
   "metadata": {},
   "outputs": [],
   "source": [
    "#Renaming the features to poly1_.....n, poly2_....n\n",
    "df_poly1 = pd.DataFrame(poly1, columns=[f\"poly1_{i}\" for i in range(poly1.shape[1])])\n",
    "df_poly2 = pd.DataFrame(poly2, columns=[f\"poly2_{i}\" for i in range(poly2.shape[1])])"
   ]
  },
  {
   "cell_type": "code",
   "execution_count": 58,
   "metadata": {},
   "outputs": [
    {
     "data": {
      "text/plain": [
       "Index(['poly1_0', 'poly1_1', 'poly1_2', 'poly1_3', 'poly1_4', 'poly1_5',\n",
       "       'poly1_6', 'poly1_7', 'poly1_8', 'poly1_9'],\n",
       "      dtype='object')"
      ]
     },
     "execution_count": 58,
     "metadata": {},
     "output_type": "execute_result"
    }
   ],
   "source": [
    "df_poly1.columns"
   ]
  },
  {
   "cell_type": "code",
   "execution_count": 59,
   "metadata": {},
   "outputs": [
    {
     "data": {
      "text/plain": [
       "Index(['poly2_0', 'poly2_1', 'poly2_2', 'poly2_3', 'poly2_4', 'poly2_5',\n",
       "       'poly2_6', 'poly2_7', 'poly2_8', 'poly2_9', 'poly2_10', 'poly2_11',\n",
       "       'poly2_12', 'poly2_13', 'poly2_14', 'poly2_15', 'poly2_16', 'poly2_17',\n",
       "       'poly2_18', 'poly2_19', 'poly2_20'],\n",
       "      dtype='object')"
      ]
     },
     "execution_count": 59,
     "metadata": {},
     "output_type": "execute_result"
    }
   ],
   "source": [
    "df_poly2.columns"
   ]
  },
  {
   "cell_type": "code",
   "execution_count": 60,
   "metadata": {},
   "outputs": [
    {
     "data": {
      "text/plain": [
       "Index(['ID', 'Year_of_Birth', 'Education_Level', 'Marital_Status',\n",
       "       'Disposable_Income', 'No_of_Kids_in_home', 'No_of_Teen_in_home',\n",
       "       'Date_Customer', 'Recency', 'Discounted_Purchases', 'WebPurchases',\n",
       "       'CatalogPurchases', 'StorePurchases', 'Amount_on_Wines',\n",
       "       'Amount_on_Fruits', 'Amount_on_MeatProducts', 'Amount_on_FishProducts',\n",
       "       'Amount_on_SweetProducts', 'Amount_on_GoldProds', 'WebVisitsMonth',\n",
       "       'Cmp3Accepted', 'Cmp4Accepted', 'Cmp5Accepted', 'Cmp1Accepted',\n",
       "       'Cmp2Accepted', 'Any_Complain', 'Response', 'year', 'month', 'quater',\n",
       "       'duration_days', 'duration_months', 'is_month_end', 'is_month_start',\n",
       "       'total_children'],\n",
       "      dtype='object')"
      ]
     },
     "execution_count": 60,
     "metadata": {},
     "output_type": "execute_result"
    }
   ],
   "source": [
    "data.columns"
   ]
  },
  {
   "cell_type": "code",
   "execution_count": 61,
   "metadata": {},
   "outputs": [
    {
     "data": {
      "text/plain": [
       "(2239, 35)"
      ]
     },
     "execution_count": 61,
     "metadata": {},
     "output_type": "execute_result"
    }
   ],
   "source": [
    "data.shape"
   ]
  },
  {
   "cell_type": "code",
   "execution_count": 62,
   "metadata": {},
   "outputs": [],
   "source": [
    "# Merging the datas created from polynomial to the whole datsets\n",
    "new_data = pd.concat([data.drop('Date_Customer', axis = 1), df_poly1], axis = 1)\n",
    "new_data = pd.concat([new_data, df_poly2], axis = 1)"
   ]
  },
  {
   "cell_type": "code",
   "execution_count": 63,
   "metadata": {},
   "outputs": [],
   "source": [
    "new_data['total_purchase'] = new_data[poly_feature_1].sum(axis = 1) # sum of all features created from poly1\n",
    "new_data['total_amount_on'] = new_data[poly_feature_2].sum(axis = 1) # sum of all features created from poly2"
   ]
  },
  {
   "cell_type": "code",
   "execution_count": 64,
   "metadata": {},
   "outputs": [],
   "source": [
    "# new_data['year_month'] = \n",
    "new_data['year_month'] = new_data['year'].apply(str) + \"_\"  + new_data['month'].apply(str) #Feting the strings total number of customer that join each month odf the year by using categorically method"
   ]
  },
  {
   "cell_type": "code",
   "execution_count": 65,
   "metadata": {},
   "outputs": [],
   "source": [
    "# bin_label = [1,2,3,4,5]\n",
    "new_data['Recency_bin'] = pd.qcut(new_data.Recency, q = [0, .2, .4, .6, .8, 1], labels=False) #Arranginging recency in percentile of 20% increasing, Bin is done to convert your continous data into group data "
   ]
  },
  {
   "cell_type": "code",
   "execution_count": 66,
   "metadata": {},
   "outputs": [],
   "source": [
    "# Calculating mean, std, max, min for each of the recency groups e.g the mean of all the customer that makes a purchase in a month and in year e.t.c\n",
    "\n",
    "new_data['Recency' + '_mean_on_yr_mth'] = new_data['Recency'].groupby(new_data['year_month']).transform('mean')\n",
    "new_data['Recency' + '_std_on_yr_mth'] = new_data['Recency'].groupby(new_data['year_month']).transform('std')\n",
    "new_data['Recency' + '_max_on_yr_mth'] = new_data['Recency'].groupby(new_data['year_month']).transform('max')\n",
    "new_data['Recency' + '_min_on_yr_mth'] = new_data['Recency'].groupby(new_data['year_month']).transform('min')"
   ]
  },
  {
   "cell_type": "code",
   "execution_count": 67,
   "metadata": {},
   "outputs": [],
   "source": [
    "new_data['year_month_int'], _ = pd.factorize(new_data['year_month']) # label encoding "
   ]
  },
  {
   "cell_type": "code",
   "execution_count": 68,
   "metadata": {},
   "outputs": [
    {
     "data": {
      "text/plain": [
       "Index(['ID', 'Year_of_Birth', 'Education_Level', 'Marital_Status',\n",
       "       'Disposable_Income', 'No_of_Kids_in_home', 'No_of_Teen_in_home',\n",
       "       'Recency', 'Discounted_Purchases', 'WebPurchases', 'CatalogPurchases',\n",
       "       'StorePurchases', 'Amount_on_Wines', 'Amount_on_Fruits',\n",
       "       'Amount_on_MeatProducts', 'Amount_on_FishProducts',\n",
       "       'Amount_on_SweetProducts', 'Amount_on_GoldProds', 'WebVisitsMonth',\n",
       "       'Cmp3Accepted', 'Cmp4Accepted', 'Cmp5Accepted', 'Cmp1Accepted',\n",
       "       'Cmp2Accepted', 'Any_Complain', 'Response', 'year', 'month', 'quater',\n",
       "       'duration_days', 'duration_months', 'is_month_end', 'is_month_start',\n",
       "       'total_children', 'poly1_0', 'poly1_1', 'poly1_2', 'poly1_3', 'poly1_4',\n",
       "       'poly1_5', 'poly1_6', 'poly1_7', 'poly1_8', 'poly1_9', 'poly2_0',\n",
       "       'poly2_1', 'poly2_2', 'poly2_3', 'poly2_4', 'poly2_5', 'poly2_6',\n",
       "       'poly2_7', 'poly2_8', 'poly2_9', 'poly2_10', 'poly2_11', 'poly2_12',\n",
       "       'poly2_13', 'poly2_14', 'poly2_15', 'poly2_16', 'poly2_17', 'poly2_18',\n",
       "       'poly2_19', 'poly2_20', 'total_purchase', 'total_amount_on',\n",
       "       'year_month', 'Recency_bin', 'Recency_mean_on_yr_mth',\n",
       "       'Recency_std_on_yr_mth', 'Recency_max_on_yr_mth',\n",
       "       'Recency_min_on_yr_mth', 'year_month_int'],\n",
       "      dtype='object')"
      ]
     },
     "execution_count": 68,
     "metadata": {},
     "output_type": "execute_result"
    }
   ],
   "source": [
    "new_data.columns"
   ]
  },
  {
   "cell_type": "code",
   "execution_count": 69,
   "metadata": {},
   "outputs": [
    {
     "data": {
      "text/plain": [
       "(2239, 74)"
      ]
     },
     "execution_count": 69,
     "metadata": {},
     "output_type": "execute_result"
    }
   ],
   "source": [
    "new_data.shape"
   ]
  },
  {
   "cell_type": "code",
   "execution_count": 70,
   "metadata": {},
   "outputs": [
    {
     "data": {
      "text/plain": [
       "Index(['ID', 'Year_of_Birth', 'Education_Level', 'Marital_Status',\n",
       "       'Disposable_Income', 'No_of_Kids_in_home', 'No_of_Teen_in_home',\n",
       "       'Recency', 'Discounted_Purchases', 'WebPurchases', 'CatalogPurchases',\n",
       "       'StorePurchases', 'Amount_on_Wines', 'Amount_on_Fruits',\n",
       "       'Amount_on_MeatProducts', 'Amount_on_FishProducts',\n",
       "       'Amount_on_SweetProducts', 'Amount_on_GoldProds', 'WebVisitsMonth',\n",
       "       'Cmp3Accepted', 'Cmp4Accepted', 'Cmp5Accepted', 'Cmp1Accepted',\n",
       "       'Cmp2Accepted', 'Any_Complain', 'Response', 'year', 'month', 'quater',\n",
       "       'duration_days', 'duration_months', 'is_month_end', 'is_month_start',\n",
       "       'total_children', 'poly1_0', 'poly1_1', 'poly1_2', 'poly1_3', 'poly1_4',\n",
       "       'poly1_5', 'poly1_6', 'poly1_7', 'poly1_8', 'poly1_9', 'poly2_0',\n",
       "       'poly2_1', 'poly2_2', 'poly2_3', 'poly2_4', 'poly2_5', 'poly2_6',\n",
       "       'poly2_7', 'poly2_8', 'poly2_9', 'poly2_10', 'poly2_11', 'poly2_12',\n",
       "       'poly2_13', 'poly2_14', 'poly2_15', 'poly2_16', 'poly2_17', 'poly2_18',\n",
       "       'poly2_19', 'poly2_20', 'total_purchase', 'total_amount_on',\n",
       "       'year_month', 'Recency_bin', 'Recency_mean_on_yr_mth',\n",
       "       'Recency_std_on_yr_mth', 'Recency_max_on_yr_mth',\n",
       "       'Recency_min_on_yr_mth', 'year_month_int'],\n",
       "      dtype='object')"
      ]
     },
     "execution_count": 70,
     "metadata": {},
     "output_type": "execute_result"
    }
   ],
   "source": [
    "new_data.columns"
   ]
  },
  {
   "cell_type": "code",
   "execution_count": 71,
   "metadata": {},
   "outputs": [
    {
     "name": "stdout",
     "output_type": "stream",
     "text": [
      "<class 'pandas.core.frame.DataFrame'>\n",
      "RangeIndex: 2239 entries, 0 to 2238\n",
      "Data columns (total 74 columns):\n",
      " #   Column                   Non-Null Count  Dtype  \n",
      "---  ------                   --------------  -----  \n",
      " 0   ID                       2239 non-null   object \n",
      " 1   Year_of_Birth            2239 non-null   int64  \n",
      " 2   Education_Level          2239 non-null   int32  \n",
      " 3   Marital_Status           2239 non-null   int32  \n",
      " 4   Disposable_Income        2239 non-null   float64\n",
      " 5   No_of_Kids_in_home       2239 non-null   int64  \n",
      " 6   No_of_Teen_in_home       2239 non-null   int64  \n",
      " 7   Recency                  2239 non-null   int64  \n",
      " 8   Discounted_Purchases     2239 non-null   int64  \n",
      " 9   WebPurchases             2239 non-null   int64  \n",
      " 10  CatalogPurchases         2239 non-null   int64  \n",
      " 11  StorePurchases           2239 non-null   int64  \n",
      " 12  Amount_on_Wines          2239 non-null   int64  \n",
      " 13  Amount_on_Fruits         2239 non-null   int64  \n",
      " 14  Amount_on_MeatProducts   2239 non-null   int64  \n",
      " 15  Amount_on_FishProducts   2239 non-null   int64  \n",
      " 16  Amount_on_SweetProducts  2239 non-null   int64  \n",
      " 17  Amount_on_GoldProds      2239 non-null   int64  \n",
      " 18  WebVisitsMonth           2239 non-null   int64  \n",
      " 19  Cmp3Accepted             2239 non-null   int64  \n",
      " 20  Cmp4Accepted             2239 non-null   int64  \n",
      " 21  Cmp5Accepted             2239 non-null   int64  \n",
      " 22  Cmp1Accepted             2239 non-null   int64  \n",
      " 23  Cmp2Accepted             2239 non-null   int64  \n",
      " 24  Any_Complain             2239 non-null   int64  \n",
      " 25  Response                 2239 non-null   object \n",
      " 26  year                     2239 non-null   int64  \n",
      " 27  month                    2239 non-null   int64  \n",
      " 28  quater                   2239 non-null   int64  \n",
      " 29  duration_days            2239 non-null   int64  \n",
      " 30  duration_months          2239 non-null   int32  \n",
      " 31  is_month_end             2239 non-null   int32  \n",
      " 32  is_month_start           2239 non-null   int32  \n",
      " 33  total_children           2239 non-null   int64  \n",
      " 34  poly1_0                  2239 non-null   float64\n",
      " 35  poly1_1                  2239 non-null   float64\n",
      " 36  poly1_2                  2239 non-null   float64\n",
      " 37  poly1_3                  2239 non-null   float64\n",
      " 38  poly1_4                  2239 non-null   float64\n",
      " 39  poly1_5                  2239 non-null   float64\n",
      " 40  poly1_6                  2239 non-null   float64\n",
      " 41  poly1_7                  2239 non-null   float64\n",
      " 42  poly1_8                  2239 non-null   float64\n",
      " 43  poly1_9                  2239 non-null   float64\n",
      " 44  poly2_0                  2239 non-null   float64\n",
      " 45  poly2_1                  2239 non-null   float64\n",
      " 46  poly2_2                  2239 non-null   float64\n",
      " 47  poly2_3                  2239 non-null   float64\n",
      " 48  poly2_4                  2239 non-null   float64\n",
      " 49  poly2_5                  2239 non-null   float64\n",
      " 50  poly2_6                  2239 non-null   float64\n",
      " 51  poly2_7                  2239 non-null   float64\n",
      " 52  poly2_8                  2239 non-null   float64\n",
      " 53  poly2_9                  2239 non-null   float64\n",
      " 54  poly2_10                 2239 non-null   float64\n",
      " 55  poly2_11                 2239 non-null   float64\n",
      " 56  poly2_12                 2239 non-null   float64\n",
      " 57  poly2_13                 2239 non-null   float64\n",
      " 58  poly2_14                 2239 non-null   float64\n",
      " 59  poly2_15                 2239 non-null   float64\n",
      " 60  poly2_16                 2239 non-null   float64\n",
      " 61  poly2_17                 2239 non-null   float64\n",
      " 62  poly2_18                 2239 non-null   float64\n",
      " 63  poly2_19                 2239 non-null   float64\n",
      " 64  poly2_20                 2239 non-null   float64\n",
      " 65  total_purchase           2239 non-null   int64  \n",
      " 66  total_amount_on          2239 non-null   int64  \n",
      " 67  year_month               2239 non-null   object \n",
      " 68  Recency_bin              2239 non-null   int64  \n",
      " 69  Recency_mean_on_yr_mth   2239 non-null   float64\n",
      " 70  Recency_std_on_yr_mth    2239 non-null   float64\n",
      " 71  Recency_max_on_yr_mth    2239 non-null   int64  \n",
      " 72  Recency_min_on_yr_mth    2239 non-null   int64  \n",
      " 73  year_month_int           2239 non-null   int64  \n",
      "dtypes: float64(34), int32(5), int64(32), object(3)\n",
      "memory usage: 1.2+ MB\n"
     ]
    }
   ],
   "source": [
    "new_data.info()"
   ]
  },
  {
   "cell_type": "code",
   "execution_count": 72,
   "metadata": {},
   "outputs": [],
   "source": [
    "features = new_data.select_dtypes(include = 'number').columns # Selecting all numeric data"
   ]
  },
  {
   "cell_type": "code",
   "execution_count": 73,
   "metadata": {},
   "outputs": [
    {
     "data": {
      "text/plain": [
       "Index(['Year_of_Birth', 'Education_Level', 'Marital_Status',\n",
       "       'Disposable_Income', 'No_of_Kids_in_home', 'No_of_Teen_in_home',\n",
       "       'Recency', 'Discounted_Purchases', 'WebPurchases', 'CatalogPurchases',\n",
       "       'StorePurchases', 'Amount_on_Wines', 'Amount_on_Fruits',\n",
       "       'Amount_on_MeatProducts', 'Amount_on_FishProducts',\n",
       "       'Amount_on_SweetProducts', 'Amount_on_GoldProds', 'WebVisitsMonth',\n",
       "       'Cmp3Accepted', 'Cmp4Accepted', 'Cmp5Accepted', 'Cmp1Accepted',\n",
       "       'Cmp2Accepted', 'Any_Complain', 'year', 'month', 'quater',\n",
       "       'duration_days', 'duration_months', 'is_month_end', 'is_month_start',\n",
       "       'total_children', 'poly1_0', 'poly1_1', 'poly1_2', 'poly1_3', 'poly1_4',\n",
       "       'poly1_5', 'poly1_6', 'poly1_7', 'poly1_8', 'poly1_9', 'poly2_0',\n",
       "       'poly2_1', 'poly2_2', 'poly2_3', 'poly2_4', 'poly2_5', 'poly2_6',\n",
       "       'poly2_7', 'poly2_8', 'poly2_9', 'poly2_10', 'poly2_11', 'poly2_12',\n",
       "       'poly2_13', 'poly2_14', 'poly2_15', 'poly2_16', 'poly2_17', 'poly2_18',\n",
       "       'poly2_19', 'poly2_20', 'total_purchase', 'total_amount_on',\n",
       "       'Recency_bin', 'Recency_mean_on_yr_mth', 'Recency_std_on_yr_mth',\n",
       "       'Recency_max_on_yr_mth', 'Recency_min_on_yr_mth', 'year_month_int'],\n",
       "      dtype='object')"
      ]
     },
     "execution_count": 73,
     "metadata": {},
     "output_type": "execute_result"
    }
   ],
   "source": [
    "features # All the numeric datas"
   ]
  },
  {
   "cell_type": "code",
   "execution_count": 74,
   "metadata": {},
   "outputs": [],
   "source": [
    "#splitting data \n",
    "train_df = new_data.loc[(new_data['Response'] != 'test')].reset_index(drop = True)\n",
    "test_df = new_data.loc[(new_data['Response'] == 'test')].reset_index(drop = True)"
   ]
  },
  {
   "cell_type": "code",
   "execution_count": 75,
   "metadata": {},
   "outputs": [],
   "source": [
    "# train_df.info()"
   ]
  },
  {
   "cell_type": "code",
   "execution_count": 76,
   "metadata": {},
   "outputs": [],
   "source": [
    "# train_df[features].info()"
   ]
  },
  {
   "cell_type": "code",
   "execution_count": 77,
   "metadata": {},
   "outputs": [],
   "source": [
    "train_df['Response'] = train_df['Response'].apply(int)"
   ]
  },
  {
   "cell_type": "code",
   "execution_count": 78,
   "metadata": {},
   "outputs": [],
   "source": [
    "target = 'Response'"
   ]
  },
  {
   "cell_type": "markdown",
   "metadata": {},
   "source": [
    " ## MODELLING"
   ]
  },
  {
   "cell_type": "code",
   "execution_count": 79,
   "metadata": {},
   "outputs": [],
   "source": [
    "from catboost import CatBoostClassifier\n",
    "from sklearn.model_selection import StratifiedKFold\n",
    "from sklearn.metrics import log_loss, f1_score\n",
    "from xgboost import XGBClassifier\n",
    "from lightgbm import LGBMClassifier\n",
    "from sklearn.model_selection import train_test_split, cross_val_score"
   ]
  },
  {
   "cell_type": "code",
   "execution_count": 80,
   "metadata": {},
   "outputs": [],
   "source": [
    "# pip install --upgrade pip lightgbm"
   ]
  },
  {
   "cell_type": "code",
   "execution_count": 81,
   "metadata": {},
   "outputs": [],
   "source": [
    "X = train_df[features]\n",
    "y = train_df[target]"
   ]
  },
  {
   "cell_type": "code",
   "execution_count": null,
   "metadata": {},
   "outputs": [],
   "source": []
  },
  {
   "cell_type": "code",
   "execution_count": 82,
   "metadata": {},
   "outputs": [],
   "source": [
    "X_train, X_test, y_train, y_test = train_test_split(X, y, test_size=0.2, random_state=42)"
   ]
  },
  {
   "cell_type": "code",
   "execution_count": null,
   "metadata": {},
   "outputs": [],
   "source": []
  },
  {
   "cell_type": "markdown",
   "metadata": {},
   "source": [
    "## BASELINE MODELLING"
   ]
  },
  {
   "cell_type": "code",
   "execution_count": 83,
   "metadata": {},
   "outputs": [
    {
     "name": "stdout",
     "output_type": "stream",
     "text": [
      "[00:50:04] WARNING: C:/Users/Administrator/workspace/xgboost-win64_release_1.5.1/src/learner.cc:1115: Starting in XGBoost 1.3.0, the default evaluation metric used with the objective 'binary:logistic' was changed from 'error' to 'logloss'. Explicitly set eval_metric if you'd like to restore the old behavior.\n",
      "0.5581395348837209\n"
     ]
    }
   ],
   "source": [
    "model = XGBClassifier(scale_pos_weight = 8,max_depth = 8, n_estimators = 500)\n",
    "model.fit(X_train, y_train)\n",
    "prediction = model.predict(X_test)\n",
    "\n",
    "print(f1_score(prediction, y_test))"
   ]
  },
  {
   "cell_type": "code",
   "execution_count": null,
   "metadata": {},
   "outputs": [],
   "source": []
  },
  {
   "cell_type": "markdown",
   "metadata": {},
   "source": [
    "## SMOTE"
   ]
  },
  {
   "cell_type": "code",
   "execution_count": 84,
   "metadata": {},
   "outputs": [],
   "source": [
    "from imblearn.over_sampling import SMOTE\n",
    "\n",
    "sm = SMOTE(random_state=42)\n",
    "X_train_res, y_train_res = sm.fit_resample(X_train, y_train)"
   ]
  },
  {
   "cell_type": "code",
   "execution_count": 85,
   "metadata": {},
   "outputs": [
    {
     "name": "stdout",
     "output_type": "stream",
     "text": [
      "0.5\n"
     ]
    }
   ],
   "source": [
    "model = LGBMClassifier(scale_pos_weight = 1,max_depth=6, n_estimators = 1000, learning_rate=0.01)\n",
    "model.fit(X_train_res, y_train_res)\n",
    "prediction = model.predict(X_test)\n",
    "\n",
    "print(f1_score(prediction, y_test))"
   ]
  },
  {
   "cell_type": "code",
   "execution_count": 86,
   "metadata": {},
   "outputs": [],
   "source": [
    "from imblearn.over_sampling import SMOTE\n",
    "sm =SMOTE(sampling_strategy={1:1000, 0:1400},random_state=5555)\n",
    "X_, y_ = sm.fit_resample(train_df[features], train_df[target])"
   ]
  },
  {
   "cell_type": "code",
   "execution_count": 87,
   "metadata": {},
   "outputs": [
    {
     "name": "stdout",
     "output_type": "stream",
     "text": [
      "F1, fold 1: 0.6435331230283912\n",
      "F1, fold 2: 0.9306930693069307\n",
      "F1, fold 3: 0.9707317073170733\n",
      "F1, fold 4: 0.9383886255924171\n",
      "F1, fold 5: 0.9496402877697843\n",
      "0.8865973626029193\n"
     ]
    }
   ],
   "source": [
    "oof_f1=[]\n",
    "oof_predictions=[]\n",
    "\n",
    "params = {'learning_rate': 0.3,\n",
    "         'subsample': 0.7845527188607021,\n",
    "         'colsample_bytree': 0.6474680443294045,\n",
    "         'max_depth': 8,\n",
    "         'scale_pos_weight': 1}\n",
    "\n",
    "fold=StratifiedKFold(n_splits=5)#15#5#10\n",
    "\n",
    "i=1\n",
    "for train_index, test_index in fold.split(X_,y_):\n",
    "        \n",
    "    X_train, X_test = X_.iloc[train_index], X_.iloc[test_index]\n",
    "    y_train, y_test = y_.iloc[train_index], y_.iloc[test_index]\n",
    "\n",
    "    model = LGBMClassifier(**params, n_estimators=1000)\n",
    "\n",
    "    model.fit(X_train,y_train,eval_set=[(X_train,y_train),(X_test, y_test)], early_stopping_rounds=300, verbose = False)#erly100\n",
    "    preds=model.predict(X_test)\n",
    "\n",
    "    print(f'F1, fold {i}: {f1_score(y_test,preds)}')\n",
    "    i+=1                \n",
    "    oof_f1.append(f1_score(y_test,preds))\n",
    "    p2 = model.predict_proba(test_df[features])[:, -1]\n",
    "    oof_predictions.append(p2)\n",
    "    \n",
    "\n",
    "print(np.mean(oof_f1))"
   ]
  },
  {
   "cell_type": "code",
   "execution_count": 88,
   "metadata": {},
   "outputs": [
    {
     "data": {
      "text/plain": [
       "Text(0.5, 1.0, 'Model features importance:')"
      ]
     },
     "execution_count": 88,
     "metadata": {},
     "output_type": "execute_result"
    },
    {
     "data": {
      "image/png": "[encoded data removed]",
      "text/plain": [
       "<Figure size 1440x864 with 1 Axes>"
      ]
     },
     "metadata": {
      "needs_background": "light"
     },
     "output_type": "display_data"
    }
   ],
   "source": [
    "feature_importance_df = pd.DataFrame(model.feature_importances_, columns=['importance'])\n",
    "feature_importance_df['feature'] = new_data[features].columns\n",
    "\n",
    "plt.figure(figsize=(20, 12));\n",
    "sns.barplot(x=\"importance\", y=\"feature\", data=feature_importance_df.sort_values(by = ['importance'], ascending = False).head(60))\n",
    "plt.title('Model features importance:')"
   ]
  },
  {
   "cell_type": "markdown",
   "metadata": {},
   "source": [
    "## Feature Selection"
   ]
  },
  {
   "cell_type": "code",
   "execution_count": 89,
   "metadata": {},
   "outputs": [],
   "source": [
    "new_feat = feature_importance_df.sort_values(by = ['importance'], ascending = False).head(50)['feature'].to_list()"
   ]
  },
  {
   "cell_type": "code",
   "execution_count": 90,
   "metadata": {},
   "outputs": [
    {
     "data": {
      "text/plain": [
       "['Disposable_Income',\n",
       " 'Recency',\n",
       " 'Year_of_Birth',\n",
       " 'poly1_7',\n",
       " 'duration_days',\n",
       " 'Marital_Status',\n",
       " 'poly2_11',\n",
       " 'poly1_4',\n",
       " 'StorePurchases',\n",
       " 'Recency_bin',\n",
       " 'poly2_7',\n",
       " 'poly2_10',\n",
       " 'Amount_on_MeatProducts',\n",
       " 'Amount_on_Wines',\n",
       " 'poly2_8',\n",
       " 'poly2_17',\n",
       " 'Recency_mean_on_yr_mth',\n",
       " 'poly2_0',\n",
       " 'poly2_9',\n",
       " 'month',\n",
       " 'poly1_5',\n",
       " 'poly1_8',\n",
       " 'poly2_19',\n",
       " 'Education_Level',\n",
       " 'poly2_14',\n",
       " 'Recency_std_on_yr_mth',\n",
       " 'poly1_9',\n",
       " 'WebVisitsMonth',\n",
       " 'Amount_on_FishProducts',\n",
       " 'duration_months',\n",
       " 'total_amount_on',\n",
       " 'poly2_6',\n",
       " 'year_month_int',\n",
       " 'year',\n",
       " 'No_of_Teen_in_home',\n",
       " 'poly1_6',\n",
       " 'poly2_12',\n",
       " 'poly2_13',\n",
       " 'poly1_1',\n",
       " 'poly2_5',\n",
       " 'poly2_2',\n",
       " 'Amount_on_GoldProds',\n",
       " 'poly1_2',\n",
       " 'total_purchase',\n",
       " 'poly2_20',\n",
       " 'poly2_18',\n",
       " 'poly1_0',\n",
       " 'poly1_3',\n",
       " 'quater',\n",
       " 'poly2_15']"
      ]
     },
     "execution_count": 90,
     "metadata": {},
     "output_type": "execute_result"
    }
   ],
   "source": [
    "new_feat"
   ]
  },
  {
   "cell_type": "markdown",
   "metadata": {},
   "source": [
    "## Hyperparameter Tuning"
   ]
  },
  {
   "cell_type": "code",
   "execution_count": null,
   "metadata": {},
   "outputs": [],
   "source": []
  },
  {
   "cell_type": "code",
   "execution_count": 91,
   "metadata": {},
   "outputs": [],
   "source": [
    "import optuna"
   ]
  },
  {
   "cell_type": "code",
   "execution_count": 92,
   "metadata": {},
   "outputs": [],
   "source": [
    "X = train_df[features]\n",
    "y = train_df[target]"
   ]
  },
  {
   "cell_type": "code",
   "execution_count": 93,
   "metadata": {},
   "outputs": [],
   "source": [
    "X = train_df[new_feat]"
   ]
  },
  {
   "cell_type": "code",
   "execution_count": 94,
   "metadata": {},
   "outputs": [],
   "source": [
    "def objective(trial):\n",
    "    oof_f1=[]\n",
    "    oof_predictions=[]\n",
    "\n",
    "\n",
    "    param = {}\n",
    "#     param['objective'] = \"Logloss\"\n",
    "    param['learning_rate'] = trial.suggest_discrete_uniform(\"learning_rate\", 0.001, 0.1, 0.001)\n",
    "    param['depth'] = trial.suggest_int('depth', 3, 15)\n",
    "    param['l2_leaf_reg'] = trial.suggest_discrete_uniform('l2_leaf_reg', 1.0, 5.5, 0.5)\n",
    "    param['min_child_samples'] = trial.suggest_categorical('min_child_samples', [1, 4, 8, 16, 32])\n",
    "    param['iterations'] = trial.suggest_discrete_uniform(\"iterations\", 200, 2000, 50)\n",
    "    param['use_best_model'] = True\n",
    "    param[\"colsample_bylevel\"] =  trial.suggest_float(\"colsample_bylevel\", 0.01, 0.1)\n",
    "    param['random_state'] = 0\n",
    "    param['scale_pos_weight'] = trial.suggest_int('scale_pos_weight', 1, 10)\n",
    "    param['bootstrap_type'] = trial.suggest_categorical(\"bootstrap_type\", [\"Bayesian\", \"Bernoulli\", \"MVS\"])\n",
    "    param['logging_level'] = 'Silent'\n",
    "\n",
    "\n",
    "\n",
    "    fold=StratifiedKFold(n_splits=5)#15#5#10\n",
    "    i=1\n",
    "    for train_index, test_index in fold.split(X,y):\n",
    "        \n",
    "        X_train, X_test = X.iloc[train_index], X.iloc[test_index]\n",
    "        y_train, y_test = y.iloc[train_index], y.iloc[test_index]\n",
    "        model = CatBoostClassifier(**param)\n",
    "#         model = XGBClassifier(**param)\n",
    "    \n",
    "\n",
    "        model.fit(X_train,y_train,eval_set=[(X_train,y_train),(X_test, y_test)], early_stopping_rounds=200, verbose = False)#early100\n",
    "        preds=model.predict(X_test)\n",
    "\n",
    "        oof_f1.append(f1_score(y_test,preds))\n",
    "\n",
    "    return np.mean(oof_f1)\n"
   ]
  },
  {
   "cell_type": "code",
   "execution_count": 95,
   "metadata": {},
   "outputs": [
    {
     "name": "stderr",
     "output_type": "stream",
     "text": [
      "\u001b[32m[I 2022-03-13 00:50:14,460]\u001b[0m A new study created in memory with name: no-name-01c7d0c7-2b9b-49f6-9302-e0ecb11e5a3a\u001b[0m\n",
      "\u001b[32m[I 2022-03-13 00:50:26,502]\u001b[0m Trial 0 finished with value: 0.5484049107858632 and parameters: {'learning_rate': 0.039, 'depth': 4, 'l2_leaf_reg': 5.0, 'min_child_samples': 4, 'iterations': 1600.0, 'colsample_bylevel': 0.04543987003715986, 'scale_pos_weight': 2, 'bootstrap_type': 'Bernoulli'}. Best is trial 0 with value: 0.5484049107858632.\u001b[0m\n",
      "\u001b[32m[I 2022-03-13 00:50:33,634]\u001b[0m Trial 1 finished with value: 0.5148766117618774 and parameters: {'learning_rate': 0.092, 'depth': 15, 'l2_leaf_reg': 4.5, 'min_child_samples': 1, 'iterations': 1650.0, 'colsample_bylevel': 0.019263683067890863, 'scale_pos_weight': 2, 'bootstrap_type': 'MVS'}. Best is trial 0 with value: 0.5484049107858632.\u001b[0m\n",
      "\u001b[32m[I 2022-03-13 00:50:42,916]\u001b[0m Trial 2 finished with value: 0.5475686290228005 and parameters: {'learning_rate': 0.026000000000000002, 'depth': 7, 'l2_leaf_reg': 5.5, 'min_child_samples': 4, 'iterations': 1650.0, 'colsample_bylevel': 0.03440433340735815, 'scale_pos_weight': 7, 'bootstrap_type': 'Bayesian'}. Best is trial 0 with value: 0.5484049107858632.\u001b[0m\n",
      "\u001b[32m[I 2022-03-13 00:50:53,968]\u001b[0m Trial 3 finished with value: 0.5139747246580507 and parameters: {'learning_rate': 0.063, 'depth': 10, 'l2_leaf_reg': 1.5, 'min_child_samples': 16, 'iterations': 1250.0, 'colsample_bylevel': 0.06210663044969937, 'scale_pos_weight': 10, 'bootstrap_type': 'Bayesian'}. Best is trial 0 with value: 0.5484049107858632.\u001b[0m\n",
      "\u001b[32m[I 2022-03-13 01:06:56,224]\u001b[0m Trial 4 finished with value: 0.5262494867337083 and parameters: {'learning_rate': 0.002, 'depth': 14, 'l2_leaf_reg': 4.0, 'min_child_samples': 8, 'iterations': 1800.0, 'colsample_bylevel': 0.07391971798497753, 'scale_pos_weight': 5, 'bootstrap_type': 'MVS'}. Best is trial 0 with value: 0.5484049107858632.\u001b[0m\n",
      "\u001b[32m[I 2022-03-13 01:07:13,274]\u001b[0m Trial 5 finished with value: 0.5247327475537614 and parameters: {'learning_rate': 0.053000000000000005, 'depth': 10, 'l2_leaf_reg': 2.0, 'min_child_samples': 8, 'iterations': 1600.0, 'colsample_bylevel': 0.07811056742895017, 'scale_pos_weight': 7, 'bootstrap_type': 'MVS'}. Best is trial 0 with value: 0.5484049107858632.\u001b[0m\n",
      "\u001b[32m[I 2022-03-13 01:07:24,420]\u001b[0m Trial 6 finished with value: 0.4369827655516857 and parameters: {'learning_rate': 0.094, 'depth': 9, 'l2_leaf_reg': 4.5, 'min_child_samples': 4, 'iterations': 1450.0, 'colsample_bylevel': 0.06033505181421906, 'scale_pos_weight': 2, 'bootstrap_type': 'Bayesian'}. Best is trial 0 with value: 0.5484049107858632.\u001b[0m\n",
      "\u001b[32m[I 2022-03-13 01:07:29,902]\u001b[0m Trial 7 finished with value: 0.5065650683989802 and parameters: {'learning_rate': 0.042, 'depth': 15, 'l2_leaf_reg': 1.0, 'min_child_samples': 32, 'iterations': 250.0, 'colsample_bylevel': 0.02296191457190394, 'scale_pos_weight': 7, 'bootstrap_type': 'MVS'}. Best is trial 0 with value: 0.5484049107858632.\u001b[0m\n",
      "\u001b[32m[I 2022-03-13 01:07:47,844]\u001b[0m Trial 8 finished with value: 0.4895953084439907 and parameters: {'learning_rate': 0.013000000000000001, 'depth': 13, 'l2_leaf_reg': 5.5, 'min_child_samples': 4, 'iterations': 1400.0, 'colsample_bylevel': 0.022320130262689523, 'scale_pos_weight': 2, 'bootstrap_type': 'MVS'}. Best is trial 0 with value: 0.5484049107858632.\u001b[0m\n",
      "\u001b[32m[I 2022-03-13 01:08:05,751]\u001b[0m Trial 9 finished with value: 0.29483984942950786 and parameters: {'learning_rate': 0.063, 'depth': 10, 'l2_leaf_reg': 2.0, 'min_child_samples': 8, 'iterations': 1700.0, 'colsample_bylevel': 0.07310936553670307, 'scale_pos_weight': 1, 'bootstrap_type': 'Bayesian'}. Best is trial 0 with value: 0.5484049107858632.\u001b[0m\n",
      "\u001b[32m[I 2022-03-13 01:08:16,790]\u001b[0m Trial 10 finished with value: 0.5685489415429053 and parameters: {'learning_rate': 0.026000000000000002, 'depth': 3, 'l2_leaf_reg': 3.0, 'min_child_samples': 1, 'iterations': 800.0, 'colsample_bylevel': 0.09625315005886909, 'scale_pos_weight': 4, 'bootstrap_type': 'Bernoulli'}. Best is trial 10 with value: 0.5685489415429053.\u001b[0m\n",
      "\u001b[32m[I 2022-03-13 01:08:25,130]\u001b[0m Trial 11 finished with value: 0.5858552211031721 and parameters: {'learning_rate': 0.031, 'depth': 3, 'l2_leaf_reg': 3.5, 'min_child_samples': 1, 'iterations': 700.0, 'colsample_bylevel': 0.09973276320002467, 'scale_pos_weight': 4, 'bootstrap_type': 'Bernoulli'}. Best is trial 11 with value: 0.5858552211031721.\u001b[0m\n",
      "\u001b[32m[I 2022-03-13 01:08:34,141]\u001b[0m Trial 12 finished with value: 0.5731464057559339 and parameters: {'learning_rate': 0.024, 'depth': 3, 'l2_leaf_reg': 3.0, 'min_child_samples': 1, 'iterations': 800.0, 'colsample_bylevel': 0.09950529940135312, 'scale_pos_weight': 4, 'bootstrap_type': 'Bernoulli'}. Best is trial 11 with value: 0.5858552211031721.\u001b[0m\n",
      "\u001b[32m[I 2022-03-13 01:08:46,661]\u001b[0m Trial 13 finished with value: 0.5858549193140039 and parameters: {'learning_rate': 0.023, 'depth': 5, 'l2_leaf_reg': 3.0, 'min_child_samples': 1, 'iterations': 800.0, 'colsample_bylevel': 0.09968467039349817, 'scale_pos_weight': 4, 'bootstrap_type': 'Bernoulli'}. Best is trial 11 with value: 0.5858552211031721.\u001b[0m\n",
      "\u001b[32m[I 2022-03-13 01:09:02,028]\u001b[0m Trial 14 finished with value: 0.5042812460711164 and parameters: {'learning_rate': 0.004, 'depth': 6, 'l2_leaf_reg': 3.5, 'min_child_samples': 1, 'iterations': 800.0, 'colsample_bylevel': 0.08752933103535304, 'scale_pos_weight': 4, 'bootstrap_type': 'Bernoulli'}. Best is trial 11 with value: 0.5858552211031721.\u001b[0m\n",
      "\u001b[32m[I 2022-03-13 01:09:10,821]\u001b[0m Trial 15 finished with value: 0.5499640830277837 and parameters: {'learning_rate': 0.039, 'depth': 5, 'l2_leaf_reg': 2.5, 'min_child_samples': 1, 'iterations': 400.0, 'colsample_bylevel': 0.0865192974594787, 'scale_pos_weight': 6, 'bootstrap_type': 'Bernoulli'}. Best is trial 11 with value: 0.5858552211031721.\u001b[0m\n",
      "\u001b[32m[I 2022-03-13 01:09:26,449]\u001b[0m Trial 16 finished with value: 0.5291202941699156 and parameters: {'learning_rate': 0.016, 'depth': 8, 'l2_leaf_reg': 3.5, 'min_child_samples': 32, 'iterations': 550.0, 'colsample_bylevel': 0.08839193130976022, 'scale_pos_weight': 9, 'bootstrap_type': 'Bernoulli'}. Best is trial 11 with value: 0.5858552211031721.\u001b[0m\n",
      "\u001b[32m[I 2022-03-13 01:09:31,998]\u001b[0m Trial 17 finished with value: 0.5572641477228947 and parameters: {'learning_rate': 0.07100000000000001, 'depth': 5, 'l2_leaf_reg': 2.5, 'min_child_samples': 16, 'iterations': 1050.0, 'colsample_bylevel': 0.04974904555976658, 'scale_pos_weight': 5, 'bootstrap_type': 'Bernoulli'}. Best is trial 11 with value: 0.5858552211031721.\u001b[0m\n",
      "\u001b[32m[I 2022-03-13 01:09:42,182]\u001b[0m Trial 18 finished with value: 0.5579374445412276 and parameters: {'learning_rate': 0.033, 'depth': 6, 'l2_leaf_reg': 4.0, 'min_child_samples': 1, 'iterations': 1050.0, 'colsample_bylevel': 0.06746385320914944, 'scale_pos_weight': 3, 'bootstrap_type': 'Bernoulli'}. Best is trial 11 with value: 0.5858552211031721.\u001b[0m\n",
      "\u001b[32m[I 2022-03-13 01:09:49,798]\u001b[0m Trial 19 finished with value: 0.5552599898239652 and parameters: {'learning_rate': 0.051000000000000004, 'depth': 3, 'l2_leaf_reg': 2.5, 'min_child_samples': 1, 'iterations': 550.0, 'colsample_bylevel': 0.08296363013403567, 'scale_pos_weight': 6, 'bootstrap_type': 'Bernoulli'}. Best is trial 11 with value: 0.5858552211031721.\u001b[0m\n",
      "\u001b[32m[I 2022-03-13 01:11:38,954]\u001b[0m Trial 20 finished with value: 0.4847568946277698 and parameters: {'learning_rate': 0.014000000000000002, 'depth': 12, 'l2_leaf_reg': 4.0, 'min_child_samples': 1, 'iterations': 650.0, 'colsample_bylevel': 0.09490718605909236, 'scale_pos_weight': 3, 'bootstrap_type': 'Bernoulli'}. Best is trial 11 with value: 0.5858552211031721.\u001b[0m\n",
      "\u001b[32m[I 2022-03-13 01:11:50,085]\u001b[0m Trial 21 finished with value: 0.5704526757052328 and parameters: {'learning_rate': 0.021, 'depth': 3, 'l2_leaf_reg': 3.0, 'min_child_samples': 1, 'iterations': 850.0, 'colsample_bylevel': 0.09995294085744649, 'scale_pos_weight': 4, 'bootstrap_type': 'Bernoulli'}. Best is trial 11 with value: 0.5858552211031721.\u001b[0m\n",
      "\u001b[32m[I 2022-03-13 01:11:58,901]\u001b[0m Trial 22 finished with value: 0.5569309824027406 and parameters: {'learning_rate': 0.031, 'depth': 4, 'l2_leaf_reg': 3.0, 'min_child_samples': 1, 'iterations': 2000.0, 'colsample_bylevel': 0.09995756292834332, 'scale_pos_weight': 4, 'bootstrap_type': 'Bernoulli'}. Best is trial 11 with value: 0.5858552211031721.\u001b[0m\n",
      "\u001b[32m[I 2022-03-13 01:12:17,443]\u001b[0m Trial 23 finished with value: 0.5544615030763038 and parameters: {'learning_rate': 0.009000000000000001, 'depth': 5, 'l2_leaf_reg': 3.5, 'min_child_samples': 1, 'iterations': 950.0, 'colsample_bylevel': 0.09190618497062988, 'scale_pos_weight': 3, 'bootstrap_type': 'Bernoulli'}. Best is trial 11 with value: 0.5858552211031721.\u001b[0m\n",
      "\u001b[32m[I 2022-03-13 01:12:26,522]\u001b[0m Trial 24 finished with value: 0.5518468331386774 and parameters: {'learning_rate': 0.022000000000000002, 'depth': 4, 'l2_leaf_reg': 2.0, 'min_child_samples': 1, 'iterations': 650.0, 'colsample_bylevel': 0.08008358700841114, 'scale_pos_weight': 5, 'bootstrap_type': 'Bernoulli'}. Best is trial 11 with value: 0.5858552211031721.\u001b[0m\n",
      "\u001b[32m[I 2022-03-13 01:12:36,253]\u001b[0m Trial 25 finished with value: 0.5269920280730787 and parameters: {'learning_rate': 0.044000000000000004, 'depth': 7, 'l2_leaf_reg': 3.0, 'min_child_samples': 32, 'iterations': 1200.0, 'colsample_bylevel': 0.010287210319734313, 'scale_pos_weight': 6, 'bootstrap_type': 'Bernoulli'}. Best is trial 11 with value: 0.5858552211031721.\u001b[0m\n",
      "\u001b[32m[I 2022-03-13 01:12:39,711]\u001b[0m Trial 26 finished with value: 0.5059678400772476 and parameters: {'learning_rate': 0.033, 'depth': 3, 'l2_leaf_reg': 2.5, 'min_child_samples': 16, 'iterations': 200.0, 'colsample_bylevel': 0.09125261423267979, 'scale_pos_weight': 3, 'bootstrap_type': 'Bernoulli'}. Best is trial 11 with value: 0.5858552211031721.\u001b[0m\n",
      "\u001b[32m[I 2022-03-13 01:12:53,726]\u001b[0m Trial 27 finished with value: 0.5653514579012553 and parameters: {'learning_rate': 0.02, 'depth': 6, 'l2_leaf_reg': 3.5, 'min_child_samples': 1, 'iterations': 900.0, 'colsample_bylevel': 0.08169526956853308, 'scale_pos_weight': 5, 'bootstrap_type': 'Bernoulli'}. Best is trial 11 with value: 0.5858552211031721.\u001b[0m\n",
      "\u001b[32m[I 2022-03-13 01:13:01,670]\u001b[0m Trial 28 finished with value: 0.38266632666071654 and parameters: {'learning_rate': 0.030000000000000002, 'depth': 4, 'l2_leaf_reg': 4.0, 'min_child_samples': 1, 'iterations': 400.0, 'colsample_bylevel': 0.09399504572746696, 'scale_pos_weight': 1, 'bootstrap_type': 'Bayesian'}. Best is trial 11 with value: 0.5858552211031721.\u001b[0m\n",
      "\u001b[32m[I 2022-03-13 01:13:10,908]\u001b[0m Trial 29 finished with value: 0.5460927567464393 and parameters: {'learning_rate': 0.047, 'depth': 5, 'l2_leaf_reg': 4.5, 'min_child_samples': 1, 'iterations': 700.0, 'colsample_bylevel': 0.038820719364919876, 'scale_pos_weight': 8, 'bootstrap_type': 'Bernoulli'}. Best is trial 11 with value: 0.5858552211031721.\u001b[0m\n",
      "\u001b[32m[I 2022-03-13 01:13:19,326]\u001b[0m Trial 30 finished with value: 0.5700205287607961 and parameters: {'learning_rate': 0.037000000000000005, 'depth': 4, 'l2_leaf_reg': 3.0, 'min_child_samples': 8, 'iterations': 450.0, 'colsample_bylevel': 0.07468319300523943, 'scale_pos_weight': 4, 'bootstrap_type': 'Bernoulli'}. Best is trial 11 with value: 0.5858552211031721.\u001b[0m\n",
      "\u001b[32m[I 2022-03-13 01:13:30,425]\u001b[0m Trial 31 finished with value: 0.5817118695387082 and parameters: {'learning_rate': 0.021, 'depth': 3, 'l2_leaf_reg': 3.0, 'min_child_samples': 1, 'iterations': 850.0, 'colsample_bylevel': 0.0997894600515491, 'scale_pos_weight': 4, 'bootstrap_type': 'Bernoulli'}. Best is trial 11 with value: 0.5858552211031721.\u001b[0m\n",
      "\u001b[32m[I 2022-03-13 01:13:41,565]\u001b[0m Trial 32 finished with value: 0.5437082431509783 and parameters: {'learning_rate': 0.009000000000000001, 'depth': 3, 'l2_leaf_reg': 3.5, 'min_child_samples': 1, 'iterations': 950.0, 'colsample_bylevel': 0.09941749489917573, 'scale_pos_weight': 3, 'bootstrap_type': 'Bernoulli'}. Best is trial 11 with value: 0.5858552211031721.\u001b[0m\n",
      "\u001b[32m[I 2022-03-13 01:13:49,748]\u001b[0m Trial 33 finished with value: 0.5771120720132713 and parameters: {'learning_rate': 0.026000000000000002, 'depth': 3, 'l2_leaf_reg': 2.5, 'min_child_samples': 1, 'iterations': 750.0, 'colsample_bylevel': 0.08659800003760203, 'scale_pos_weight': 4, 'bootstrap_type': 'Bernoulli'}. Best is trial 11 with value: 0.5858552211031721.\u001b[0m\n",
      "\u001b[32m[I 2022-03-13 01:13:56,113]\u001b[0m Trial 34 finished with value: 0.5098013639477055 and parameters: {'learning_rate': 0.082, 'depth': 4, 'l2_leaf_reg': 1.5, 'min_child_samples': 4, 'iterations': 700.0, 'colsample_bylevel': 0.08608271682702945, 'scale_pos_weight': 2, 'bootstrap_type': 'Bernoulli'}. Best is trial 11 with value: 0.5858552211031721.\u001b[0m\n",
      "\u001b[32m[I 2022-03-13 01:14:04,805]\u001b[0m Trial 35 finished with value: 0.5885771776382805 and parameters: {'learning_rate': 0.029, 'depth': 5, 'l2_leaf_reg': 2.5, 'min_child_samples': 16, 'iterations': 500.0, 'colsample_bylevel': 0.0919260168756181, 'scale_pos_weight': 5, 'bootstrap_type': 'MVS'}. Best is trial 35 with value: 0.5885771776382805.\u001b[0m\n",
      "\u001b[32m[I 2022-03-13 01:14:15,795]\u001b[0m Trial 36 finished with value: 0.5475336997643355 and parameters: {'learning_rate': 0.036000000000000004, 'depth': 7, 'l2_leaf_reg': 2.0, 'min_child_samples': 16, 'iterations': 550.0, 'colsample_bylevel': 0.09261734408620054, 'scale_pos_weight': 5, 'bootstrap_type': 'MVS'}. Best is trial 35 with value: 0.5885771776382805.\u001b[0m\n",
      "\u001b[32m[I 2022-03-13 01:14:28,456]\u001b[0m Trial 37 finished with value: 0.5351801975118635 and parameters: {'learning_rate': 0.057, 'depth': 8, 'l2_leaf_reg': 5.0, 'min_child_samples': 16, 'iterations': 300.0, 'colsample_bylevel': 0.09364915483413953, 'scale_pos_weight': 6, 'bootstrap_type': 'MVS'}. Best is trial 35 with value: 0.5885771776382805.\u001b[0m\n",
      "\u001b[32m[I 2022-03-13 01:14:42,589]\u001b[0m Trial 38 finished with value: 0.564552460679668 and parameters: {'learning_rate': 0.017, 'depth': 5, 'l2_leaf_reg': 4.0, 'min_child_samples': 16, 'iterations': 1150.0, 'colsample_bylevel': 0.06829358633190294, 'scale_pos_weight': 5, 'bootstrap_type': 'MVS'}. Best is trial 35 with value: 0.5885771776382805.\u001b[0m\n",
      "\u001b[32m[I 2022-03-13 01:14:50,935]\u001b[0m Trial 39 finished with value: 0.4956442564864652 and parameters: {'learning_rate': 0.007, 'depth': 6, 'l2_leaf_reg': 1.5, 'min_child_samples': 16, 'iterations': 500.0, 'colsample_bylevel': 0.05652473078414764, 'scale_pos_weight': 7, 'bootstrap_type': 'MVS'}. Best is trial 35 with value: 0.5885771776382805.\u001b[0m\n",
      "\u001b[32m[I 2022-03-13 01:15:03,692]\u001b[0m Trial 40 finished with value: 0.5188504196057657 and parameters: {'learning_rate': 0.029, 'depth': 8, 'l2_leaf_reg': 2.5, 'min_child_samples': 4, 'iterations': 1000.0, 'colsample_bylevel': 0.07521502582895946, 'scale_pos_weight': 3, 'bootstrap_type': 'Bayesian'}. Best is trial 35 with value: 0.5885771776382805.\u001b[0m\n",
      "\u001b[32m[I 2022-03-13 01:15:17,682]\u001b[0m Trial 41 finished with value: 0.575775671058076 and parameters: {'learning_rate': 0.024, 'depth': 4, 'l2_leaf_reg': 2.5, 'min_child_samples': 1, 'iterations': 700.0, 'colsample_bylevel': 0.08447336208333198, 'scale_pos_weight': 4, 'bootstrap_type': 'MVS'}. Best is trial 35 with value: 0.5885771776382805.\u001b[0m\n",
      "\u001b[32m[I 2022-03-13 01:15:25,270]\u001b[0m Trial 42 finished with value: 0.5658072539052246 and parameters: {'learning_rate': 0.028, 'depth': 3, 'l2_leaf_reg': 2.0, 'min_child_samples': 32, 'iterations': 600.0, 'colsample_bylevel': 0.09560458665722156, 'scale_pos_weight': 5, 'bootstrap_type': 'MVS'}. Best is trial 35 with value: 0.5885771776382805.\u001b[0m\n",
      "\u001b[32m[I 2022-03-13 01:15:35,659]\u001b[0m Trial 43 finished with value: 0.5664395299923707 and parameters: {'learning_rate': 0.04, 'depth': 5, 'l2_leaf_reg': 3.0, 'min_child_samples': 1, 'iterations': 750.0, 'colsample_bylevel': 0.09057963074961807, 'scale_pos_weight': 4, 'bootstrap_type': 'Bayesian'}. Best is trial 35 with value: 0.5885771776382805.\u001b[0m\n",
      "\u001b[32m[I 2022-03-13 01:15:41,518]\u001b[0m Trial 44 finished with value: 0.023999999999999997 and parameters: {'learning_rate': 0.001, 'depth': 3, 'l2_leaf_reg': 2.5, 'min_child_samples': 8, 'iterations': 350.0, 'colsample_bylevel': 0.07870570341944924, 'scale_pos_weight': 2, 'bootstrap_type': 'Bernoulli'}. Best is trial 35 with value: 0.5885771776382805.\u001b[0m\n",
      "\u001b[32m[I 2022-03-13 01:16:28,968]\u001b[0m Trial 45 finished with value: 0.517406243710023 and parameters: {'learning_rate': 0.018000000000000002, 'depth': 11, 'l2_leaf_reg': 3.5, 'min_child_samples': 16, 'iterations': 850.0, 'colsample_bylevel': 0.08858531930449454, 'scale_pos_weight': 5, 'bootstrap_type': 'MVS'}. Best is trial 35 with value: 0.5885771776382805.\u001b[0m\n",
      "\u001b[32m[I 2022-03-13 01:16:45,063]\u001b[0m Trial 46 finished with value: 0.5600369915870413 and parameters: {'learning_rate': 0.011, 'depth': 4, 'l2_leaf_reg': 2.0, 'min_child_samples': 1, 'iterations': 1250.0, 'colsample_bylevel': 0.0970044887151354, 'scale_pos_weight': 3, 'bootstrap_type': 'Bernoulli'}. Best is trial 35 with value: 0.5885771776382805.\u001b[0m\n",
      "\u001b[32m[I 2022-03-13 01:16:53,342]\u001b[0m Trial 47 finished with value: 0.5626513892533309 and parameters: {'learning_rate': 0.045, 'depth': 4, 'l2_leaf_reg': 1.0, 'min_child_samples': 4, 'iterations': 1450.0, 'colsample_bylevel': 0.09637347482240993, 'scale_pos_weight': 4, 'bootstrap_type': 'Bayesian'}. Best is trial 35 with value: 0.5885771776382805.\u001b[0m\n",
      "\u001b[32m[I 2022-03-13 01:17:03,857]\u001b[0m Trial 48 finished with value: 0.5398086235020615 and parameters: {'learning_rate': 0.027000000000000003, 'depth': 7, 'l2_leaf_reg': 3.0, 'min_child_samples': 1, 'iterations': 900.0, 'colsample_bylevel': 0.0689784847503537, 'scale_pos_weight': 6, 'bootstrap_type': 'Bernoulli'}. Best is trial 35 with value: 0.5885771776382805.\u001b[0m\n",
      "\u001b[32m[I 2022-03-13 01:20:34,719]\u001b[0m Trial 49 finished with value: 0.5099452434362733 and parameters: {'learning_rate': 0.024, 'depth': 14, 'l2_leaf_reg': 3.5, 'min_child_samples': 8, 'iterations': 750.0, 'colsample_bylevel': 0.08448871547166456, 'scale_pos_weight': 10, 'bootstrap_type': 'MVS'}. Best is trial 35 with value: 0.5885771776382805.\u001b[0m\n",
      "\u001b[32m[I 2022-03-13 01:20:41,863]\u001b[0m Trial 50 finished with value: 0.5582127264546717 and parameters: {'learning_rate': 0.057, 'depth': 6, 'l2_leaf_reg': 1.5, 'min_child_samples': 32, 'iterations': 450.0, 'colsample_bylevel': 0.091747374013103, 'scale_pos_weight': 4, 'bootstrap_type': 'Bernoulli'}. Best is trial 35 with value: 0.5885771776382805.\u001b[0m\n",
      "\u001b[32m[I 2022-03-13 01:20:50,636]\u001b[0m Trial 51 finished with value: 0.5545551602702339 and parameters: {'learning_rate': 0.035, 'depth': 5, 'l2_leaf_reg': 2.5, 'min_child_samples': 1, 'iterations': 650.0, 'colsample_bylevel': 0.08454157097327364, 'scale_pos_weight': 4, 'bootstrap_type': 'MVS'}. Best is trial 35 with value: 0.5885771776382805.\u001b[0m\n",
      "\u001b[32m[I 2022-03-13 01:20:59,088]\u001b[0m Trial 52 finished with value: 0.5595216000101788 and parameters: {'learning_rate': 0.024, 'depth': 4, 'l2_leaf_reg': 2.5, 'min_child_samples': 1, 'iterations': 750.0, 'colsample_bylevel': 0.08762802847890624, 'scale_pos_weight': 4, 'bootstrap_type': 'MVS'}. Best is trial 35 with value: 0.5885771776382805.\u001b[0m\n",
      "\u001b[32m[I 2022-03-13 01:21:08,357]\u001b[0m Trial 53 finished with value: 0.5430558383322577 and parameters: {'learning_rate': 0.014000000000000002, 'depth': 3, 'l2_leaf_reg': 3.0, 'min_child_samples': 1, 'iterations': 600.0, 'colsample_bylevel': 0.09779280301053579, 'scale_pos_weight': 5, 'bootstrap_type': 'MVS'}. Best is trial 35 with value: 0.5885771776382805.\u001b[0m\n",
      "\u001b[32m[I 2022-03-13 01:21:20,103]\u001b[0m Trial 54 finished with value: 0.5577529973316213 and parameters: {'learning_rate': 0.02, 'depth': 3, 'l2_leaf_reg': 2.5, 'min_child_samples': 1, 'iterations': 850.0, 'colsample_bylevel': 0.08944765825946024, 'scale_pos_weight': 3, 'bootstrap_type': 'MVS'}. Best is trial 35 with value: 0.5885771776382805.\u001b[0m\n",
      "\u001b[32m[I 2022-03-13 01:21:30,623]\u001b[0m Trial 55 finished with value: 0.5691494118351084 and parameters: {'learning_rate': 0.025, 'depth': 5, 'l2_leaf_reg': 3.0, 'min_child_samples': 1, 'iterations': 1000.0, 'colsample_bylevel': 0.04378655086275496, 'scale_pos_weight': 4, 'bootstrap_type': 'MVS'}. Best is trial 35 with value: 0.5885771776382805.\u001b[0m\n",
      "\u001b[32m[I 2022-03-13 01:21:38,807]\u001b[0m Trial 56 finished with value: 0.5472856090319466 and parameters: {'learning_rate': 0.032, 'depth': 4, 'l2_leaf_reg': 2.0, 'min_child_samples': 1, 'iterations': 1100.0, 'colsample_bylevel': 0.08119921091159038, 'scale_pos_weight': 5, 'bootstrap_type': 'Bernoulli'}. Best is trial 35 with value: 0.5885771776382805.\u001b[0m\n",
      "\u001b[32m[I 2022-03-13 01:21:47,401]\u001b[0m Trial 57 finished with value: 0.5608943453753173 and parameters: {'learning_rate': 0.04, 'depth': 3, 'l2_leaf_reg': 2.5, 'min_child_samples': 1, 'iterations': 800.0, 'colsample_bylevel': 0.09566519246754218, 'scale_pos_weight': 2, 'bootstrap_type': 'Bernoulli'}. Best is trial 35 with value: 0.5885771776382805.\u001b[0m\n",
      "\u001b[32m[I 2022-03-13 01:21:52,726]\u001b[0m Trial 58 finished with value: 0.4824899238692343 and parameters: {'learning_rate': 0.015, 'depth': 4, 'l2_leaf_reg': 3.0, 'min_child_samples': 16, 'iterations': 500.0, 'colsample_bylevel': 0.02939992532984241, 'scale_pos_weight': 3, 'bootstrap_type': 'Bernoulli'}. Best is trial 35 with value: 0.5885771776382805.\u001b[0m\n",
      "\u001b[32m[I 2022-03-13 01:22:03,494]\u001b[0m Trial 59 finished with value: 0.5368502776605508 and parameters: {'learning_rate': 0.1, 'depth': 9, 'l2_leaf_reg': 3.5, 'min_child_samples': 1, 'iterations': 700.0, 'colsample_bylevel': 0.0634691592519606, 'scale_pos_weight': 4, 'bootstrap_type': 'MVS'}. Best is trial 35 with value: 0.5885771776382805.\u001b[0m\n",
      "\u001b[32m[I 2022-03-13 01:22:17,709]\u001b[0m Trial 60 finished with value: 0.5460283161799602 and parameters: {'learning_rate': 0.019000000000000003, 'depth': 3, 'l2_leaf_reg': 2.5, 'min_child_samples': 1, 'iterations': 1300.0, 'colsample_bylevel': 0.07703578739743716, 'scale_pos_weight': 6, 'bootstrap_type': 'Bernoulli'}. Best is trial 35 with value: 0.5885771776382805.\u001b[0m\n",
      "\u001b[32m[I 2022-03-13 01:22:25,646]\u001b[0m Trial 61 finished with value: 0.5607522248592788 and parameters: {'learning_rate': 0.025, 'depth': 3, 'l2_leaf_reg': 3.0, 'min_child_samples': 1, 'iterations': 600.0, 'colsample_bylevel': 0.09932950181304522, 'scale_pos_weight': 4, 'bootstrap_type': 'Bernoulli'}. Best is trial 35 with value: 0.5885771776382805.\u001b[0m\n",
      "\u001b[32m[I 2022-03-13 01:22:35,646]\u001b[0m Trial 62 finished with value: 0.5537196368861577 and parameters: {'learning_rate': 0.029, 'depth': 5, 'l2_leaf_reg': 3.5, 'min_child_samples': 1, 'iterations': 800.0, 'colsample_bylevel': 0.09396424753490673, 'scale_pos_weight': 5, 'bootstrap_type': 'Bernoulli'}. Best is trial 35 with value: 0.5885771776382805.\u001b[0m\n",
      "\u001b[32m[I 2022-03-13 01:22:48,858]\u001b[0m Trial 63 finished with value: 0.5265753889834073 and parameters: {'learning_rate': 0.006, 'depth': 4, 'l2_leaf_reg': 3.0, 'min_child_samples': 1, 'iterations': 950.0, 'colsample_bylevel': 0.09018231798150927, 'scale_pos_weight': 4, 'bootstrap_type': 'Bernoulli'}. Best is trial 35 with value: 0.5885771776382805.\u001b[0m\n",
      "\u001b[32m[I 2022-03-13 01:22:59,942]\u001b[0m Trial 64 finished with value: 0.5595885337729314 and parameters: {'learning_rate': 0.022000000000000002, 'depth': 3, 'l2_leaf_reg': 2.5, 'min_child_samples': 1, 'iterations': 850.0, 'colsample_bylevel': 0.09998779470342617, 'scale_pos_weight': 3, 'bootstrap_type': 'Bernoulli'}. Best is trial 35 with value: 0.5885771776382805.\u001b[0m\n",
      "\u001b[32m[I 2022-03-13 01:23:12,244]\u001b[0m Trial 65 finished with value: 0.5382279390840189 and parameters: {'learning_rate': 0.012, 'depth': 4, 'l2_leaf_reg': 3.0, 'min_child_samples': 1, 'iterations': 650.0, 'colsample_bylevel': 0.08618431316028573, 'scale_pos_weight': 5, 'bootstrap_type': 'Bernoulli'}. Best is trial 35 with value: 0.5885771776382805.\u001b[0m\n",
      "\u001b[32m[I 2022-03-13 01:23:21,805]\u001b[0m Trial 66 finished with value: 0.5532361207206297 and parameters: {'learning_rate': 0.034, 'depth': 6, 'l2_leaf_reg': 2.5, 'min_child_samples': 8, 'iterations': 750.0, 'colsample_bylevel': 0.09702581114382798, 'scale_pos_weight': 4, 'bootstrap_type': 'Bernoulli'}. Best is trial 35 with value: 0.5885771776382805.\u001b[0m\n",
      "\u001b[32m[I 2022-03-13 01:23:28,016]\u001b[0m Trial 67 finished with value: 0.5536803690697514 and parameters: {'learning_rate': 0.022000000000000002, 'depth': 3, 'l2_leaf_reg': 3.5, 'min_child_samples': 32, 'iterations': 500.0, 'colsample_bylevel': 0.09233782888293246, 'scale_pos_weight': 3, 'bootstrap_type': 'Bayesian'}. Best is trial 35 with value: 0.5885771776382805.\u001b[0m\n",
      "\u001b[32m[I 2022-03-13 01:23:37,551]\u001b[0m Trial 68 finished with value: 0.5571100247388907 and parameters: {'learning_rate': 0.038, 'depth': 5, 'l2_leaf_reg': 4.0, 'min_child_samples': 16, 'iterations': 900.0, 'colsample_bylevel': 0.08310703653359865, 'scale_pos_weight': 4, 'bootstrap_type': 'Bernoulli'}. Best is trial 35 with value: 0.5885771776382805.\u001b[0m\n",
      "\u001b[32m[I 2022-03-13 01:23:44,124]\u001b[0m Trial 69 finished with value: 0.5677628249560489 and parameters: {'learning_rate': 0.074, 'depth': 4, 'l2_leaf_reg': 2.0, 'min_child_samples': 4, 'iterations': 700.0, 'colsample_bylevel': 0.07102937293090333, 'scale_pos_weight': 5, 'bootstrap_type': 'Bernoulli'}. Best is trial 35 with value: 0.5885771776382805.\u001b[0m\n",
      "\u001b[32m[I 2022-03-13 01:23:53,177]\u001b[0m Trial 70 finished with value: 0.5165698687057165 and parameters: {'learning_rate': 0.031, 'depth': 3, 'l2_leaf_reg': 3.0, 'min_child_samples': 1, 'iterations': 1000.0, 'colsample_bylevel': 0.09390582469203487, 'scale_pos_weight': 9, 'bootstrap_type': 'MVS'}. Best is trial 35 with value: 0.5885771776382805.\u001b[0m\n",
      "\u001b[32m[I 2022-03-13 01:24:04,477]\u001b[0m Trial 71 finished with value: 0.5661640180617067 and parameters: {'learning_rate': 0.021, 'depth': 3, 'l2_leaf_reg': 3.0, 'min_child_samples': 1, 'iterations': 900.0, 'colsample_bylevel': 0.09783868400579628, 'scale_pos_weight': 4, 'bootstrap_type': 'Bernoulli'}. Best is trial 35 with value: 0.5885771776382805.\u001b[0m\n",
      "\u001b[32m[I 2022-03-13 01:24:17,347]\u001b[0m Trial 72 finished with value: 0.5646065676140506 and parameters: {'learning_rate': 0.017, 'depth': 4, 'l2_leaf_reg': 3.0, 'min_child_samples': 1, 'iterations': 800.0, 'colsample_bylevel': 0.09861963808073582, 'scale_pos_weight': 4, 'bootstrap_type': 'Bernoulli'}. Best is trial 35 with value: 0.5885771776382805.\u001b[0m\n",
      "\u001b[32m[I 2022-03-13 01:24:24,407]\u001b[0m Trial 73 finished with value: 0.5692861401966189 and parameters: {'learning_rate': 0.026000000000000002, 'depth': 3, 'l2_leaf_reg': 2.5, 'min_child_samples': 1, 'iterations': 600.0, 'colsample_bylevel': 0.09439893797874321, 'scale_pos_weight': 3, 'bootstrap_type': 'Bernoulli'}. Best is trial 35 with value: 0.5885771776382805.\u001b[0m\n",
      "\u001b[32m[I 2022-03-13 01:24:34,282]\u001b[0m Trial 74 finished with value: 0.5619751892062204 and parameters: {'learning_rate': 0.027000000000000003, 'depth': 4, 'l2_leaf_reg': 3.5, 'min_child_samples': 1, 'iterations': 850.0, 'colsample_bylevel': 0.08997130631086672, 'scale_pos_weight': 5, 'bootstrap_type': 'Bernoulli'}. Best is trial 35 with value: 0.5885771776382805.\u001b[0m\n",
      "\u001b[32m[I 2022-03-13 01:24:49,769]\u001b[0m Trial 75 finished with value: 0.574237517732241 and parameters: {'learning_rate': 0.016, 'depth': 3, 'l2_leaf_reg': 3.0, 'min_child_samples': 1, 'iterations': 1100.0, 'colsample_bylevel': 0.0959374827513777, 'scale_pos_weight': 4, 'bootstrap_type': 'Bernoulli'}. Best is trial 35 with value: 0.5885771776382805.\u001b[0m\n",
      "\u001b[32m[I 2022-03-13 01:25:08,223]\u001b[0m Trial 76 finished with value: 0.5550567876015687 and parameters: {'learning_rate': 0.011, 'depth': 5, 'l2_leaf_reg': 4.5, 'min_child_samples': 1, 'iterations': 1050.0, 'colsample_bylevel': 0.08657650460272029, 'scale_pos_weight': 3, 'bootstrap_type': 'Bernoulli'}. Best is trial 35 with value: 0.5885771776382805.\u001b[0m\n",
      "\u001b[32m[I 2022-03-13 01:25:20,631]\u001b[0m Trial 77 finished with value: 0.5673638119485537 and parameters: {'learning_rate': 0.017, 'depth': 4, 'l2_leaf_reg': 2.5, 'min_child_samples': 16, 'iterations': 1600.0, 'colsample_bylevel': 0.09580978140508395, 'scale_pos_weight': 6, 'bootstrap_type': 'Bernoulli'}. Best is trial 35 with value: 0.5885771776382805.\u001b[0m\n",
      "\u001b[32m[I 2022-03-13 01:25:42,385]\u001b[0m Trial 78 finished with value: 0.543641853619339 and parameters: {'learning_rate': 0.029, 'depth': 10, 'l2_leaf_reg': 4.0, 'min_child_samples': 1, 'iterations': 1150.0, 'colsample_bylevel': 0.09208295412429865, 'scale_pos_weight': 4, 'bootstrap_type': 'Bayesian'}. Best is trial 35 with value: 0.5885771776382805.\u001b[0m\n",
      "\u001b[32m[I 2022-03-13 01:25:48,630]\u001b[0m Trial 79 finished with value: 0.5599386464719318 and parameters: {'learning_rate': 0.042, 'depth': 3, 'l2_leaf_reg': 3.5, 'min_child_samples': 1, 'iterations': 1900.0, 'colsample_bylevel': 0.08908767834501477, 'scale_pos_weight': 5, 'bootstrap_type': 'MVS'}. Best is trial 35 with value: 0.5885771776382805.\u001b[0m\n",
      "\u001b[32m[I 2022-03-13 01:25:54,696]\u001b[0m Trial 80 finished with value: 0.5331380833873907 and parameters: {'learning_rate': 0.014000000000000002, 'depth': 6, 'l2_leaf_reg': 2.0, 'min_child_samples': 32, 'iterations': 350.0, 'colsample_bylevel': 0.0526436586232732, 'scale_pos_weight': 4, 'bootstrap_type': 'Bernoulli'}. Best is trial 35 with value: 0.5885771776382805.\u001b[0m\n",
      "\u001b[32m[I 2022-03-13 01:26:04,177]\u001b[0m Trial 81 finished with value: 0.5628691409245332 and parameters: {'learning_rate': 0.022000000000000002, 'depth': 3, 'l2_leaf_reg': 3.0, 'min_child_samples': 1, 'iterations': 750.0, 'colsample_bylevel': 0.099361842943019, 'scale_pos_weight': 4, 'bootstrap_type': 'Bernoulli'}. Best is trial 35 with value: 0.5885771776382805.\u001b[0m\n",
      "\u001b[32m[I 2022-03-13 01:26:18,089]\u001b[0m Trial 82 finished with value: 0.5688201859155261 and parameters: {'learning_rate': 0.019000000000000003, 'depth': 3, 'l2_leaf_reg': 3.0, 'min_child_samples': 1, 'iterations': 950.0, 'colsample_bylevel': 0.09720403921145629, 'scale_pos_weight': 4, 'bootstrap_type': 'Bernoulli'}. Best is trial 35 with value: 0.5885771776382805.\u001b[0m\n",
      "\u001b[32m[I 2022-03-13 01:26:28,792]\u001b[0m Trial 83 finished with value: 0.5661521020562214 and parameters: {'learning_rate': 0.023, 'depth': 4, 'l2_leaf_reg': 2.5, 'min_child_samples': 1, 'iterations': 700.0, 'colsample_bylevel': 0.09990500429196729, 'scale_pos_weight': 3, 'bootstrap_type': 'Bernoulli'}. Best is trial 35 with value: 0.5885771776382805.\u001b[0m\n",
      "\u001b[32m[I 2022-03-13 01:26:35,137]\u001b[0m Trial 84 finished with value: 0.5591001716001716 and parameters: {'learning_rate': 0.031, 'depth': 3, 'l2_leaf_reg': 3.0, 'min_child_samples': 1, 'iterations': 550.0, 'colsample_bylevel': 0.09445669262243109, 'scale_pos_weight': 5, 'bootstrap_type': 'Bernoulli'}. Best is trial 35 with value: 0.5885771776382805.\u001b[0m\n",
      "\u001b[32m[I 2022-03-13 01:26:44,228]\u001b[0m Trial 85 finished with value: 0.5306787330316742 and parameters: {'learning_rate': 0.010000000000000002, 'depth': 4, 'l2_leaf_reg': 3.5, 'min_child_samples': 16, 'iterations': 650.0, 'colsample_bylevel': 0.09198410702528964, 'scale_pos_weight': 4, 'bootstrap_type': 'Bernoulli'}. Best is trial 35 with value: 0.5885771776382805.\u001b[0m\n",
      "\u001b[32m[I 2022-03-13 01:26:52,598]\u001b[0m Trial 86 finished with value: 0.5815278048699772 and parameters: {'learning_rate': 0.035, 'depth': 5, 'l2_leaf_reg': 3.0, 'min_child_samples': 4, 'iterations': 800.0, 'colsample_bylevel': 0.09617004491870154, 'scale_pos_weight': 4, 'bootstrap_type': 'MVS'}. Best is trial 35 with value: 0.5885771776382805.\u001b[0m\n",
      "\u001b[32m[I 2022-03-13 01:27:00,791]\u001b[0m Trial 87 finished with value: 0.5469221835075494 and parameters: {'learning_rate': 0.035, 'depth': 5, 'l2_leaf_reg': 3.0, 'min_child_samples': 4, 'iterations': 850.0, 'colsample_bylevel': 0.08370322168896238, 'scale_pos_weight': 5, 'bootstrap_type': 'MVS'}. Best is trial 35 with value: 0.5885771776382805.\u001b[0m\n",
      "\u001b[32m[I 2022-03-13 01:27:09,478]\u001b[0m Trial 88 finished with value: 0.5250303666367785 and parameters: {'learning_rate': 0.048, 'depth': 5, 'l2_leaf_reg': 2.5, 'min_child_samples': 4, 'iterations': 550.0, 'colsample_bylevel': 0.09698602630332943, 'scale_pos_weight': 3, 'bootstrap_type': 'MVS'}. Best is trial 35 with value: 0.5885771776382805.\u001b[0m\n",
      "\u001b[32m[I 2022-03-13 01:27:19,607]\u001b[0m Trial 89 finished with value: 0.556790600790401 and parameters: {'learning_rate': 0.027000000000000003, 'depth': 6, 'l2_leaf_reg': 3.5, 'min_child_samples': 4, 'iterations': 800.0, 'colsample_bylevel': 0.08739887237061034, 'scale_pos_weight': 4, 'bootstrap_type': 'MVS'}. Best is trial 35 with value: 0.5885771776382805.\u001b[0m\n",
      "\u001b[32m[I 2022-03-13 01:27:26,654]\u001b[0m Trial 90 finished with value: 0.56324753635741 and parameters: {'learning_rate': 0.034, 'depth': 5, 'l2_leaf_reg': 5.5, 'min_child_samples': 4, 'iterations': 450.0, 'colsample_bylevel': 0.07939775014647944, 'scale_pos_weight': 3, 'bootstrap_type': 'MVS'}. Best is trial 35 with value: 0.5885771776382805.\u001b[0m\n",
      "\u001b[32m[I 2022-03-13 01:27:34,548]\u001b[0m Trial 91 finished with value: 0.5637334193097316 and parameters: {'learning_rate': 0.025, 'depth': 3, 'l2_leaf_reg': 3.0, 'min_child_samples': 8, 'iterations': 700.0, 'colsample_bylevel': 0.09498956227372812, 'scale_pos_weight': 4, 'bootstrap_type': 'MVS'}. Best is trial 35 with value: 0.5885771776382805.\u001b[0m\n",
      "\u001b[32m[I 2022-03-13 01:27:44,975]\u001b[0m Trial 92 finished with value: 0.5775813530561058 and parameters: {'learning_rate': 0.02, 'depth': 4, 'l2_leaf_reg': 2.5, 'min_child_samples': 1, 'iterations': 900.0, 'colsample_bylevel': 0.09291899212558831, 'scale_pos_weight': 4, 'bootstrap_type': 'Bernoulli'}. Best is trial 35 with value: 0.5885771776382805.\u001b[0m\n",
      "\u001b[32m[I 2022-03-13 01:27:57,143]\u001b[0m Trial 93 finished with value: 0.574894085306551 and parameters: {'learning_rate': 0.02, 'depth': 4, 'l2_leaf_reg': 2.5, 'min_child_samples': 1, 'iterations': 1350.0, 'colsample_bylevel': 0.09095293261030103, 'scale_pos_weight': 4, 'bootstrap_type': 'Bernoulli'}. Best is trial 35 with value: 0.5885771776382805.\u001b[0m\n",
      "\u001b[32m[I 2022-03-13 01:28:11,507]\u001b[0m Trial 94 finished with value: 0.5546425633844273 and parameters: {'learning_rate': 0.016, 'depth': 4, 'l2_leaf_reg': 2.0, 'min_child_samples': 1, 'iterations': 1400.0, 'colsample_bylevel': 0.09075852269476362, 'scale_pos_weight': 5, 'bootstrap_type': 'MVS'}. Best is trial 35 with value: 0.5885771776382805.\u001b[0m\n",
      "\u001b[32m[I 2022-03-13 01:28:37,739]\u001b[0m Trial 95 finished with value: 0.535316888413552 and parameters: {'learning_rate': 0.007, 'depth': 7, 'l2_leaf_reg': 2.5, 'min_child_samples': 1, 'iterations': 1700.0, 'colsample_bylevel': 0.09298970562110397, 'scale_pos_weight': 4, 'bootstrap_type': 'Bernoulli'}. Best is trial 35 with value: 0.5885771776382805.\u001b[0m\n",
      "\u001b[32m[I 2022-03-13 01:28:51,512]\u001b[0m Trial 96 finished with value: 0.5555695611577964 and parameters: {'learning_rate': 0.019000000000000003, 'depth': 4, 'l2_leaf_reg': 2.5, 'min_child_samples': 4, 'iterations': 1300.0, 'colsample_bylevel': 0.08844485209126603, 'scale_pos_weight': 3, 'bootstrap_type': 'Bernoulli'}. Best is trial 35 with value: 0.5885771776382805.\u001b[0m\n",
      "\u001b[32m[I 2022-03-13 01:28:59,078]\u001b[0m Trial 97 finished with value: 0.5732220095403032 and parameters: {'learning_rate': 0.029, 'depth': 4, 'l2_leaf_reg': 2.0, 'min_child_samples': 1, 'iterations': 1150.0, 'colsample_bylevel': 0.08573352615762951, 'scale_pos_weight': 4, 'bootstrap_type': 'MVS'}. Best is trial 35 with value: 0.5885771776382805.\u001b[0m\n",
      "\u001b[32m[I 2022-03-13 01:29:11,048]\u001b[0m Trial 98 finished with value: 0.5337529212158515 and parameters: {'learning_rate': 0.032, 'depth': 5, 'l2_leaf_reg': 2.5, 'min_child_samples': 16, 'iterations': 1100.0, 'colsample_bylevel': 0.08082033157310395, 'scale_pos_weight': 2, 'bootstrap_type': 'Bernoulli'}. Best is trial 35 with value: 0.5885771776382805.\u001b[0m\n",
      "\u001b[32m[I 2022-03-13 01:29:22,572]\u001b[0m Trial 99 finished with value: 0.4981560054636424 and parameters: {'learning_rate': 0.013000000000000001, 'depth': 6, 'l2_leaf_reg': 2.5, 'min_child_samples': 1, 'iterations': 1450.0, 'colsample_bylevel': 0.01179131788057107, 'scale_pos_weight': 5, 'bootstrap_type': 'Bayesian'}. Best is trial 35 with value: 0.5885771776382805.\u001b[0m\n"
     ]
    }
   ],
   "source": [
    "study = optuna.create_study(direction=\"maximize\")\n",
    "study.optimize(objective, n_trials=100) #10000"
   ]
  },
  {
   "cell_type": "code",
   "execution_count": 96,
   "metadata": {},
   "outputs": [
    {
     "name": "stdout",
     "output_type": "stream",
     "text": [
      "Number of finished trials: 100\n",
      "Best trial:\n",
      "  Value: 0.5885771776382805\n",
      "  Params: \n",
      "    learning_rate: 0.029\n",
      "    depth: 5\n",
      "    l2_leaf_reg: 2.5\n",
      "    min_child_samples: 16\n",
      "    iterations: 500.0\n",
      "    colsample_bylevel: 0.0919260168756181\n",
      "    scale_pos_weight: 5\n",
      "    bootstrap_type: MVS\n"
     ]
    }
   ],
   "source": [
    "print(\"Number of finished trials: {}\".format(len(study.trials)))\n",
    "\n",
    "print(\"Best trial:\")\n",
    "trial = study.best_trial\n",
    "\n",
    "print(\"  Value: {}\".format(trial.value))\n",
    "\n",
    "print(\"  Params: \")\n",
    "for key, value in trial.params.items():\n",
    "    print(\"    {}: {}\".format(key, value))"
   ]
  },
  {
   "cell_type": "code",
   "execution_count": 97,
   "metadata": {},
   "outputs": [],
   "source": [
    "new_feat2 = ['Year_of_Birth', 'Education_Level', 'Marital_Status',\n",
    "       'Disposable_Income', 'No_of_Kids_in_home', 'No_of_Teen_in_home',\n",
    "       'Recency', 'Discounted_Purchases', 'WebPurchases', 'CatalogPurchases',\n",
    "       'StorePurchases', 'Amount_on_Wines', 'Amount_on_Fruits',\n",
    "       'Amount_on_MeatProducts', 'Amount_on_FishProducts',\n",
    "       'Amount_on_SweetProducts', 'Amount_on_GoldProds', 'WebVisitsMonth',\n",
    "       'Cmp3Accepted', 'Cmp4Accepted', 'Cmp5Accepted', 'Cmp1Accepted',\n",
    "       'Cmp2Accepted', 'Any_Complain', 'year', 'month', 'quater',\n",
    "       'duration_days', 'duration_months', 'is_month_end', 'is_month_start']\n",
    "\n",
    "X = train_df[new_feat2]"
   ]
  },
  {
   "cell_type": "code",
   "execution_count": 98,
   "metadata": {},
   "outputs": [],
   "source": [
    "def objective(trial):\n",
    "    oof_f1=[]\n",
    "    oof_predictions=[]\n",
    "\n",
    "\n",
    "    param = {}\n",
    "#     param['objective'] = \"Logloss\"\n",
    "#     param['learning_rate'] = trial.suggest_discrete_uniform(\"learning_rate\", 0.001, 0.1, 0.001)\n",
    "#     param['depth'] = trial.suggest_int('depth', 3, 15)\n",
    "#     param['l2_leaf_reg'] = trial.suggest_discrete_uniform('l2_leaf_reg', 1.0, 5.5, 0.5)\n",
    "#     param['min_child_samples'] = trial.suggest_categorical('min_child_samples', [1, 4, 8, 16, 32])\n",
    "#     param['iterations'] = trial.suggest_discrete_uniform(\"iterations\", 200, 2000, 50)\n",
    "#     param['use_best_model'] = True\n",
    "#     param[\"colsample_bylevel\"] =  trial.suggest_float(\"colsample_bylevel\", 0.01, 0.1)\n",
    "#     param['random_state'] = 0\n",
    "    \n",
    "#     param['bootstrap_type'] = trial.suggest_categorical(\"bootstrap_type\", [\"Bayesian\", \"Bernoulli\", \"MVS\"])\n",
    "#     param['logging_level'] = 'Silent'\n",
    "    \n",
    "    param[\"learning_rate\"] = trial.suggest_float(\"learning_rate\", 1e-2, 0.25, log=True)\n",
    "#     param['reg_lambda'] = trial.suggest_loguniform(\"reg_lambda\", 1e-8, 100.0)\n",
    "#     param['reg_alpha'] = trial.suggest_loguniform(\"reg_alpha\", 1e-8, 100.0)\n",
    "    param['subsample'] = trial.suggest_float(\"subsample\", 0.1, 1.0)\n",
    "    param['colsample_bytree'] = trial.suggest_float(\"colsample_bytree\", 0.1, 1.0)\n",
    "    param['max_depth'] = trial.suggest_int(\"max_depth\", 5, 20)\n",
    "    param['scale_pos_weight'] = trial.suggest_int('scale_pos_weight', 3, 10)\n",
    "\n",
    "\n",
    "\n",
    "\n",
    "    fold=StratifiedKFold(n_splits=5)#15#5#10\n",
    "    i=1\n",
    "    for train_index, test_index in fold.split(X,y):\n",
    "        \n",
    "        X_train, X_test = X.iloc[train_index], X.iloc[test_index]\n",
    "        y_train, y_test = y.iloc[train_index], y.iloc[test_index]\n",
    "\n",
    "        model = LGBMClassifier(**param ,n_estimators=10000)\n",
    "\n",
    "    \n",
    "        model.fit(X_train,y_train,eval_set=[(X_train,y_train),(X_test, y_test)], early_stopping_rounds=300, verbose = False)#erly100\n",
    "        preds=model.predict(X_test)\n",
    "        oof_f1.append(f1_score(y_test,preds))\n",
    "\n",
    "    \n",
    "\n",
    "    return np.mean(oof_f1)"
   ]
  },
  {
   "cell_type": "code",
   "execution_count": 99,
   "metadata": {},
   "outputs": [
    {
     "name": "stderr",
     "output_type": "stream",
     "text": [
      "\u001b[32m[I 2022-03-13 01:29:22,758]\u001b[0m A new study created in memory with name: no-name-c187079d-4e9b-4a47-9f5b-e70a18af9a36\u001b[0m\n",
      "\u001b[32m[I 2022-03-13 01:29:25,414]\u001b[0m Trial 0 finished with value: 0.5855883680713553 and parameters: {'learning_rate': 0.07281239404138323, 'subsample': 0.9470997713630432, 'colsample_bytree': 0.7157391749824287, 'max_depth': 8, 'scale_pos_weight': 6}. Best is trial 0 with value: 0.5855883680713553.\u001b[0m\n",
      "\u001b[32m[I 2022-03-13 01:29:27,139]\u001b[0m Trial 1 finished with value: 0.5917402673235419 and parameters: {'learning_rate': 0.18907949066322266, 'subsample': 0.9030314824852131, 'colsample_bytree': 0.5169486686263819, 'max_depth': 5, 'scale_pos_weight': 10}. Best is trial 1 with value: 0.5917402673235419.\u001b[0m\n",
      "\u001b[32m[I 2022-03-13 01:29:29,705]\u001b[0m Trial 2 finished with value: 0.5814360396884668 and parameters: {'learning_rate': 0.15843351491598617, 'subsample': 0.8268347533201383, 'colsample_bytree': 0.36313366826268656, 'max_depth': 15, 'scale_pos_weight': 7}. Best is trial 1 with value: 0.5917402673235419.\u001b[0m\n",
      "\u001b[32m[I 2022-03-13 01:29:36,157]\u001b[0m Trial 3 finished with value: 0.5266635711265294 and parameters: {'learning_rate': 0.02397333881127079, 'subsample': 0.337469321434311, 'colsample_bytree': 0.14742294443143628, 'max_depth': 10, 'scale_pos_weight': 4}. Best is trial 1 with value: 0.5917402673235419.\u001b[0m\n",
      "\u001b[32m[I 2022-03-13 01:29:42,898]\u001b[0m Trial 4 finished with value: 0.5892880281515259 and parameters: {'learning_rate': 0.010435834922377804, 'subsample': 0.6569042343731566, 'colsample_bytree': 0.36762241881736535, 'max_depth': 8, 'scale_pos_weight': 6}. Best is trial 1 with value: 0.5917402673235419.\u001b[0m\n",
      "\u001b[32m[I 2022-03-13 01:29:45,696]\u001b[0m Trial 5 finished with value: 0.5656925790259124 and parameters: {'learning_rate': 0.05274308109541711, 'subsample': 0.12092809857489317, 'colsample_bytree': 0.35820718878748603, 'max_depth': 11, 'scale_pos_weight': 3}. Best is trial 1 with value: 0.5917402673235419.\u001b[0m\n",
      "\u001b[32m[I 2022-03-13 01:29:52,414]\u001b[0m Trial 6 finished with value: 0.5871948211254477 and parameters: {'learning_rate': 0.01367061039665939, 'subsample': 0.4643486161829219, 'colsample_bytree': 0.34117370160563787, 'max_depth': 9, 'scale_pos_weight': 8}. Best is trial 1 with value: 0.5917402673235419.\u001b[0m\n",
      "\u001b[32m[I 2022-03-13 01:29:54,638]\u001b[0m Trial 7 finished with value: 0.5828060962846312 and parameters: {'learning_rate': 0.1595827181692645, 'subsample': 0.6745322806866705, 'colsample_bytree': 0.29324017947636793, 'max_depth': 7, 'scale_pos_weight': 5}. Best is trial 1 with value: 0.5917402673235419.\u001b[0m\n",
      "\u001b[32m[I 2022-03-13 01:29:59,571]\u001b[0m Trial 8 finished with value: 0.5861758802318677 and parameters: {'learning_rate': 0.016987375479860213, 'subsample': 0.17040897960511764, 'colsample_bytree': 0.5248476669216224, 'max_depth': 16, 'scale_pos_weight': 10}. Best is trial 1 with value: 0.5917402673235419.\u001b[0m\n",
      "\u001b[32m[I 2022-03-13 01:30:01,871]\u001b[0m Trial 9 finished with value: 0.5775365932284152 and parameters: {'learning_rate': 0.070319040403063, 'subsample': 0.20302503827403542, 'colsample_bytree': 0.3953869595456052, 'max_depth': 6, 'scale_pos_weight': 3}. Best is trial 1 with value: 0.5917402673235419.\u001b[0m\n",
      "\u001b[32m[I 2022-03-13 01:30:04,059]\u001b[0m Trial 10 finished with value: 0.6114051533520561 and parameters: {'learning_rate': 0.23703441733275088, 'subsample': 0.9719060445717111, 'colsample_bytree': 0.9175405877413312, 'max_depth': 20, 'scale_pos_weight': 10}. Best is trial 10 with value: 0.6114051533520561.\u001b[0m\n",
      "\u001b[32m[I 2022-03-13 01:30:06,176]\u001b[0m Trial 11 finished with value: 0.5924846931562472 and parameters: {'learning_rate': 0.23906607900385543, 'subsample': 0.9624208514837482, 'colsample_bytree': 0.9809323028224185, 'max_depth': 20, 'scale_pos_weight': 10}. Best is trial 10 with value: 0.6114051533520561.\u001b[0m\n",
      "\u001b[32m[I 2022-03-13 01:30:08,558]\u001b[0m Trial 12 finished with value: 0.6184226563558868 and parameters: {'learning_rate': 0.2391065076287467, 'subsample': 0.9991079983441716, 'colsample_bytree': 0.9982273420501954, 'max_depth': 20, 'scale_pos_weight': 9}. Best is trial 12 with value: 0.6184226563558868.\u001b[0m\n",
      "\u001b[32m[I 2022-03-13 01:30:12,030]\u001b[0m Trial 13 finished with value: 0.6035057377789825 and parameters: {'learning_rate': 0.10973612439968046, 'subsample': 0.7686819341561727, 'colsample_bytree': 0.9715287168381153, 'max_depth': 20, 'scale_pos_weight': 8}. Best is trial 12 with value: 0.6184226563558868.\u001b[0m\n",
      "\u001b[32m[I 2022-03-13 01:30:16,617]\u001b[0m Trial 14 finished with value: 0.6086120290641504 and parameters: {'learning_rate': 0.03121752328710432, 'subsample': 0.7992195620845265, 'colsample_bytree': 0.7878203095663705, 'max_depth': 17, 'scale_pos_weight': 9}. Best is trial 12 with value: 0.6184226563558868.\u001b[0m\n",
      "\u001b[32m[I 2022-03-13 01:30:19,195]\u001b[0m Trial 15 finished with value: 0.5889908218606592 and parameters: {'learning_rate': 0.11288930576534702, 'subsample': 0.997092017269006, 'colsample_bytree': 0.8282208500233121, 'max_depth': 18, 'scale_pos_weight': 9}. Best is trial 12 with value: 0.6184226563558868.\u001b[0m\n",
      "\u001b[32m[I 2022-03-13 01:30:20,911]\u001b[0m Trial 16 finished with value: 0.576511004887995 and parameters: {'learning_rate': 0.24403306311311948, 'subsample': 0.5296058673446989, 'colsample_bytree': 0.6528819534918485, 'max_depth': 13, 'scale_pos_weight': 8}. Best is trial 12 with value: 0.6184226563558868.\u001b[0m\n",
      "\u001b[32m[I 2022-03-13 01:30:23,617]\u001b[0m Trial 17 finished with value: 0.573850463385522 and parameters: {'learning_rate': 0.10554479271726015, 'subsample': 0.6591691135497282, 'colsample_bytree': 0.8679717933493661, 'max_depth': 14, 'scale_pos_weight': 9}. Best is trial 12 with value: 0.6184226563558868.\u001b[0m\n",
      "\u001b[32m[I 2022-03-13 01:30:27,312]\u001b[0m Trial 18 finished with value: 0.5882609819218223 and parameters: {'learning_rate': 0.03994113222654155, 'subsample': 0.8649219541564556, 'colsample_bytree': 0.9135001377691908, 'max_depth': 18, 'scale_pos_weight': 7}. Best is trial 12 with value: 0.6184226563558868.\u001b[0m\n",
      "\u001b[32m[I 2022-03-13 01:30:30,278]\u001b[0m Trial 19 finished with value: 0.5892162691319646 and parameters: {'learning_rate': 0.1389265409046068, 'subsample': 0.7591258634953542, 'colsample_bytree': 0.6413117895803957, 'max_depth': 19, 'scale_pos_weight': 9}. Best is trial 12 with value: 0.6184226563558868.\u001b[0m\n",
      "\u001b[32m[I 2022-03-13 01:30:33,236]\u001b[0m Trial 20 finished with value: 0.6077396359896092 and parameters: {'learning_rate': 0.07613520308855677, 'subsample': 0.39332225171975144, 'colsample_bytree': 0.7590657793271944, 'max_depth': 16, 'scale_pos_weight': 10}. Best is trial 12 with value: 0.6184226563558868.\u001b[0m\n",
      "\u001b[32m[I 2022-03-13 01:30:37,102]\u001b[0m Trial 21 finished with value: 0.6009650962744106 and parameters: {'learning_rate': 0.032096720833307356, 'subsample': 0.8234449026044102, 'colsample_bytree': 0.8069844607263361, 'max_depth': 18, 'scale_pos_weight': 9}. Best is trial 12 with value: 0.6184226563558868.\u001b[0m\n",
      "\u001b[32m[I 2022-03-13 01:30:41,254]\u001b[0m Trial 22 finished with value: 0.5968138817453338 and parameters: {'learning_rate': 0.025722530760705676, 'subsample': 0.9064856608105545, 'colsample_bytree': 0.9120200964857343, 'max_depth': 17, 'scale_pos_weight': 8}. Best is trial 12 with value: 0.6184226563558868.\u001b[0m\n",
      "\u001b[32m[I 2022-03-13 01:30:45,477]\u001b[0m Trial 23 finished with value: 0.6026126586101364 and parameters: {'learning_rate': 0.04577894801348491, 'subsample': 0.7623970849141292, 'colsample_bytree': 0.9112275781702639, 'max_depth': 20, 'scale_pos_weight': 9}. Best is trial 12 with value: 0.6184226563558868.\u001b[0m\n",
      "\u001b[32m[I 2022-03-13 01:30:47,719]\u001b[0m Trial 24 finished with value: 0.5861067099549901 and parameters: {'learning_rate': 0.20387526429852523, 'subsample': 0.9604292826354857, 'colsample_bytree': 0.979751917140251, 'max_depth': 19, 'scale_pos_weight': 10}. Best is trial 12 with value: 0.6184226563558868.\u001b[0m\n",
      "\u001b[32m[I 2022-03-13 01:30:52,213]\u001b[0m Trial 25 finished with value: 0.5926700732861008 and parameters: {'learning_rate': 0.021556806319660924, 'subsample': 0.9909494184562991, 'colsample_bytree': 0.7370774159505412, 'max_depth': 17, 'scale_pos_weight': 7}. Best is trial 12 with value: 0.6184226563558868.\u001b[0m\n",
      "\u001b[32m[I 2022-03-13 01:30:55,915]\u001b[0m Trial 26 finished with value: 0.5951633171714332 and parameters: {'learning_rate': 0.034541352047148303, 'subsample': 0.8640005215177823, 'colsample_bytree': 0.8184247217597066, 'max_depth': 19, 'scale_pos_weight': 9}. Best is trial 12 with value: 0.6184226563558868.\u001b[0m\n",
      "\u001b[32m[I 2022-03-13 01:30:58,965]\u001b[0m Trial 27 finished with value: 0.6014038212397763 and parameters: {'learning_rate': 0.08907151072299353, 'subsample': 0.5912005055827483, 'colsample_bytree': 0.6151095145936485, 'max_depth': 15, 'scale_pos_weight': 8}. Best is trial 12 with value: 0.6184226563558868.\u001b[0m\n",
      "\u001b[32m[I 2022-03-13 01:31:02,093]\u001b[0m Trial 28 finished with value: 0.5979209621993128 and parameters: {'learning_rate': 0.06012133954638788, 'subsample': 0.7300520230888582, 'colsample_bytree': 0.9994973592350606, 'max_depth': 12, 'scale_pos_weight': 10}. Best is trial 12 with value: 0.6184226563558868.\u001b[0m\n",
      "\u001b[32m[I 2022-03-13 01:31:04,276]\u001b[0m Trial 29 finished with value: 0.5842686130657034 and parameters: {'learning_rate': 0.1663568091650703, 'subsample': 0.9127779211411076, 'colsample_bytree': 0.7204322477648669, 'max_depth': 17, 'scale_pos_weight': 5}. Best is trial 12 with value: 0.6184226563558868.\u001b[0m\n",
      "\u001b[32m[I 2022-03-13 01:31:06,689]\u001b[0m Trial 30 finished with value: 0.608388162809534 and parameters: {'learning_rate': 0.12297883639540504, 'subsample': 0.8467344701016221, 'colsample_bytree': 0.9002240890479253, 'max_depth': 20, 'scale_pos_weight': 9}. Best is trial 12 with value: 0.6184226563558868.\u001b[0m\n",
      "\u001b[32m[I 2022-03-13 01:31:08,478]\u001b[0m Trial 31 finished with value: 0.5843487293431621 and parameters: {'learning_rate': 0.24913840315236085, 'subsample': 0.8427958116850514, 'colsample_bytree': 0.8744648422750889, 'max_depth': 20, 'scale_pos_weight': 9}. Best is trial 12 with value: 0.6184226563558868.\u001b[0m\n",
      "\u001b[32m[I 2022-03-13 01:31:10,380]\u001b[0m Trial 32 finished with value: 0.558798015763194 and parameters: {'learning_rate': 0.19890710679744486, 'subsample': 0.9258773608654627, 'colsample_bytree': 0.7860148375610723, 'max_depth': 19, 'scale_pos_weight': 10}. Best is trial 12 with value: 0.6184226563558868.\u001b[0m\n",
      "\u001b[32m[I 2022-03-13 01:31:12,717]\u001b[0m Trial 33 finished with value: 0.6202306058867416 and parameters: {'learning_rate': 0.13895156220108534, 'subsample': 0.8009268868261007, 'colsample_bytree': 0.8703625692753638, 'max_depth': 18, 'scale_pos_weight': 8}. Best is trial 33 with value: 0.6202306058867416.\u001b[0m\n",
      "\u001b[32m[I 2022-03-13 01:31:15,092]\u001b[0m Trial 34 finished with value: 0.575330568101187 and parameters: {'learning_rate': 0.1861991048603656, 'subsample': 0.8014000893712612, 'colsample_bytree': 0.6892412869271229, 'max_depth': 16, 'scale_pos_weight': 7}. Best is trial 33 with value: 0.6202306058867416.\u001b[0m\n",
      "\u001b[32m[I 2022-03-13 01:31:17,467]\u001b[0m Trial 35 finished with value: 0.5874778314611879 and parameters: {'learning_rate': 0.13589495631915807, 'subsample': 0.8904026985668775, 'colsample_bytree': 0.5756150029601196, 'max_depth': 18, 'scale_pos_weight': 8}. Best is trial 33 with value: 0.6202306058867416.\u001b[0m\n",
      "\u001b[32m[I 2022-03-13 01:31:19,483]\u001b[0m Trial 36 finished with value: 0.6025279001625213 and parameters: {'learning_rate': 0.20583891333962764, 'subsample': 0.9476533299034318, 'colsample_bytree': 0.9371399175536255, 'max_depth': 15, 'scale_pos_weight': 6}. Best is trial 33 with value: 0.6202306058867416.\u001b[0m\n",
      "\u001b[32m[I 2022-03-13 01:31:21,610]\u001b[0m Trial 37 finished with value: 0.5917915089430198 and parameters: {'learning_rate': 0.15481586832832478, 'subsample': 0.7066877640431114, 'colsample_bytree': 0.8548912309026588, 'max_depth': 17, 'scale_pos_weight': 7}. Best is trial 33 with value: 0.6202306058867416.\u001b[0m\n",
      "\u001b[32m[I 2022-03-13 01:31:23,698]\u001b[0m Trial 38 finished with value: 0.572848839209664 and parameters: {'learning_rate': 0.1785027686043549, 'subsample': 0.7988117273863862, 'colsample_bytree': 0.44732499504599604, 'max_depth': 19, 'scale_pos_weight': 8}. Best is trial 33 with value: 0.6202306058867416.\u001b[0m\n",
      "\u001b[32m[I 2022-03-13 01:31:27,616]\u001b[0m Trial 39 finished with value: 0.5817089845824769 and parameters: {'learning_rate': 0.028044829510415935, 'subsample': 0.5723779199502464, 'colsample_bytree': 0.9509641107858953, 'max_depth': 14, 'scale_pos_weight': 10}. Best is trial 33 with value: 0.6202306058867416.\u001b[0m\n",
      "\u001b[32m[I 2022-03-13 01:31:32,243]\u001b[0m Trial 40 finished with value: 0.5746147469551726 and parameters: {'learning_rate': 0.04958853703813348, 'subsample': 0.501719575508558, 'colsample_bytree': 0.2230880711837705, 'max_depth': 18, 'scale_pos_weight': 9}. Best is trial 33 with value: 0.6202306058867416.\u001b[0m\n",
      "\u001b[32m[I 2022-03-13 01:31:34,940]\u001b[0m Trial 41 finished with value: 0.5750929154888594 and parameters: {'learning_rate': 0.13355470149094512, 'subsample': 0.6117370439027994, 'colsample_bytree': 0.8883951748888778, 'max_depth': 20, 'scale_pos_weight': 9}. Best is trial 33 with value: 0.6202306058867416.\u001b[0m\n",
      "\u001b[32m[I 2022-03-13 01:31:37,879]\u001b[0m Trial 42 finished with value: 0.6100364805014339 and parameters: {'learning_rate': 0.08687310595145703, 'subsample': 0.8669160004545376, 'colsample_bytree': 0.8490194688545102, 'max_depth': 20, 'scale_pos_weight': 10}. Best is trial 33 with value: 0.6202306058867416.\u001b[0m\n",
      "\u001b[32m[I 2022-03-13 01:31:40,813]\u001b[0m Trial 43 finished with value: 0.5960102218800672 and parameters: {'learning_rate': 0.08242188971289052, 'subsample': 0.8918944074084938, 'colsample_bytree': 0.7837498525712562, 'max_depth': 19, 'scale_pos_weight': 10}. Best is trial 33 with value: 0.6202306058867416.\u001b[0m\n",
      "\u001b[32m[I 2022-03-13 01:31:43,807]\u001b[0m Trial 44 finished with value: 0.585188574357711 and parameters: {'learning_rate': 0.06607147291941971, 'subsample': 0.9635594725951707, 'colsample_bytree': 0.8243070518211086, 'max_depth': 20, 'scale_pos_weight': 10}. Best is trial 33 with value: 0.6202306058867416.\u001b[0m\n",
      "\u001b[32m[I 2022-03-13 01:31:46,800]\u001b[0m Trial 45 finished with value: 0.6051194714895203 and parameters: {'learning_rate': 0.09086959441063018, 'subsample': 0.9945462431928641, 'colsample_bytree': 0.9455576091944407, 'max_depth': 18, 'scale_pos_weight': 10}. Best is trial 33 with value: 0.6202306058867416.\u001b[0m\n",
      "\u001b[32m[I 2022-03-13 01:31:53,589]\u001b[0m Trial 46 finished with value: 0.5299630761637101 and parameters: {'learning_rate': 0.016913612554219064, 'subsample': 0.7069763694569811, 'colsample_bytree': 0.11921220606758698, 'max_depth': 9, 'scale_pos_weight': 5}. Best is trial 33 with value: 0.6202306058867416.\u001b[0m\n",
      "\u001b[32m[I 2022-03-13 01:31:55,364]\u001b[0m Trial 47 finished with value: 0.5971289174901712 and parameters: {'learning_rate': 0.21757808290414096, 'subsample': 0.2526842002171391, 'colsample_bytree': 0.85044980419812, 'max_depth': 5, 'scale_pos_weight': 8}. Best is trial 33 with value: 0.6202306058867416.\u001b[0m\n",
      "\u001b[32m[I 2022-03-13 01:31:58,275]\u001b[0m Trial 48 finished with value: 0.6041500292174751 and parameters: {'learning_rate': 0.09655471721296449, 'subsample': 0.8013263947270669, 'colsample_bytree': 0.9395511973453787, 'max_depth': 19, 'scale_pos_weight': 9}. Best is trial 33 with value: 0.6202306058867416.\u001b[0m\n",
      "\u001b[32m[I 2022-03-13 01:32:00,626]\u001b[0m Trial 49 finished with value: 0.5724823074635742 and parameters: {'learning_rate': 0.15610511527767168, 'subsample': 0.9392420081631231, 'colsample_bytree': 0.7575832128494855, 'max_depth': 16, 'scale_pos_weight': 10}. Best is trial 33 with value: 0.6202306058867416.\u001b[0m\n",
      "\u001b[32m[I 2022-03-13 01:32:04,629]\u001b[0m Trial 50 finished with value: 0.5856180360304071 and parameters: {'learning_rate': 0.059320542879626355, 'subsample': 0.8821863098881706, 'colsample_bytree': 0.6841553305999558, 'max_depth': 11, 'scale_pos_weight': 4}. Best is trial 33 with value: 0.6202306058867416.\u001b[0m\n",
      "\u001b[32m[I 2022-03-13 01:32:07,846]\u001b[0m Trial 51 finished with value: 0.6142959490857927 and parameters: {'learning_rate': 0.11800390980761749, 'subsample': 0.8400112855477099, 'colsample_bytree': 0.8986090688217667, 'max_depth': 20, 'scale_pos_weight': 9}. Best is trial 33 with value: 0.6202306058867416.\u001b[0m\n",
      "\u001b[32m[I 2022-03-13 01:32:11,011]\u001b[0m Trial 52 finished with value: 0.614827503642993 and parameters: {'learning_rate': 0.12003253003453296, 'subsample': 0.8148543464275224, 'colsample_bytree': 0.849868982018811, 'max_depth': 20, 'scale_pos_weight': 9}. Best is trial 33 with value: 0.6202306058867416.\u001b[0m\n",
      "\u001b[32m[I 2022-03-13 01:32:14,077]\u001b[0m Trial 53 finished with value: 0.5962140022732257 and parameters: {'learning_rate': 0.1216221263367133, 'subsample': 0.8403030361185841, 'colsample_bytree': 0.9939153913037628, 'max_depth': 20, 'scale_pos_weight': 9}. Best is trial 33 with value: 0.6202306058867416.\u001b[0m\n",
      "\u001b[32m[I 2022-03-13 01:32:17,301]\u001b[0m Trial 54 finished with value: 0.6258987085247679 and parameters: {'learning_rate': 0.10710006520631823, 'subsample': 0.7434475633453672, 'colsample_bytree': 0.8498991447226938, 'max_depth': 20, 'scale_pos_weight': 10}. Best is trial 54 with value: 0.6258987085247679.\u001b[0m\n",
      "\u001b[32m[I 2022-03-13 01:32:20,518]\u001b[0m Trial 55 finished with value: 0.5793774660672459 and parameters: {'learning_rate': 0.1050707281476422, 'subsample': 0.636357450848321, 'colsample_bytree': 0.8871180221266088, 'max_depth': 19, 'scale_pos_weight': 9}. Best is trial 54 with value: 0.6258987085247679.\u001b[0m\n",
      "\u001b[32m[I 2022-03-13 01:32:23,518]\u001b[0m Trial 56 finished with value: 0.6093929879644167 and parameters: {'learning_rate': 0.14636712430650875, 'subsample': 0.733949079410348, 'colsample_bytree': 0.9585310225772345, 'max_depth': 18, 'scale_pos_weight': 8}. Best is trial 54 with value: 0.6258987085247679.\u001b[0m\n",
      "\u001b[32m[I 2022-03-13 01:32:25,930]\u001b[0m Trial 57 finished with value: 0.6012447639753837 and parameters: {'learning_rate': 0.2223196032409012, 'subsample': 0.6817103796670269, 'colsample_bytree': 0.9204488233513963, 'max_depth': 20, 'scale_pos_weight': 10}. Best is trial 54 with value: 0.6258987085247679.\u001b[0m\n",
      "\u001b[32m[I 2022-03-13 01:32:28,389]\u001b[0m Trial 58 finished with value: 0.5974647288195676 and parameters: {'learning_rate': 0.17516030223645349, 'subsample': 0.7681710612959087, 'colsample_bytree': 0.4483932924665858, 'max_depth': 19, 'scale_pos_weight': 9}. Best is trial 54 with value: 0.6258987085247679.\u001b[0m\n",
      "\u001b[32m[I 2022-03-13 01:32:31,200]\u001b[0m Trial 59 finished with value: 0.5968958260865842 and parameters: {'learning_rate': 0.12134216883733417, 'subsample': 0.8207359229160769, 'colsample_bytree': 0.8460232571864114, 'max_depth': 20, 'scale_pos_weight': 8}. Best is trial 54 with value: 0.6258987085247679.\u001b[0m\n",
      "\u001b[32m[I 2022-03-13 01:32:34,542]\u001b[0m Trial 60 finished with value: 0.5886819018342552 and parameters: {'learning_rate': 0.10046249830697195, 'subsample': 0.40771843342464476, 'colsample_bytree': 0.8062693827604459, 'max_depth': 19, 'scale_pos_weight': 9}. Best is trial 54 with value: 0.6258987085247679.\u001b[0m\n",
      "\u001b[32m[I 2022-03-13 01:32:37,898]\u001b[0m Trial 61 finished with value: 0.5948577675393529 and parameters: {'learning_rate': 0.08061890905524723, 'subsample': 0.8669479048919113, 'colsample_bytree': 0.855307653612137, 'max_depth': 20, 'scale_pos_weight': 10}. Best is trial 54 with value: 0.6258987085247679.\u001b[0m\n",
      "\u001b[32m[I 2022-03-13 01:32:41,462]\u001b[0m Trial 62 finished with value: 0.5901056454220958 and parameters: {'learning_rate': 0.12078221120803347, 'subsample': 0.9710313606914935, 'colsample_bytree': 0.7556377854358991, 'max_depth': 20, 'scale_pos_weight': 10}. Best is trial 54 with value: 0.6258987085247679.\u001b[0m\n",
      "\u001b[32m[I 2022-03-13 01:32:45,081]\u001b[0m Trial 63 finished with value: 0.6029175021641746 and parameters: {'learning_rate': 0.11035638677388482, 'subsample': 0.9093105053936397, 'colsample_bytree': 0.8874748001262993, 'max_depth': 18, 'scale_pos_weight': 10}. Best is trial 54 with value: 0.6258987085247679.\u001b[0m\n",
      "\u001b[32m[I 2022-03-13 01:32:48,176]\u001b[0m Trial 64 finished with value: 0.5910260403775551 and parameters: {'learning_rate': 0.13676512160577214, 'subsample': 0.936468404703175, 'colsample_bytree': 0.9652400716550058, 'max_depth': 19, 'scale_pos_weight': 10}. Best is trial 54 with value: 0.6258987085247679.\u001b[0m\n",
      "\u001b[32m[I 2022-03-13 01:32:52,328]\u001b[0m Trial 65 finished with value: 0.5974259064153505 and parameters: {'learning_rate': 0.07192655911141925, 'subsample': 0.7802082689570649, 'colsample_bytree': 0.9243245035151777, 'max_depth': 20, 'scale_pos_weight': 9}. Best is trial 54 with value: 0.6258987085247679.\u001b[0m\n",
      "\u001b[32m[I 2022-03-13 01:32:54,646]\u001b[0m Trial 66 finished with value: 0.5744669505408587 and parameters: {'learning_rate': 0.22530831277713978, 'subsample': 0.7502701164504073, 'colsample_bytree': 0.8315797595379264, 'max_depth': 18, 'scale_pos_weight': 10}. Best is trial 54 with value: 0.6258987085247679.\u001b[0m\n",
      "\u001b[32m[I 2022-03-13 01:32:57,038]\u001b[0m Trial 67 finished with value: 0.6057574604372736 and parameters: {'learning_rate': 0.16534825551608165, 'subsample': 0.8587817385310617, 'colsample_bytree': 0.7956891114747157, 'max_depth': 19, 'scale_pos_weight': 9}. Best is trial 54 with value: 0.6258987085247679.\u001b[0m\n",
      "\u001b[32m[I 2022-03-13 01:33:00,095]\u001b[0m Trial 68 finished with value: 0.603789981496167 and parameters: {'learning_rate': 0.09098151255361436, 'subsample': 0.8267034600662025, 'colsample_bytree': 0.8762408570821116, 'max_depth': 20, 'scale_pos_weight': 10}. Best is trial 54 with value: 0.6258987085247679.\u001b[0m\n",
      "\u001b[32m[I 2022-03-13 01:33:07,455]\u001b[0m Trial 69 finished with value: 0.5906743705127426 and parameters: {'learning_rate': 0.010087547848704925, 'subsample': 0.9358577287879074, 'colsample_bytree': 0.984731189492835, 'max_depth': 17, 'scale_pos_weight': 8}. Best is trial 54 with value: 0.6258987085247679.\u001b[0m\n",
      "\u001b[32m[I 2022-03-13 01:33:10,471]\u001b[0m Trial 70 finished with value: 0.5911750704030762 and parameters: {'learning_rate': 0.1491072034432331, 'subsample': 0.9721239604231718, 'colsample_bytree': 0.9097800318844435, 'max_depth': 19, 'scale_pos_weight': 9}. Best is trial 54 with value: 0.6258987085247679.\u001b[0m\n",
      "\u001b[32m[I 2022-03-13 01:33:12,667]\u001b[0m Trial 71 finished with value: 0.6125670112351578 and parameters: {'learning_rate': 0.19222565323677876, 'subsample': 0.738483888057043, 'colsample_bytree': 0.9532359410642574, 'max_depth': 18, 'scale_pos_weight': 8}. Best is trial 54 with value: 0.6258987085247679.\u001b[0m\n",
      "\u001b[32m[I 2022-03-13 01:33:14,989]\u001b[0m Trial 72 finished with value: 0.613639678926866 and parameters: {'learning_rate': 0.17982617036749726, 'subsample': 0.7037459090670083, 'colsample_bytree': 0.9736063544311836, 'max_depth': 20, 'scale_pos_weight': 7}. Best is trial 54 with value: 0.6258987085247679.\u001b[0m\n",
      "\u001b[32m[I 2022-03-13 01:33:16,955]\u001b[0m Trial 73 finished with value: 0.5830482008852179 and parameters: {'learning_rate': 0.1853640046911035, 'subsample': 0.6958190936574045, 'colsample_bytree': 0.9700623725287943, 'max_depth': 18, 'scale_pos_weight': 7}. Best is trial 54 with value: 0.6258987085247679.\u001b[0m\n",
      "\u001b[32m[I 2022-03-13 01:33:18,721]\u001b[0m Trial 74 finished with value: 0.5870889517837521 and parameters: {'learning_rate': 0.24737577411089687, 'subsample': 0.7469194138768882, 'colsample_bytree': 0.9991064767005207, 'max_depth': 19, 'scale_pos_weight': 6}. Best is trial 54 with value: 0.6258987085247679.\u001b[0m\n",
      "\u001b[32m[I 2022-03-13 01:33:20,617]\u001b[0m Trial 75 finished with value: 0.5897512287545548 and parameters: {'learning_rate': 0.20213013234613805, 'subsample': 0.6535680667201071, 'colsample_bytree': 0.9293442507063964, 'max_depth': 16, 'scale_pos_weight': 7}. Best is trial 54 with value: 0.6258987085247679.\u001b[0m\n",
      "\u001b[32m[I 2022-03-13 01:33:23,200]\u001b[0m Trial 76 finished with value: 0.5860539224257311 and parameters: {'learning_rate': 0.16988588461602436, 'subsample': 0.7821361524807143, 'colsample_bytree': 0.9585592462233425, 'max_depth': 17, 'scale_pos_weight': 8}. Best is trial 54 with value: 0.6258987085247679.\u001b[0m\n",
      "\u001b[32m[I 2022-03-13 01:33:25,321]\u001b[0m Trial 77 finished with value: 0.5889362106842222 and parameters: {'learning_rate': 0.1867099157615321, 'subsample': 0.7193285563981859, 'colsample_bytree': 0.8924377142497063, 'max_depth': 20, 'scale_pos_weight': 7}. Best is trial 54 with value: 0.6258987085247679.\u001b[0m\n",
      "\u001b[32m[I 2022-03-13 01:33:27,181]\u001b[0m Trial 78 finished with value: 0.5840383116133366 and parameters: {'learning_rate': 0.2268773136566486, 'subsample': 0.6694801727718415, 'colsample_bytree': 0.9076679421851975, 'max_depth': 7, 'scale_pos_weight': 8}. Best is trial 54 with value: 0.6258987085247679.\u001b[0m\n",
      "\u001b[32m[I 2022-03-13 01:33:29,171]\u001b[0m Trial 79 finished with value: 0.5883584421742317 and parameters: {'learning_rate': 0.20420774470925532, 'subsample': 0.817739816991099, 'colsample_bytree': 0.938801120051906, 'max_depth': 18, 'scale_pos_weight': 7}. Best is trial 54 with value: 0.6258987085247679.\u001b[0m\n",
      "\u001b[32m[I 2022-03-13 01:33:31,584]\u001b[0m Trial 80 finished with value: 0.5870653367088341 and parameters: {'learning_rate': 0.1358127841442942, 'subsample': 0.6188215955578039, 'colsample_bytree': 0.8693174789062423, 'max_depth': 20, 'scale_pos_weight': 8}. Best is trial 54 with value: 0.6258987085247679.\u001b[0m\n",
      "\u001b[32m[I 2022-03-13 01:33:34,089]\u001b[0m Trial 81 finished with value: 0.6052137470108303 and parameters: {'learning_rate': 0.12603301113240606, 'subsample': 0.876209428115436, 'colsample_bytree': 0.8232876223932765, 'max_depth': 20, 'scale_pos_weight': 9}. Best is trial 54 with value: 0.6258987085247679.\u001b[0m\n",
      "\u001b[32m[I 2022-03-13 01:33:36,658]\u001b[0m Trial 82 finished with value: 0.5783545103317909 and parameters: {'learning_rate': 0.11449531163587282, 'subsample': 0.9995215329450237, 'colsample_bytree': 0.8462499425883476, 'max_depth': 19, 'scale_pos_weight': 6}. Best is trial 54 with value: 0.6258987085247679.\u001b[0m\n",
      "\u001b[32m[I 2022-03-13 01:33:39,613]\u001b[0m Trial 83 finished with value: 0.6010959876898732 and parameters: {'learning_rate': 0.14798465727437976, 'subsample': 0.7889924501820151, 'colsample_bytree': 0.9687558994186274, 'max_depth': 20, 'scale_pos_weight': 9}. Best is trial 54 with value: 0.6258987085247679.\u001b[0m\n",
      "\u001b[32m[I 2022-03-13 01:33:42,531]\u001b[0m Trial 84 finished with value: 0.5712632948286862 and parameters: {'learning_rate': 0.16399274284693607, 'subsample': 0.9172652555095837, 'colsample_bytree': 0.28018710538898073, 'max_depth': 19, 'scale_pos_weight': 10}. Best is trial 54 with value: 0.6258987085247679.\u001b[0m\n",
      "\u001b[32m[I 2022-03-13 01:33:45,429]\u001b[0m Trial 85 finished with value: 0.5784272809872081 and parameters: {'learning_rate': 0.1912007309874467, 'subsample': 0.7453042504732208, 'colsample_bytree': 0.7836879856920103, 'max_depth': 14, 'scale_pos_weight': 8}. Best is trial 54 with value: 0.6258987085247679.\u001b[0m\n",
      "\u001b[32m[I 2022-03-13 01:33:48,960]\u001b[0m Trial 86 finished with value: 0.5907568395898337 and parameters: {'learning_rate': 0.10039776870607547, 'subsample': 0.8447392807182801, 'colsample_bytree': 0.8679475472248416, 'max_depth': 20, 'scale_pos_weight': 10}. Best is trial 54 with value: 0.6258987085247679.\u001b[0m\n",
      "\u001b[32m[I 2022-03-13 01:33:51,224]\u001b[0m Trial 87 finished with value: 0.5756033929350125 and parameters: {'learning_rate': 0.21486331306886786, 'subsample': 0.892477189610694, 'colsample_bytree': 0.904702501332489, 'max_depth': 19, 'scale_pos_weight': 9}. Best is trial 54 with value: 0.6258987085247679.\u001b[0m\n",
      "\u001b[32m[I 2022-03-13 01:33:53,683]\u001b[0m Trial 88 finished with value: 0.5987748653955688 and parameters: {'learning_rate': 0.22998548853468914, 'subsample': 0.8107784882465212, 'colsample_bytree': 0.94574881576473, 'max_depth': 20, 'scale_pos_weight': 9}. Best is trial 54 with value: 0.6258987085247679.\u001b[0m\n",
      "\u001b[32m[I 2022-03-13 01:33:57,221]\u001b[0m Trial 89 finished with value: 0.6011905883250478 and parameters: {'learning_rate': 0.08294481679577616, 'subsample': 0.7188756399409366, 'colsample_bytree': 0.982541624561136, 'max_depth': 18, 'scale_pos_weight': 8}. Best is trial 54 with value: 0.6258987085247679.\u001b[0m\n",
      "\u001b[32m[I 2022-03-13 01:33:59,948]\u001b[0m Trial 90 finished with value: 0.5780507647163572 and parameters: {'learning_rate': 0.1321808441976955, 'subsample': 0.7672693537427915, 'colsample_bytree': 0.7177814364397971, 'max_depth': 19, 'scale_pos_weight': 7}. Best is trial 54 with value: 0.6258987085247679.\u001b[0m\n",
      "\u001b[32m[I 2022-03-13 01:34:07,039]\u001b[0m Trial 91 finished with value: 0.606076828957401 and parameters: {'learning_rate': 0.01173418522002688, 'subsample': 0.7332822230923691, 'colsample_bytree': 0.9543003217347849, 'max_depth': 17, 'scale_pos_weight': 8}. Best is trial 54 with value: 0.6258987085247679.\u001b[0m\n",
      "\u001b[32m[I 2022-03-13 01:34:09,906]\u001b[0m Trial 92 finished with value: 0.6120371037112629 and parameters: {'learning_rate': 0.1454906585840168, 'subsample': 0.6850504866478555, 'colsample_bytree': 0.9265801957760087, 'max_depth': 18, 'scale_pos_weight': 8}. Best is trial 54 with value: 0.6258987085247679.\u001b[0m\n",
      "\u001b[32m[I 2022-03-13 01:34:12,699]\u001b[0m Trial 93 finished with value: 0.5973242299978092 and parameters: {'learning_rate': 0.1135896430646188, 'subsample': 0.6946295316845783, 'colsample_bytree': 0.9227175967854889, 'max_depth': 20, 'scale_pos_weight': 8}. Best is trial 54 with value: 0.6258987085247679.\u001b[0m\n",
      "\u001b[32m[I 2022-03-13 01:34:14,869]\u001b[0m Trial 94 finished with value: 0.5939045543676914 and parameters: {'learning_rate': 0.1567140244708644, 'subsample': 0.5508143604740139, 'colsample_bytree': 0.8387604011574974, 'max_depth': 13, 'scale_pos_weight': 10}. Best is trial 54 with value: 0.6258987085247679.\u001b[0m\n",
      "\u001b[32m[I 2022-03-13 01:34:16,901]\u001b[0m Trial 95 finished with value: 0.5912634376768116 and parameters: {'learning_rate': 0.1792032954871495, 'subsample': 0.11677816562849685, 'colsample_bytree': 0.861604183693838, 'max_depth': 18, 'scale_pos_weight': 9}. Best is trial 54 with value: 0.6258987085247679.\u001b[0m\n",
      "\u001b[32m[I 2022-03-13 01:34:19,178]\u001b[0m Trial 96 finished with value: 0.6031837574070137 and parameters: {'learning_rate': 0.14226383773512313, 'subsample': 0.8471229920322192, 'colsample_bytree': 0.8874203311259348, 'max_depth': 19, 'scale_pos_weight': 8}. Best is trial 54 with value: 0.6258987085247679.\u001b[0m\n",
      "\u001b[32m[I 2022-03-13 01:34:21,726]\u001b[0m Trial 97 finished with value: 0.5728803349409826 and parameters: {'learning_rate': 0.10649928783857468, 'subsample': 0.6524005071798873, 'colsample_bytree': 0.5629928088998172, 'max_depth': 20, 'scale_pos_weight': 7}. Best is trial 54 with value: 0.6258987085247679.\u001b[0m\n",
      "\u001b[32m[I 2022-03-13 01:34:23,497]\u001b[0m Trial 98 finished with value: 0.5941636722745759 and parameters: {'learning_rate': 0.24946938940100638, 'subsample': 0.7881131685435409, 'colsample_bytree': 0.934409351290752, 'max_depth': 15, 'scale_pos_weight': 10}. Best is trial 54 with value: 0.6258987085247679.\u001b[0m\n",
      "\u001b[32m[I 2022-03-13 01:34:26,037]\u001b[0m Trial 99 finished with value: 0.5920928001120953 and parameters: {'learning_rate': 0.12607919638368906, 'subsample': 0.8305528384784538, 'colsample_bytree': 0.8087949169998349, 'max_depth': 19, 'scale_pos_weight': 3}. Best is trial 54 with value: 0.6258987085247679.\u001b[0m\n"
     ]
    }
   ],
   "source": [
    "study = optuna.create_study(direction=\"maximize\")\n",
    "study.optimize(objective, n_trials=100) #10000"
   ]
  },
  {
   "cell_type": "code",
   "execution_count": 100,
   "metadata": {},
   "outputs": [
    {
     "name": "stdout",
     "output_type": "stream",
     "text": [
      "Number of finished trials: 100\n",
      "Best trial:\n",
      "  Value: 0.6258987085247679\n",
      "  Params: \n",
      "    learning_rate: 0.10710006520631823\n",
      "    subsample: 0.7434475633453672\n",
      "    colsample_bytree: 0.8498991447226938\n",
      "    max_depth: 20\n",
      "    scale_pos_weight: 10\n"
     ]
    }
   ],
   "source": [
    "print(\"Number of finished trials: {}\".format(len(study.trials)))\n",
    "\n",
    "print(\"Best trial:\")\n",
    "trial = study.best_trial\n",
    "\n",
    "print(\"  Value: {}\".format(trial.value))\n",
    "\n",
    "print(\"  Params: \")\n",
    "for key, value in trial.params.items():\n",
    "    print(\"    {}: {}\".format(key, value))"
   ]
  },
  {
   "cell_type": "code",
   "execution_count": 101,
   "metadata": {},
   "outputs": [
    {
     "data": {
      "text/plain": [
       "{'learning_rate': 0.10710006520631823,\n",
       " 'subsample': 0.7434475633453672,\n",
       " 'colsample_bytree': 0.8498991447226938,\n",
       " 'max_depth': 20,\n",
       " 'scale_pos_weight': 10}"
      ]
     },
     "execution_count": 101,
     "metadata": {},
     "output_type": "execute_result"
    }
   ],
   "source": [
    "trial.params"
   ]
  },
  {
   "cell_type": "code",
   "execution_count": 104,
   "metadata": {},
   "outputs": [
    {
     "name": "stdout",
     "output_type": "stream",
     "text": [
      "Number of finished trials: 100\n",
      "Best trial:\n",
      "  Value: 0.6258987085247679\n",
      "  Params: \n",
      "    learning_rate: 0.10710006520631823\n",
      "    subsample: 0.7434475633453672\n",
      "    colsample_bytree: 0.8498991447226938\n",
      "    max_depth: 20\n",
      "    scale_pos_weight: 10\n",
      "err:  0.7666666666666667\n",
      "err:  0.912529550827423\n",
      "err:  0.9411764705882353\n",
      "err:  0.9195402298850576\n",
      "err:  0.9408983451536643\n",
      "0.8961622526242093\n"
     ]
    }
   ],
   "source": [
    "oof_f1=[]\n",
    "lgb_oof_predictions=[]\n",
    "\n",
    "\n",
    "param = trial.params \n",
    "print(\"Number of finished trials: {}\".format(len(study.trials)))\n",
    "\n",
    "print(\"Best trial:\")\n",
    "trial = study.best_trial\n",
    "\n",
    "print(\"  Value: {}\".format(trial.value))\n",
    "\n",
    "print(\"  Params: \")\n",
    "for key, value in trial.params.items():\n",
    "    print(\"    {}: {}\".format(key, value))\n",
    "\n",
    "\n",
    "\n",
    "fold=StratifiedKFold(n_splits=5)#15#5#10\n",
    "i=1\n",
    "\n",
    "for train_index, test_index in fold.split(X_,y_):\n",
    "        \n",
    "    X_train, X_test = X_.iloc[train_index], X_.iloc[test_index]\n",
    "    y_train, y_test = y_.iloc[train_index], y_.iloc[test_index]\n",
    "    \n",
    "    model = LGBMClassifier(**param ,n_estimators=10000)\n",
    "\n",
    "    model.fit(X_train,y_train,eval_set=[(X_train,y_train),(X_test, y_test)], early_stopping_rounds=500, verbose = False)#erly100\n",
    "    preds=model.predict(X_test)\n",
    "    print(\"err: \",f1_score(y_test,preds))\n",
    "    oof_f1.append(f1_score(y_test,preds))\n",
    "    p2 = model.predict_proba(test_df[X_.columns])[:, -1]\n",
    "    lgb_oof_predictions.append(p2)\n",
    "    \n",
    "print(np.mean(oof_f1))"
   ]
  },
  {
   "cell_type": "code",
   "execution_count": 105,
   "metadata": {},
   "outputs": [],
   "source": [
    "pred_lgb = pd.DataFrame(lgb_oof_predictions).T"
   ]
  },
  {
   "cell_type": "code",
   "execution_count": 112,
   "metadata": {},
   "outputs": [],
   "source": [
    "pred_cat = pd.DataFrame(oof_predictions).T"
   ]
  },
  {
   "cell_type": "code",
   "execution_count": 108,
   "metadata": {},
   "outputs": [
    {
     "data": {
      "text/html": [
       "<div>\n",
       "<style scoped>\n",
       "    .dataframe tbody tr th:only-of-type {\n",
       "        vertical-align: middle;\n",
       "    }\n",
       "\n",
       "    .dataframe tbody tr th {\n",
       "        vertical-align: top;\n",
       "    }\n",
       "\n",
       "    .dataframe thead th {\n",
       "        text-align: right;\n",
       "    }\n",
       "</style>\n",
       "<table border=\"1\" class=\"dataframe\">\n",
       "  <thead>\n",
       "    <tr style=\"text-align: right;\">\n",
       "      <th></th>\n",
       "      <th>0</th>\n",
       "      <th>1</th>\n",
       "      <th>2</th>\n",
       "      <th>3</th>\n",
       "      <th>4</th>\n",
       "    </tr>\n",
       "  </thead>\n",
       "  <tbody>\n",
       "    <tr>\n",
       "      <th>0</th>\n",
       "      <td>0.014229</td>\n",
       "      <td>0.002802</td>\n",
       "      <td>0.000092</td>\n",
       "      <td>0.001028</td>\n",
       "      <td>1.608459e-05</td>\n",
       "    </tr>\n",
       "    <tr>\n",
       "      <th>1</th>\n",
       "      <td>0.569537</td>\n",
       "      <td>0.898509</td>\n",
       "      <td>0.965617</td>\n",
       "      <td>0.937945</td>\n",
       "      <td>8.589057e-01</td>\n",
       "    </tr>\n",
       "    <tr>\n",
       "      <th>2</th>\n",
       "      <td>0.003036</td>\n",
       "      <td>0.001038</td>\n",
       "      <td>0.000006</td>\n",
       "      <td>0.000431</td>\n",
       "      <td>5.255449e-07</td>\n",
       "    </tr>\n",
       "    <tr>\n",
       "      <th>3</th>\n",
       "      <td>0.073400</td>\n",
       "      <td>0.292327</td>\n",
       "      <td>0.487805</td>\n",
       "      <td>0.659851</td>\n",
       "      <td>4.094120e-01</td>\n",
       "    </tr>\n",
       "    <tr>\n",
       "      <th>4</th>\n",
       "      <td>0.078206</td>\n",
       "      <td>0.003957</td>\n",
       "      <td>0.001096</td>\n",
       "      <td>0.007918</td>\n",
       "      <td>1.530104e-03</td>\n",
       "    </tr>\n",
       "  </tbody>\n",
       "</table>\n",
       "</div>"
      ],
      "text/plain": [
       "          0         1         2         3             4\n",
       "0  0.014229  0.002802  0.000092  0.001028  1.608459e-05\n",
       "1  0.569537  0.898509  0.965617  0.937945  8.589057e-01\n",
       "2  0.003036  0.001038  0.000006  0.000431  5.255449e-07\n",
       "3  0.073400  0.292327  0.487805  0.659851  4.094120e-01\n",
       "4  0.078206  0.003957  0.001096  0.007918  1.530104e-03"
      ]
     },
     "execution_count": 108,
     "metadata": {},
     "output_type": "execute_result"
    }
   ],
   "source": [
    "pred_lgb.head()"
   ]
  },
  {
   "cell_type": "code",
   "execution_count": 113,
   "metadata": {},
   "outputs": [],
   "source": [
    "all_pred = pred_lgb.join(pred_cat, lsuffix=\"_lgb\", rsuffix=\"_cat\")"
   ]
  },
  {
   "cell_type": "code",
   "execution_count": 114,
   "metadata": {},
   "outputs": [
    {
     "data": {
      "text/html": [
       "<div>\n",
       "<style scoped>\n",
       "    .dataframe tbody tr th:only-of-type {\n",
       "        vertical-align: middle;\n",
       "    }\n",
       "\n",
       "    .dataframe tbody tr th {\n",
       "        vertical-align: top;\n",
       "    }\n",
       "\n",
       "    .dataframe thead th {\n",
       "        text-align: right;\n",
       "    }\n",
       "</style>\n",
       "<table border=\"1\" class=\"dataframe\">\n",
       "  <thead>\n",
       "    <tr style=\"text-align: right;\">\n",
       "      <th></th>\n",
       "      <th>0_lgb</th>\n",
       "      <th>1_lgb</th>\n",
       "      <th>2_lgb</th>\n",
       "      <th>3_lgb</th>\n",
       "      <th>4_lgb</th>\n",
       "      <th>0_cat</th>\n",
       "      <th>1_cat</th>\n",
       "      <th>2_cat</th>\n",
       "      <th>3_cat</th>\n",
       "      <th>4_cat</th>\n",
       "    </tr>\n",
       "  </thead>\n",
       "  <tbody>\n",
       "    <tr>\n",
       "      <th>0</th>\n",
       "      <td>0.014229</td>\n",
       "      <td>0.002802</td>\n",
       "      <td>0.000092</td>\n",
       "      <td>0.001028</td>\n",
       "      <td>1.608459e-05</td>\n",
       "      <td>0.082831</td>\n",
       "      <td>0.004536</td>\n",
       "      <td>0.000040</td>\n",
       "      <td>0.005147</td>\n",
       "      <td>0.007226</td>\n",
       "    </tr>\n",
       "    <tr>\n",
       "      <th>1</th>\n",
       "      <td>0.569537</td>\n",
       "      <td>0.898509</td>\n",
       "      <td>0.965617</td>\n",
       "      <td>0.937945</td>\n",
       "      <td>8.589057e-01</td>\n",
       "      <td>0.214366</td>\n",
       "      <td>0.661427</td>\n",
       "      <td>0.150492</td>\n",
       "      <td>0.710808</td>\n",
       "      <td>0.387974</td>\n",
       "    </tr>\n",
       "    <tr>\n",
       "      <th>2</th>\n",
       "      <td>0.003036</td>\n",
       "      <td>0.001038</td>\n",
       "      <td>0.000006</td>\n",
       "      <td>0.000431</td>\n",
       "      <td>5.255449e-07</td>\n",
       "      <td>0.025720</td>\n",
       "      <td>0.005377</td>\n",
       "      <td>0.000002</td>\n",
       "      <td>0.001209</td>\n",
       "      <td>0.000486</td>\n",
       "    </tr>\n",
       "    <tr>\n",
       "      <th>3</th>\n",
       "      <td>0.073400</td>\n",
       "      <td>0.292327</td>\n",
       "      <td>0.487805</td>\n",
       "      <td>0.659851</td>\n",
       "      <td>4.094120e-01</td>\n",
       "      <td>0.113783</td>\n",
       "      <td>0.408847</td>\n",
       "      <td>0.284758</td>\n",
       "      <td>0.025756</td>\n",
       "      <td>0.243567</td>\n",
       "    </tr>\n",
       "    <tr>\n",
       "      <th>4</th>\n",
       "      <td>0.078206</td>\n",
       "      <td>0.003957</td>\n",
       "      <td>0.001096</td>\n",
       "      <td>0.007918</td>\n",
       "      <td>1.530104e-03</td>\n",
       "      <td>0.021039</td>\n",
       "      <td>0.017409</td>\n",
       "      <td>0.001490</td>\n",
       "      <td>0.006232</td>\n",
       "      <td>0.058747</td>\n",
       "    </tr>\n",
       "  </tbody>\n",
       "</table>\n",
       "</div>"
      ],
      "text/plain": [
       "      0_lgb     1_lgb     2_lgb     3_lgb         4_lgb     0_cat     1_cat  \\\n",
       "0  0.014229  0.002802  0.000092  0.001028  1.608459e-05  0.082831  0.004536   \n",
       "1  0.569537  0.898509  0.965617  0.937945  8.589057e-01  0.214366  0.661427   \n",
       "2  0.003036  0.001038  0.000006  0.000431  5.255449e-07  0.025720  0.005377   \n",
       "3  0.073400  0.292327  0.487805  0.659851  4.094120e-01  0.113783  0.408847   \n",
       "4  0.078206  0.003957  0.001096  0.007918  1.530104e-03  0.021039  0.017409   \n",
       "\n",
       "      2_cat     3_cat     4_cat  \n",
       "0  0.000040  0.005147  0.007226  \n",
       "1  0.150492  0.710808  0.387974  \n",
       "2  0.000002  0.001209  0.000486  \n",
       "3  0.284758  0.025756  0.243567  \n",
       "4  0.001490  0.006232  0.058747  "
      ]
     },
     "execution_count": 114,
     "metadata": {},
     "output_type": "execute_result"
    }
   ],
   "source": [
    "all_pred.head()"
   ]
  },
  {
   "cell_type": "markdown",
   "metadata": {},
   "source": [
    "## Submission"
   ]
  },
  {
   "cell_type": "code",
   "execution_count": 115,
   "metadata": {},
   "outputs": [],
   "source": [
    "mean_pred = all_pred.mean(axis = 1)"
   ]
  },
  {
   "cell_type": "code",
   "execution_count": 116,
   "metadata": {},
   "outputs": [],
   "source": [
    "pred = np.where(mean_pred > 0.45, 1 , 0)"
   ]
  },
  {
   "cell_type": "code",
   "execution_count": 117,
   "metadata": {},
   "outputs": [
    {
     "data": {
      "text/plain": [
       "0    0\n",
       "1    1\n",
       "2    0\n",
       "3    0\n",
       "4    0\n",
       "dtype: int32"
      ]
     },
     "execution_count": 117,
     "metadata": {},
     "output_type": "execute_result"
    }
   ],
   "source": [
    "pd.Series(pred).head()"
   ]
  },
  {
   "cell_type": "code",
   "execution_count": 122,
   "metadata": {},
   "outputs": [],
   "source": [
    "sub = pd.read_csv('SampleSubmission.csv')"
   ]
  },
  {
   "cell_type": "code",
   "execution_count": 123,
   "metadata": {},
   "outputs": [],
   "source": [
    "sub['Response'] = pred"
   ]
  },
  {
   "cell_type": "code",
   "execution_count": 124,
   "metadata": {},
   "outputs": [],
   "source": [
    "sub.to_csv('submit_lgb_cat_5fold.csv', index = False)"
   ]
  },
  {
   "cell_type": "code",
   "execution_count": null,
   "metadata": {},
   "outputs": [],
   "source": []
  }
 ],
 "metadata": {
  "kernelspec": {
   "display_name": "Python 3",
   "language": "python",
   "name": "python3"
  },
  "language_info": {
   "codemirror_mode": {
    "name": "ipython",
    "version": 3
   },
   "file_extension": ".py",
   "mimetype": "text/x-python",
   "name": "python",
   "nbconvert_exporter": "python",
   "pygments_lexer": "ipython3",
   "version": "3.8.3"
  }
 },
 "nbformat": 4,
 "nbformat_minor": 4
}
